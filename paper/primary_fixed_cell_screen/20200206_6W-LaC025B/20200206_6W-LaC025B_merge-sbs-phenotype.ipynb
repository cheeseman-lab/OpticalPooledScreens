{
 "cells": [
  {
   "cell_type": "markdown",
   "metadata": {
    "heading_collapsed": true
   },
   "source": [
    "# Initialize"
   ]
  },
  {
   "cell_type": "code",
   "execution_count": 1,
   "metadata": {
    "hidden": true
   },
   "outputs": [],
   "source": [
    "from ops.imports_ipython import *\n",
    "import glob"
   ]
  },
  {
   "cell_type": "code",
   "execution_count": null,
   "metadata": {
    "hidden": true
   },
   "outputs": [],
   "source": [
    "os.chdir('20200206_6W-LaC025B/')"
   ]
  },
  {
   "cell_type": "markdown",
   "metadata": {
    "heading_collapsed": true
   },
   "source": [
    "# combine tables"
   ]
  },
  {
   "cell_type": "code",
   "execution_count": 4,
   "metadata": {
    "hidden": true
   },
   "outputs": [],
   "source": [
    "ops.utils.combine_tables('cp_phenotype',output_filetype='hdf',subdir='process_ph/tables',n_jobs=-2,\n",
    "    usecols=[\n",
    "        'well','tile','cell',\n",
    "        'i','j','bounds_0','bounds_1','bounds_2','bounds_3',\n",
    "        # to identify cells on an acquisition border\n",
    "        'cell_dapi_min','cell_tubulin_min','cell_gh2ax_min','cell_phalloidin_min'\n",
    "        ]\n",
    ")\n",
    "os.rename('cp_phenotype.hdf','min_cp_phenotype.hdf')"
   ]
  },
  {
   "cell_type": "code",
   "execution_count": 5,
   "metadata": {
    "hidden": true
   },
   "outputs": [],
   "source": [
    "ops.utils.combine_tables('merge',output_filetype='hdf',subdir='alignment',n_jobs=-2)"
   ]
  },
  {
   "cell_type": "code",
   "execution_count": null,
   "metadata": {
    "hidden": true
   },
   "outputs": [],
   "source": [
    "ops.utils.combine_tables('cells',output_filetype='hdf',subdir='process_sbs/tables',n_jobs=-2)"
   ]
  },
  {
   "cell_type": "code",
   "execution_count": 7,
   "metadata": {
    "hidden": true
   },
   "outputs": [],
   "source": [
    "df_merged = pd.read_hdf('merge.hdf')"
   ]
  },
  {
   "cell_type": "markdown",
   "metadata": {
    "heading_collapsed": true
   },
   "source": [
    "# add distance to FOV center for each cell"
   ]
  },
  {
   "cell_type": "code",
   "execution_count": 8,
   "metadata": {
    "hidden": true
   },
   "outputs": [],
   "source": [
    "def fov_distance(df,i='i',j='j',dimensions=(2960,2960),suffix=''):\n",
    "    distance  = lambda x: np.sqrt((x[i]-(dimensions[0]/2))**2+(x[j]-(dimensions[1]/2))**2)\n",
    "    df['fov_distance'+suffix]=df.apply(distance,axis=1)\n",
    "    return df"
   ]
  },
  {
   "cell_type": "code",
   "execution_count": 9,
   "metadata": {
    "hidden": true
   },
   "outputs": [],
   "source": [
    "df_merged.pipe(fov_distance,i='i_0',j='j_0',suffix='_0');"
   ]
  },
  {
   "cell_type": "code",
   "execution_count": 10,
   "metadata": {
    "hidden": true
   },
   "outputs": [],
   "source": [
    "df_merged.pipe(fov_distance,i='i_1',j='j_1',dimensions=(1480,1480),suffix='_1');"
   ]
  },
  {
   "cell_type": "code",
   "execution_count": 11,
   "metadata": {
    "hidden": true
   },
   "outputs": [
    {
     "data": {
      "text/html": [
       "<div>\n",
       "<style scoped>\n",
       "    .dataframe tbody tr th:only-of-type {\n",
       "        vertical-align: middle;\n",
       "    }\n",
       "\n",
       "    .dataframe tbody tr th {\n",
       "        vertical-align: top;\n",
       "    }\n",
       "\n",
       "    .dataframe thead th {\n",
       "        text-align: right;\n",
       "    }\n",
       "</style>\n",
       "<table border=\"1\" class=\"dataframe\">\n",
       "  <thead>\n",
       "    <tr style=\"text-align: right;\">\n",
       "      <th></th>\n",
       "      <th>well</th>\n",
       "      <th>tile</th>\n",
       "      <th>cell_0</th>\n",
       "      <th>i_0</th>\n",
       "      <th>j_0</th>\n",
       "      <th>site</th>\n",
       "      <th>cell_1</th>\n",
       "      <th>i_1</th>\n",
       "      <th>j_1</th>\n",
       "      <th>distance</th>\n",
       "      <th>fov_distance_0</th>\n",
       "      <th>fov_distance_1</th>\n",
       "    </tr>\n",
       "  </thead>\n",
       "  <tbody>\n",
       "    <tr>\n",
       "      <th>740</th>\n",
       "      <td>B2</td>\n",
       "      <td>342</td>\n",
       "      <td>767</td>\n",
       "      <td>1482.901757</td>\n",
       "      <td>1423.120364</td>\n",
       "      <td>94</td>\n",
       "      <td>2819</td>\n",
       "      <td>740.293478</td>\n",
       "      <td>740.250000</td>\n",
       "      <td>0.509454</td>\n",
       "      <td>56.953605</td>\n",
       "      <td>0.385525</td>\n",
       "    </tr>\n",
       "    <tr>\n",
       "      <th>527</th>\n",
       "      <td>B3</td>\n",
       "      <td>399</td>\n",
       "      <td>547</td>\n",
       "      <td>1481.961259</td>\n",
       "      <td>1460.223366</td>\n",
       "      <td>104</td>\n",
       "      <td>2094</td>\n",
       "      <td>739.383838</td>\n",
       "      <td>739.636364</td>\n",
       "      <td>0.215850</td>\n",
       "      <td>19.873646</td>\n",
       "      <td>0.715462</td>\n",
       "    </tr>\n",
       "    <tr>\n",
       "      <th>520</th>\n",
       "      <td>A2</td>\n",
       "      <td>1098</td>\n",
       "      <td>551</td>\n",
       "      <td>1524.695728</td>\n",
       "      <td>1451.782914</td>\n",
       "      <td>284</td>\n",
       "      <td>2266</td>\n",
       "      <td>739.553571</td>\n",
       "      <td>740.580357</td>\n",
       "      <td>0.158697</td>\n",
       "      <td>52.857470</td>\n",
       "      <td>0.732197</td>\n",
       "    </tr>\n",
       "    <tr>\n",
       "      <th>600</th>\n",
       "      <td>B3</td>\n",
       "      <td>1152</td>\n",
       "      <td>623</td>\n",
       "      <td>1531.504400</td>\n",
       "      <td>1470.868537</td>\n",
       "      <td>300</td>\n",
       "      <td>2360</td>\n",
       "      <td>740.226087</td>\n",
       "      <td>739.182609</td>\n",
       "      <td>0.129945</td>\n",
       "      <td>52.307618</td>\n",
       "      <td>0.848082</td>\n",
       "    </tr>\n",
       "    <tr>\n",
       "      <th>596</th>\n",
       "      <td>A3</td>\n",
       "      <td>493</td>\n",
       "      <td>620</td>\n",
       "      <td>1494.085202</td>\n",
       "      <td>1428.413837</td>\n",
       "      <td>132</td>\n",
       "      <td>2379</td>\n",
       "      <td>740.148515</td>\n",
       "      <td>740.900990</td>\n",
       "      <td>0.249477</td>\n",
       "      <td>53.474528</td>\n",
       "      <td>0.913148</td>\n",
       "    </tr>\n",
       "  </tbody>\n",
       "</table>\n",
       "</div>"
      ],
      "text/plain": [
       "    well  tile  cell_0          i_0          j_0  site  cell_1         i_1  \\\n",
       "740   B2   342     767  1482.901757  1423.120364    94    2819  740.293478   \n",
       "527   B3   399     547  1481.961259  1460.223366   104    2094  739.383838   \n",
       "520   A2  1098     551  1524.695728  1451.782914   284    2266  739.553571   \n",
       "600   B3  1152     623  1531.504400  1470.868537   300    2360  740.226087   \n",
       "596   A3   493     620  1494.085202  1428.413837   132    2379  740.148515   \n",
       "\n",
       "            j_1  distance  fov_distance_0  fov_distance_1  \n",
       "740  740.250000  0.509454       56.953605        0.385525  \n",
       "527  739.636364  0.215850       19.873646        0.715462  \n",
       "520  740.580357  0.158697       52.857470        0.732197  \n",
       "600  739.182609  0.129945       52.307618        0.848082  \n",
       "596  740.900990  0.249477       53.474528        0.913148  "
      ]
     },
     "execution_count": 11,
     "metadata": {},
     "output_type": "execute_result"
    }
   ],
   "source": [
    "df_merged.sort_values(['fov_distance_1']).head()"
   ]
  },
  {
   "cell_type": "markdown",
   "metadata": {
    "heading_collapsed": true
   },
   "source": [
    "# add mapping info"
   ]
  },
  {
   "cell_type": "code",
   "execution_count": 12,
   "metadata": {
    "hidden": true
   },
   "outputs": [],
   "source": [
    "df_cells = pd.read_hdf('cells.hdf')"
   ]
  },
  {
   "cell_type": "code",
   "execution_count": 13,
   "metadata": {
    "hidden": true
   },
   "outputs": [
    {
     "data": {
      "text/html": [
       "<div>\n",
       "<style scoped>\n",
       "    .dataframe tbody tr th:only-of-type {\n",
       "        vertical-align: middle;\n",
       "    }\n",
       "\n",
       "    .dataframe tbody tr th {\n",
       "        vertical-align: top;\n",
       "    }\n",
       "\n",
       "    .dataframe thead th {\n",
       "        text-align: right;\n",
       "    }\n",
       "</style>\n",
       "<table border=\"1\" class=\"dataframe\">\n",
       "  <thead>\n",
       "    <tr style=\"text-align: right;\">\n",
       "      <th></th>\n",
       "      <th>cell</th>\n",
       "      <th>tile</th>\n",
       "      <th>well</th>\n",
       "      <th>Q_0</th>\n",
       "      <th>Q_1</th>\n",
       "      <th>Q_2</th>\n",
       "      <th>Q_3</th>\n",
       "      <th>Q_4</th>\n",
       "      <th>Q_5</th>\n",
       "      <th>Q_6</th>\n",
       "      <th>...</th>\n",
       "      <th>cell_barcode_count_0</th>\n",
       "      <th>cell_barcode_1</th>\n",
       "      <th>cell_barcode_count_1</th>\n",
       "      <th>barcode_count</th>\n",
       "      <th>sgRNA_0</th>\n",
       "      <th>gene_symbol_0</th>\n",
       "      <th>group_0</th>\n",
       "      <th>sgRNA_1</th>\n",
       "      <th>gene_symbol_1</th>\n",
       "      <th>group_1</th>\n",
       "    </tr>\n",
       "  </thead>\n",
       "  <tbody>\n",
       "    <tr>\n",
       "      <th>0</th>\n",
       "      <td>39</td>\n",
       "      <td>166</td>\n",
       "      <td>B3</td>\n",
       "      <td>1.000000</td>\n",
       "      <td>0.603699</td>\n",
       "      <td>0.741508</td>\n",
       "      <td>0.542767</td>\n",
       "      <td>0.620503</td>\n",
       "      <td>0.580547</td>\n",
       "      <td>1.000000</td>\n",
       "      <td>...</td>\n",
       "      <td>1</td>\n",
       "      <td>NaN</td>\n",
       "      <td>0.0</td>\n",
       "      <td>1</td>\n",
       "      <td>ACGATCGGTAATGGTCTGTT</td>\n",
       "      <td>nontargeting</td>\n",
       "      <td>essentials_11L2</td>\n",
       "      <td>NaN</td>\n",
       "      <td>NaN</td>\n",
       "      <td>NaN</td>\n",
       "    </tr>\n",
       "    <tr>\n",
       "      <th>1</th>\n",
       "      <td>40</td>\n",
       "      <td>166</td>\n",
       "      <td>B3</td>\n",
       "      <td>0.017423</td>\n",
       "      <td>1.000000</td>\n",
       "      <td>0.258728</td>\n",
       "      <td>0.600712</td>\n",
       "      <td>1.000000</td>\n",
       "      <td>0.606609</td>\n",
       "      <td>0.858215</td>\n",
       "      <td>...</td>\n",
       "      <td>1</td>\n",
       "      <td>NaN</td>\n",
       "      <td>0.0</td>\n",
       "      <td>1</td>\n",
       "      <td>NaN</td>\n",
       "      <td>NaN</td>\n",
       "      <td>NaN</td>\n",
       "      <td>NaN</td>\n",
       "      <td>NaN</td>\n",
       "      <td>NaN</td>\n",
       "    </tr>\n",
       "    <tr>\n",
       "      <th>2</th>\n",
       "      <td>41</td>\n",
       "      <td>166</td>\n",
       "      <td>B3</td>\n",
       "      <td>0.565950</td>\n",
       "      <td>1.000000</td>\n",
       "      <td>1.000000</td>\n",
       "      <td>1.000000</td>\n",
       "      <td>0.641829</td>\n",
       "      <td>0.575390</td>\n",
       "      <td>0.625679</td>\n",
       "      <td>...</td>\n",
       "      <td>1</td>\n",
       "      <td>NaN</td>\n",
       "      <td>0.0</td>\n",
       "      <td>1</td>\n",
       "      <td>CTAACGGACTGCAGAACGGA</td>\n",
       "      <td>nontargeting</td>\n",
       "      <td>essentials_11L2</td>\n",
       "      <td>NaN</td>\n",
       "      <td>NaN</td>\n",
       "      <td>NaN</td>\n",
       "    </tr>\n",
       "    <tr>\n",
       "      <th>3</th>\n",
       "      <td>44</td>\n",
       "      <td>166</td>\n",
       "      <td>B3</td>\n",
       "      <td>0.450070</td>\n",
       "      <td>0.548385</td>\n",
       "      <td>0.542662</td>\n",
       "      <td>0.451723</td>\n",
       "      <td>1.000000</td>\n",
       "      <td>0.721898</td>\n",
       "      <td>0.701255</td>\n",
       "      <td>...</td>\n",
       "      <td>2</td>\n",
       "      <td>NaN</td>\n",
       "      <td>0.0</td>\n",
       "      <td>2</td>\n",
       "      <td>GCTTCACATGCATACCATGG</td>\n",
       "      <td>PPAN</td>\n",
       "      <td>essentials_11L2</td>\n",
       "      <td>NaN</td>\n",
       "      <td>NaN</td>\n",
       "      <td>NaN</td>\n",
       "    </tr>\n",
       "    <tr>\n",
       "      <th>4</th>\n",
       "      <td>45</td>\n",
       "      <td>166</td>\n",
       "      <td>B3</td>\n",
       "      <td>0.855391</td>\n",
       "      <td>0.566339</td>\n",
       "      <td>0.851803</td>\n",
       "      <td>0.139381</td>\n",
       "      <td>0.209817</td>\n",
       "      <td>0.009590</td>\n",
       "      <td>0.591237</td>\n",
       "      <td>...</td>\n",
       "      <td>1</td>\n",
       "      <td>GAAATACCACC</td>\n",
       "      <td>1.0</td>\n",
       "      <td>2</td>\n",
       "      <td>GAAATACGACCCCACCATCG</td>\n",
       "      <td>RAP2A</td>\n",
       "      <td>essentials_11L2</td>\n",
       "      <td>NaN</td>\n",
       "      <td>NaN</td>\n",
       "      <td>NaN</td>\n",
       "    </tr>\n",
       "  </tbody>\n",
       "</table>\n",
       "<p>5 rows × 27 columns</p>\n",
       "</div>"
      ],
      "text/plain": [
       "   cell  tile well       Q_0       Q_1       Q_2       Q_3       Q_4  \\\n",
       "0    39   166   B3  1.000000  0.603699  0.741508  0.542767  0.620503   \n",
       "1    40   166   B3  0.017423  1.000000  0.258728  0.600712  1.000000   \n",
       "2    41   166   B3  0.565950  1.000000  1.000000  1.000000  0.641829   \n",
       "3    44   166   B3  0.450070  0.548385  0.542662  0.451723  1.000000   \n",
       "4    45   166   B3  0.855391  0.566339  0.851803  0.139381  0.209817   \n",
       "\n",
       "        Q_5       Q_6  ...  cell_barcode_count_0  cell_barcode_1  \\\n",
       "0  0.580547  1.000000  ...                     1             NaN   \n",
       "1  0.606609  0.858215  ...                     1             NaN   \n",
       "2  0.575390  0.625679  ...                     1             NaN   \n",
       "3  0.721898  0.701255  ...                     2             NaN   \n",
       "4  0.009590  0.591237  ...                     1     GAAATACCACC   \n",
       "\n",
       "   cell_barcode_count_1  barcode_count               sgRNA_0  gene_symbol_0  \\\n",
       "0                   0.0              1  ACGATCGGTAATGGTCTGTT   nontargeting   \n",
       "1                   0.0              1                   NaN            NaN   \n",
       "2                   0.0              1  CTAACGGACTGCAGAACGGA   nontargeting   \n",
       "3                   0.0              2  GCTTCACATGCATACCATGG           PPAN   \n",
       "4                   1.0              2  GAAATACGACCCCACCATCG          RAP2A   \n",
       "\n",
       "           group_0  sgRNA_1 gene_symbol_1  group_1  \n",
       "0  essentials_11L2      NaN           NaN      NaN  \n",
       "1              NaN      NaN           NaN      NaN  \n",
       "2  essentials_11L2      NaN           NaN      NaN  \n",
       "3  essentials_11L2      NaN           NaN      NaN  \n",
       "4  essentials_11L2      NaN           NaN      NaN  \n",
       "\n",
       "[5 rows x 27 columns]"
      ]
     },
     "execution_count": 13,
     "metadata": {},
     "output_type": "execute_result"
    }
   ],
   "source": [
    "df_cells.head()"
   ]
  },
  {
   "cell_type": "code",
   "execution_count": 14,
   "metadata": {
    "hidden": true
   },
   "outputs": [],
   "source": [
    "df_cells['mapped_single_gene'] = (df_cells.apply(lambda x: True \n",
    "                    if (pd.notnull(x.gene_symbol_0)&pd.isnull(x.gene_symbol_1))|(x.gene_symbol_0==x.gene_symbol_1) \n",
    "                    else False,axis=1)\n",
    "                                  )"
   ]
  },
  {
   "cell_type": "code",
   "execution_count": 15,
   "metadata": {
    "hidden": true
   },
   "outputs": [
    {
     "data": {
      "text/plain": [
       "True     5189121\n",
       "False    2756241\n",
       "Name: mapped_single_gene, dtype: int64"
      ]
     },
     "execution_count": 15,
     "metadata": {},
     "output_type": "execute_result"
    }
   ],
   "source": [
    "df_cells.mapped_single_gene.value_counts()"
   ]
  },
  {
   "cell_type": "code",
   "execution_count": 16,
   "metadata": {
    "hidden": true
   },
   "outputs": [],
   "source": [
    "df_merged = df_merged.merge((df_cells[['well','tile','cell','sgRNA_0','gene_symbol_0','group_0','mapped_single_gene']]\n",
    "                             .rename({'tile':'site','cell':'cell_1'},axis=1)),\n",
    "                            how='left',on=['well','site','cell_1'])"
   ]
  },
  {
   "cell_type": "code",
   "execution_count": 17,
   "metadata": {
    "hidden": true
   },
   "outputs": [
    {
     "data": {
      "text/html": [
       "<div>\n",
       "<style scoped>\n",
       "    .dataframe tbody tr th:only-of-type {\n",
       "        vertical-align: middle;\n",
       "    }\n",
       "\n",
       "    .dataframe tbody tr th {\n",
       "        vertical-align: top;\n",
       "    }\n",
       "\n",
       "    .dataframe thead th {\n",
       "        text-align: right;\n",
       "    }\n",
       "</style>\n",
       "<table border=\"1\" class=\"dataframe\">\n",
       "  <thead>\n",
       "    <tr style=\"text-align: right;\">\n",
       "      <th></th>\n",
       "      <th>well</th>\n",
       "      <th>tile</th>\n",
       "      <th>cell_0</th>\n",
       "      <th>i_0</th>\n",
       "      <th>j_0</th>\n",
       "      <th>site</th>\n",
       "      <th>cell_1</th>\n",
       "      <th>i_1</th>\n",
       "      <th>j_1</th>\n",
       "      <th>distance</th>\n",
       "      <th>fov_distance_0</th>\n",
       "      <th>fov_distance_1</th>\n",
       "      <th>sgRNA_0</th>\n",
       "      <th>gene_symbol_0</th>\n",
       "      <th>group_0</th>\n",
       "      <th>mapped_single_gene</th>\n",
       "    </tr>\n",
       "  </thead>\n",
       "  <tbody>\n",
       "    <tr>\n",
       "      <th>2</th>\n",
       "      <td>B3</td>\n",
       "      <td>474</td>\n",
       "      <td>422</td>\n",
       "      <td>1081.831585</td>\n",
       "      <td>1346.047203</td>\n",
       "      <td>123</td>\n",
       "      <td>10</td>\n",
       "      <td>3.406593</td>\n",
       "      <td>703.692308</td>\n",
       "      <td>0.899929</td>\n",
       "      <td>420.096939</td>\n",
       "      <td>737.487692</td>\n",
       "      <td>NaN</td>\n",
       "      <td>NaN</td>\n",
       "      <td>NaN</td>\n",
       "      <td>NaN</td>\n",
       "    </tr>\n",
       "    <tr>\n",
       "      <th>1</th>\n",
       "      <td>B3</td>\n",
       "      <td>474</td>\n",
       "      <td>419</td>\n",
       "      <td>1079.878977</td>\n",
       "      <td>1044.191516</td>\n",
       "      <td>123</td>\n",
       "      <td>9</td>\n",
       "      <td>3.375000</td>\n",
       "      <td>628.375000</td>\n",
       "      <td>0.519400</td>\n",
       "      <td>591.629840</td>\n",
       "      <td>745.034584</td>\n",
       "      <td>NaN</td>\n",
       "      <td>NaN</td>\n",
       "      <td>NaN</td>\n",
       "      <td>NaN</td>\n",
       "    </tr>\n",
       "    <tr>\n",
       "      <th>3</th>\n",
       "      <td>B3</td>\n",
       "      <td>474</td>\n",
       "      <td>414</td>\n",
       "      <td>1066.679772</td>\n",
       "      <td>2042.936588</td>\n",
       "      <td>123</td>\n",
       "      <td>12</td>\n",
       "      <td>1.547619</td>\n",
       "      <td>878.833333</td>\n",
       "      <td>1.650511</td>\n",
       "      <td>698.377558</td>\n",
       "      <td>751.389788</td>\n",
       "      <td>NaN</td>\n",
       "      <td>NaN</td>\n",
       "      <td>NaN</td>\n",
       "      <td>NaN</td>\n",
       "    </tr>\n",
       "    <tr>\n",
       "      <th>9</th>\n",
       "      <td>B3</td>\n",
       "      <td>474</td>\n",
       "      <td>425</td>\n",
       "      <td>1089.951432</td>\n",
       "      <td>726.879826</td>\n",
       "      <td>123</td>\n",
       "      <td>26</td>\n",
       "      <td>4.906977</td>\n",
       "      <td>548.860465</td>\n",
       "      <td>1.187036</td>\n",
       "      <td>848.131996</td>\n",
       "      <td>759.536750</td>\n",
       "      <td>NaN</td>\n",
       "      <td>NaN</td>\n",
       "      <td>NaN</td>\n",
       "      <td>NaN</td>\n",
       "    </tr>\n",
       "    <tr>\n",
       "      <th>4</th>\n",
       "      <td>B3</td>\n",
       "      <td>474</td>\n",
       "      <td>415</td>\n",
       "      <td>1068.747573</td>\n",
       "      <td>2412.256425</td>\n",
       "      <td>123</td>\n",
       "      <td>14</td>\n",
       "      <td>1.538462</td>\n",
       "      <td>971.653846</td>\n",
       "      <td>1.170977</td>\n",
       "      <td>1018.936014</td>\n",
       "      <td>773.943763</td>\n",
       "      <td>NaN</td>\n",
       "      <td>NaN</td>\n",
       "      <td>NaN</td>\n",
       "      <td>NaN</td>\n",
       "    </tr>\n",
       "    <tr>\n",
       "      <th>5</th>\n",
       "      <td>B3</td>\n",
       "      <td>474</td>\n",
       "      <td>421</td>\n",
       "      <td>1080.817849</td>\n",
       "      <td>2481.269934</td>\n",
       "      <td>123</td>\n",
       "      <td>15</td>\n",
       "      <td>3.393443</td>\n",
       "      <td>989.540984</td>\n",
       "      <td>0.741017</td>\n",
       "      <td>1077.909027</td>\n",
       "      <td>777.727409</td>\n",
       "      <td>NaN</td>\n",
       "      <td>NaN</td>\n",
       "      <td>NaN</td>\n",
       "      <td>NaN</td>\n",
       "    </tr>\n",
       "    <tr>\n",
       "      <th>7</th>\n",
       "      <td>B3</td>\n",
       "      <td>474</td>\n",
       "      <td>423</td>\n",
       "      <td>1082.552054</td>\n",
       "      <td>2521.753517</td>\n",
       "      <td>123</td>\n",
       "      <td>23</td>\n",
       "      <td>3.726190</td>\n",
       "      <td>1000.095238</td>\n",
       "      <td>1.161028</td>\n",
       "      <td>1114.995632</td>\n",
       "      <td>780.864044</td>\n",
       "      <td>NaN</td>\n",
       "      <td>NaN</td>\n",
       "      <td>NaN</td>\n",
       "      <td>NaN</td>\n",
       "    </tr>\n",
       "    <tr>\n",
       "      <th>6</th>\n",
       "      <td>B3</td>\n",
       "      <td>474</td>\n",
       "      <td>420</td>\n",
       "      <td>1080.136466</td>\n",
       "      <td>2687.760054</td>\n",
       "      <td>123</td>\n",
       "      <td>16</td>\n",
       "      <td>3.616162</td>\n",
       "      <td>1041.646465</td>\n",
       "      <td>1.205647</td>\n",
       "      <td>1272.232366</td>\n",
       "      <td>795.771165</td>\n",
       "      <td>NaN</td>\n",
       "      <td>NaN</td>\n",
       "      <td>NaN</td>\n",
       "      <td>NaN</td>\n",
       "    </tr>\n",
       "    <tr>\n",
       "      <th>8</th>\n",
       "      <td>B3</td>\n",
       "      <td>474</td>\n",
       "      <td>424</td>\n",
       "      <td>1083.538979</td>\n",
       "      <td>244.550196</td>\n",
       "      <td>123</td>\n",
       "      <td>24</td>\n",
       "      <td>4.150538</td>\n",
       "      <td>428.172043</td>\n",
       "      <td>0.524183</td>\n",
       "      <td>1297.504358</td>\n",
       "      <td>799.194035</td>\n",
       "      <td>NaN</td>\n",
       "      <td>NaN</td>\n",
       "      <td>NaN</td>\n",
       "      <td>NaN</td>\n",
       "    </tr>\n",
       "    <tr>\n",
       "      <th>0</th>\n",
       "      <td>B3</td>\n",
       "      <td>474</td>\n",
       "      <td>418</td>\n",
       "      <td>1071.756060</td>\n",
       "      <td>107.927798</td>\n",
       "      <td>123</td>\n",
       "      <td>6</td>\n",
       "      <td>2.367647</td>\n",
       "      <td>393.882353</td>\n",
       "      <td>1.053052</td>\n",
       "      <td>1431.518509</td>\n",
       "      <td>814.799923</td>\n",
       "      <td>NaN</td>\n",
       "      <td>NaN</td>\n",
       "      <td>NaN</td>\n",
       "      <td>NaN</td>\n",
       "    </tr>\n",
       "  </tbody>\n",
       "</table>\n",
       "</div>"
      ],
      "text/plain": [
       "  well  tile  cell_0          i_0          j_0  site  cell_1       i_1  \\\n",
       "2   B3   474     422  1081.831585  1346.047203   123      10  3.406593   \n",
       "1   B3   474     419  1079.878977  1044.191516   123       9  3.375000   \n",
       "3   B3   474     414  1066.679772  2042.936588   123      12  1.547619   \n",
       "9   B3   474     425  1089.951432   726.879826   123      26  4.906977   \n",
       "4   B3   474     415  1068.747573  2412.256425   123      14  1.538462   \n",
       "5   B3   474     421  1080.817849  2481.269934   123      15  3.393443   \n",
       "7   B3   474     423  1082.552054  2521.753517   123      23  3.726190   \n",
       "6   B3   474     420  1080.136466  2687.760054   123      16  3.616162   \n",
       "8   B3   474     424  1083.538979   244.550196   123      24  4.150538   \n",
       "0   B3   474     418  1071.756060   107.927798   123       6  2.367647   \n",
       "\n",
       "           j_1  distance  fov_distance_0  fov_distance_1 sgRNA_0  \\\n",
       "2   703.692308  0.899929      420.096939      737.487692     NaN   \n",
       "1   628.375000  0.519400      591.629840      745.034584     NaN   \n",
       "3   878.833333  1.650511      698.377558      751.389788     NaN   \n",
       "9   548.860465  1.187036      848.131996      759.536750     NaN   \n",
       "4   971.653846  1.170977     1018.936014      773.943763     NaN   \n",
       "5   989.540984  0.741017     1077.909027      777.727409     NaN   \n",
       "7  1000.095238  1.161028     1114.995632      780.864044     NaN   \n",
       "6  1041.646465  1.205647     1272.232366      795.771165     NaN   \n",
       "8   428.172043  0.524183     1297.504358      799.194035     NaN   \n",
       "0   393.882353  1.053052     1431.518509      814.799923     NaN   \n",
       "\n",
       "  gene_symbol_0 group_0 mapped_single_gene  \n",
       "2           NaN     NaN                NaN  \n",
       "1           NaN     NaN                NaN  \n",
       "3           NaN     NaN                NaN  \n",
       "9           NaN     NaN                NaN  \n",
       "4           NaN     NaN                NaN  \n",
       "5           NaN     NaN                NaN  \n",
       "7           NaN     NaN                NaN  \n",
       "6           NaN     NaN                NaN  \n",
       "8           NaN     NaN                NaN  \n",
       "0           NaN     NaN                NaN  "
      ]
     },
     "execution_count": 17,
     "metadata": {},
     "output_type": "execute_result"
    }
   ],
   "source": [
    "df_merged.head(10).sort_values(['mapped_single_gene','fov_distance_1'],ascending=[False,True])"
   ]
  },
  {
   "cell_type": "markdown",
   "metadata": {
    "heading_collapsed": true
   },
   "source": [
    "# add phenotype min info"
   ]
  },
  {
   "cell_type": "code",
   "execution_count": 18,
   "metadata": {
    "hidden": true
   },
   "outputs": [],
   "source": [
    "df_phenotype = pd.read_hdf('min_cp_phenotype.hdf').fillna(0)"
   ]
  },
  {
   "cell_type": "code",
   "execution_count": 19,
   "metadata": {
    "hidden": true
   },
   "outputs": [],
   "source": [
    "min_cols = [col for col in df_phenotype.columns if '_min' in col]\n",
    "info_cols = [col for col in df_phenotype.columns if col not in min_cols]"
   ]
  },
  {
   "cell_type": "code",
   "execution_count": 21,
   "metadata": {
    "hidden": true
   },
   "outputs": [],
   "source": [
    "df_phenotype['channels_min'] = df_phenotype[min_cols].apply(lambda x: x.min(axis=0),axis=1)"
   ]
  },
  {
   "cell_type": "code",
   "execution_count": 23,
   "metadata": {
    "hidden": true
   },
   "outputs": [],
   "source": [
    "df_merged = df_merged.merge((df_phenotype[['well','tile','cell','channels_min']]\n",
    "                             .rename(columns={'cell':'cell_0'})),\n",
    "                            how='left',on=['well','tile','cell_0'])"
   ]
  },
  {
   "cell_type": "code",
   "execution_count": 24,
   "metadata": {
    "hidden": true
   },
   "outputs": [
    {
     "data": {
      "text/plain": [
       "<matplotlib.axes._subplots.AxesSubplot at 0x7fc6a4be4150>"
      ]
     },
     "execution_count": 24,
     "metadata": {},
     "output_type": "execute_result"
    },
    {
     "data": {
      "image/png": "[encoded data removed]",
      "text/plain": [
       "<Figure size 1440x1440 with 1 Axes>"
      ]
     },
     "metadata": {},
     "output_type": "display_data"
    }
   ],
   "source": [
    "plt.figure(figsize=(20,20))\n",
    "sns.scatterplot(data=(df_merged\n",
    "                      .query('channels_min==0')\n",
    "#                       .query('well != @misaligned_wells & tile != @misaligned_tiles')\n",
    "                      [['i_0','j_0']]\n",
    "                     ),\n",
    "                x='i_0',y='j_0')"
   ]
  },
  {
   "cell_type": "markdown",
   "metadata": {},
   "source": [
    "# filter merged datasets for duplicates"
   ]
  },
  {
   "cell_type": "code",
   "execution_count": 5,
   "metadata": {},
   "outputs": [
    {
     "data": {
      "text/plain": [
       "1    6683560\n",
       "2    1986386\n",
       "3      34992\n",
       "4       2035\n",
       "Name: cell_0, dtype: int64"
      ]
     },
     "execution_count": 5,
     "metadata": {},
     "output_type": "execute_result"
    }
   ],
   "source": [
    "df_merged.groupby(['well','tile']).cell_0.value_counts().value_counts()"
   ]
  },
  {
   "cell_type": "code",
   "execution_count": 6,
   "metadata": {},
   "outputs": [
    {
     "data": {
      "text/plain": [
       "1    6507641\n",
       "2    1997146\n",
       "3      63101\n",
       "4      19553\n",
       "Name: cell_1, dtype: int64"
      ]
     },
     "execution_count": 6,
     "metadata": {},
     "output_type": "execute_result"
    }
   ],
   "source": [
    "df_merged.groupby(['well','site']).cell_1.value_counts().value_counts()"
   ]
  },
  {
   "cell_type": "code",
   "execution_count": 7,
   "metadata": {},
   "outputs": [
    {
     "data": {
      "text/plain": [
       "8587441"
      ]
     },
     "execution_count": 7,
     "metadata": {},
     "output_type": "execute_result"
    }
   ],
   "source": [
    "df_merged.drop_duplicates(['well','site','cell_1']).pipe(len)"
   ]
  },
  {
   "cell_type": "code",
   "execution_count": 8,
   "metadata": {},
   "outputs": [
    {
     "data": {
      "text/plain": [
       "10769448"
      ]
     },
     "execution_count": 8,
     "metadata": {},
     "output_type": "execute_result"
    }
   ],
   "source": [
    "df_merged.pipe(len)"
   ]
  },
  {
   "cell_type": "code",
   "execution_count": 10,
   "metadata": {},
   "outputs": [],
   "source": [
    "# remove bad tiles and cells with phenotype channel min ==0\n",
    "df_merged_ph = (df_merged\n",
    "#              .query('well != @misaligned_wells & tile != @misaligned_tiles')\n",
    "             .query('channels_min>0')\n",
    "            )"
   ]
  },
  {
   "cell_type": "code",
   "execution_count": 11,
   "metadata": {},
   "outputs": [
    {
     "data": {
      "text/plain": [
       "8563863"
      ]
     },
     "execution_count": 11,
     "metadata": {},
     "output_type": "execute_result"
    }
   ],
   "source": [
    "df_merged_ph.drop_duplicates(['well','site','cell_1']).pipe(len)"
   ]
  },
  {
   "cell_type": "code",
   "execution_count": 12,
   "metadata": {},
   "outputs": [
    {
     "data": {
      "text/plain": [
       "1    6806544\n",
       "2    1707129\n",
       "3      39142\n",
       "4      11048\n",
       "Name: cell_1, dtype: int64"
      ]
     },
     "execution_count": 12,
     "metadata": {},
     "output_type": "execute_result"
    }
   ],
   "source": [
    "df_merged_ph.groupby(['well','site']).cell_1.value_counts().value_counts()"
   ]
  },
  {
   "cell_type": "code",
   "execution_count": 13,
   "metadata": {},
   "outputs": [],
   "source": [
    "# drop sbs cells mapping to same phenotype cell by priority (mapping, fov_distance)\n",
    "df_merged_filt = (df_merged_ph\n",
    "                  .sort_values(['mapped_single_gene','fov_distance_1'],\n",
    "                               ascending=[False,True])\n",
    "                  .drop_duplicates(['well','tile','cell_0'],keep='first')\n",
    "                 )"
   ]
  },
  {
   "cell_type": "code",
   "execution_count": 14,
   "metadata": {},
   "outputs": [
    {
     "data": {
      "text/plain": [
       "1    5262894\n",
       "2    1467275\n",
       "3      39142\n",
       "4      11048\n",
       "Name: cell_1, dtype: int64"
      ]
     },
     "execution_count": 14,
     "metadata": {},
     "output_type": "execute_result"
    }
   ],
   "source": [
    "df_merged_filt.groupby(['well','site']).cell_1.value_counts().value_counts()"
   ]
  },
  {
   "cell_type": "code",
   "execution_count": 15,
   "metadata": {},
   "outputs": [],
   "source": [
    "# drop duplicated phenotype cells mapping to same sbs cell by priority (fov_distance)\n",
    "df_merged_filt_filt = (df_merged_filt\n",
    "                       .sort_values(['fov_distance_0'],ascending=True)\n",
    "                       .drop_duplicates(['well','site','cell_1'],keep='first')\n",
    "                      )"
   ]
  },
  {
   "cell_type": "code",
   "execution_count": 16,
   "metadata": {},
   "outputs": [
    {
     "data": {
      "text/plain": [
       "6780359"
      ]
     },
     "execution_count": 16,
     "metadata": {},
     "output_type": "execute_result"
    }
   ],
   "source": [
    "df_merged_filt_filt.pipe(len)"
   ]
  },
  {
   "cell_type": "code",
   "execution_count": 17,
   "metadata": {},
   "outputs": [
    {
     "data": {
      "text/plain": [
       "3894472"
      ]
     },
     "execution_count": 17,
     "metadata": {},
     "output_type": "execute_result"
    }
   ],
   "source": [
    "df_merged_filt_filt[df_merged_filt_filt.mapped_single_gene==True].pipe(len)"
   ]
  },
  {
   "cell_type": "code",
   "execution_count": null,
   "metadata": {},
   "outputs": [],
   "source": [
    "df_merged.to_hdf('merge.hdf', 'x', mode='w')"
   ]
  },
  {
   "cell_type": "code",
   "execution_count": null,
   "metadata": {},
   "outputs": [],
   "source": [
    "df_merged_filt_filt.to_hdf('merged_deduped.hdf', 'x', mode='w')"
   ]
  },
  {
   "cell_type": "markdown",
   "metadata": {},
   "source": [
    "# check cell matching rate"
   ]
  },
  {
   "cell_type": "code",
   "execution_count": 23,
   "metadata": {},
   "outputs": [],
   "source": [
    "df_sbs_info = pd.concat([pd.read_hdf(f) for f in glob.glob('sbs_info_*.hdf')])"
   ]
  },
  {
   "cell_type": "code",
   "execution_count": 24,
   "metadata": {},
   "outputs": [],
   "source": [
    "df_sbs_info.to_hdf('sbs_info.hdf','x',mode='w')"
   ]
  },
  {
   "cell_type": "code",
   "execution_count": 25,
   "metadata": {},
   "outputs": [],
   "source": [
    "# cols_0 = {'i':'i_0','j':'j_0','cell':'cell_0','tile':'tile_0'}\n",
    "cols_1 = {'cell':'cell_1','tile':'site'}\n",
    "\n",
    "#before deduping, how many sbs cells map to a phenotype cell\n",
    "df_sbs_matching = (df_sbs_info\n",
    "                   .rename(columns=cols_1)\n",
    "                   .drop(columns=['i','j'])\n",
    "                   .merge(df_merged,\n",
    "#                         .rename(columns=cols_0),\n",
    "                        how='left',on=['well','site','cell_1'])\n",
    "                  )"
   ]
  },
  {
   "cell_type": "code",
   "execution_count": 26,
   "metadata": {},
   "outputs": [
    {
     "name": "stdout",
     "output_type": "stream",
     "text": [
      "For well A1, cell matching rate is 89.35111991790808%\n",
      "For well A2, cell matching rate is 90.38442373050272%\n",
      "For well A3, cell matching rate is 90.23644656060277%\n",
      "For well B1, cell matching rate is 90.1759786649547%\n",
      "For well B2, cell matching rate is 90.53280207986447%\n",
      "For well B3, cell matching rate is 90.1820673245451%\n"
     ]
    }
   ],
   "source": [
    "# before deduping\n",
    "for well,df in df_sbs_matching.groupby('well'):\n",
    "    all_cells = df.pipe(len)\n",
    "    lonely_cells = df.distance.isnull().sum()\n",
    "    mapping = (all_cells-lonely_cells)/all_cells\n",
    "    print('For well '+well+', cell matching rate is '+str(mapping*100)+'%')"
   ]
  },
  {
   "cell_type": "code",
   "execution_count": 27,
   "metadata": {},
   "outputs": [],
   "source": [
    "del df_sbs_matching"
   ]
  },
  {
   "cell_type": "code",
   "execution_count": 28,
   "metadata": {},
   "outputs": [],
   "source": [
    "del df_sbs_info"
   ]
  },
  {
   "cell_type": "code",
   "execution_count": 29,
   "metadata": {},
   "outputs": [],
   "source": [
    "df_ph_info = pd.concat([pd.read_hdf(f) for f in glob.glob('ph_info_*.hdf')])"
   ]
  },
  {
   "cell_type": "code",
   "execution_count": 30,
   "metadata": {},
   "outputs": [],
   "source": [
    "df_ph_info.to_hdf('ph_info.hdf','x',mode='w')"
   ]
  },
  {
   "cell_type": "code",
   "execution_count": 31,
   "metadata": {},
   "outputs": [],
   "source": [
    "# cols_0 = {'i':'i_0','j':'j_0','cell':'cell_0','tile':'tile_0'}\n",
    "cols_1 = {'cell':'cell_0'}\n",
    "\n",
    "#before deduping, how many sbs cells map to a phenotype cell\n",
    "df_ph_matching = (df_ph_info\n",
    "                 .rename(columns=cols_1)\n",
    "                 .drop(columns=['i','j'])\n",
    "                 .merge(df_merged,\n",
    "#                         .rename(columns=cols_0),\n",
    "                        how='left',on=['well','tile','cell_0'])\n",
    "                )"
   ]
  },
  {
   "cell_type": "code",
   "execution_count": 32,
   "metadata": {},
   "outputs": [
    {
     "name": "stdout",
     "output_type": "stream",
     "text": [
      "For well A1, cell matching rate is 92.10451062439087%\n",
      "For well A2, cell matching rate is 93.13707357226055%\n",
      "For well A3, cell matching rate is 92.76247440427404%\n",
      "For well B1, cell matching rate is 92.80080472270437%\n",
      "For well B2, cell matching rate is 92.64175283286488%\n",
      "For well B3, cell matching rate is 92.10426107361653%\n"
     ]
    }
   ],
   "source": [
    "for well,df in df_ph_matching.groupby('well'):\n",
    "    all_cells = df.pipe(len)\n",
    "    lonely_cells = df.distance.isnull().sum()\n",
    "    mapping = (all_cells-lonely_cells)/all_cells\n",
    "    print('For well '+well+', cell matching rate is '+str(mapping*100)+'%')"
   ]
  },
  {
   "cell_type": "markdown",
   "metadata": {},
   "source": [
    "# add full phenotype, reduce to single mapping"
   ]
  },
  {
   "cell_type": "code",
   "execution_count": null,
   "metadata": {},
   "outputs": [],
   "source": [
    "# this section unused?"
   ]
  },
  {
   "cell_type": "code",
   "execution_count": 33,
   "metadata": {},
   "outputs": [],
   "source": [
    "import gc"
   ]
  },
  {
   "cell_type": "code",
   "execution_count": 34,
   "metadata": {},
   "outputs": [],
   "source": [
    "df_merged_deduped = pd.read_hdf('merged_deduped.hdf')"
   ]
  },
  {
   "cell_type": "code",
   "execution_count": 35,
   "metadata": {},
   "outputs": [],
   "source": [
    "df_merged_deduped = df_merged_deduped[df_merged_deduped['mapped_single_gene']==True]"
   ]
  },
  {
   "cell_type": "code",
   "execution_count": 36,
   "metadata": {},
   "outputs": [
    {
     "data": {
      "text/plain": [
       "3894472"
      ]
     },
     "execution_count": 36,
     "metadata": {},
     "output_type": "execute_result"
    }
   ],
   "source": [
    "df_merged_deduped.pipe(len)"
   ]
  },
  {
   "cell_type": "code",
   "execution_count": 37,
   "metadata": {},
   "outputs": [],
   "source": [
    "df_phenotype = pd.read_hdf('simple_nuclear_phenotype.hdf')"
   ]
  },
  {
   "cell_type": "code",
   "execution_count": 38,
   "metadata": {},
   "outputs": [
    {
     "data": {
      "text/plain": [
       "243"
      ]
     },
     "execution_count": 38,
     "metadata": {},
     "output_type": "execute_result"
    }
   ],
   "source": [
    "gc.collect()"
   ]
  },
  {
   "cell_type": "code",
   "execution_count": 39,
   "metadata": {},
   "outputs": [],
   "source": [
    "final_merge_cols = [col for col in df_merged_deduped.columns \n",
    "                    if 'distance' not in col \n",
    "                        and col != 'mapped_single_gene' \n",
    "                        and col != 'channels_min'\n",
    "                   ]"
   ]
  },
  {
   "cell_type": "code",
   "execution_count": 40,
   "metadata": {},
   "outputs": [
    {
     "data": {
      "text/plain": [
       "['well',\n",
       " 'tile',\n",
       " 'cell_0',\n",
       " 'i_0',\n",
       " 'j_0',\n",
       " 'site',\n",
       " 'cell_1',\n",
       " 'i_1',\n",
       " 'j_1',\n",
       " 'sgRNA_0',\n",
       " 'gene_symbol_0',\n",
       " 'group_0']"
      ]
     },
     "execution_count": 40,
     "metadata": {},
     "output_type": "execute_result"
    }
   ],
   "source": [
    "final_merge_cols"
   ]
  },
  {
   "cell_type": "code",
   "execution_count": 41,
   "metadata": {},
   "outputs": [],
   "source": [
    "df_merged_deduped = df_merged_deduped[final_merge_cols]"
   ]
  },
  {
   "cell_type": "code",
   "execution_count": 42,
   "metadata": {},
   "outputs": [],
   "source": [
    "final_ph_cols = [col for col in df_phenotype.columns \n",
    "                    if col not in ['i','j']\n",
    "                   ]"
   ]
  },
  {
   "cell_type": "code",
   "execution_count": 43,
   "metadata": {},
   "outputs": [],
   "source": [
    "df_phenotype = df_phenotype[final_ph_cols].rename(columns={'cell':'cell_0'})"
   ]
  },
  {
   "cell_type": "code",
   "execution_count": 44,
   "metadata": {},
   "outputs": [
    {
     "data": {
      "text/html": [
       "<div>\n",
       "<style scoped>\n",
       "    .dataframe tbody tr th:only-of-type {\n",
       "        vertical-align: middle;\n",
       "    }\n",
       "\n",
       "    .dataframe tbody tr th {\n",
       "        vertical-align: top;\n",
       "    }\n",
       "\n",
       "    .dataframe thead th {\n",
       "        text-align: right;\n",
       "    }\n",
       "</style>\n",
       "<table border=\"1\" class=\"dataframe\">\n",
       "  <thead>\n",
       "    <tr style=\"text-align: right;\">\n",
       "      <th></th>\n",
       "      <th>dapi_nuclear_min</th>\n",
       "      <th>dapi_nuclear_25</th>\n",
       "      <th>dapi_nuclear_mean</th>\n",
       "      <th>dapi_nuclear_median</th>\n",
       "      <th>dapi_nuclear_75</th>\n",
       "      <th>dapi_nuclear_max</th>\n",
       "      <th>dapi_nuclear_int</th>\n",
       "      <th>dapi_nuclear_sd</th>\n",
       "      <th>dapi_nuclear_mad</th>\n",
       "      <th>dm1a_nuclear_min</th>\n",
       "      <th>...</th>\n",
       "      <th>solidity_nuclear</th>\n",
       "      <th>extent_nuclear</th>\n",
       "      <th>area</th>\n",
       "      <th>cell_0</th>\n",
       "      <th>bounds_0</th>\n",
       "      <th>bounds_1</th>\n",
       "      <th>bounds_2</th>\n",
       "      <th>bounds_3</th>\n",
       "      <th>tile</th>\n",
       "      <th>well</th>\n",
       "    </tr>\n",
       "  </thead>\n",
       "  <tbody>\n",
       "    <tr>\n",
       "      <th>0</th>\n",
       "      <td>513</td>\n",
       "      <td>898.00</td>\n",
       "      <td>1086.529316</td>\n",
       "      <td>1107.5</td>\n",
       "      <td>1289.50</td>\n",
       "      <td>1621</td>\n",
       "      <td>667129</td>\n",
       "      <td>251.818937</td>\n",
       "      <td>190.5</td>\n",
       "      <td>0</td>\n",
       "      <td>...</td>\n",
       "      <td>0.910979</td>\n",
       "      <td>0.702517</td>\n",
       "      <td>614</td>\n",
       "      <td>1</td>\n",
       "      <td>0</td>\n",
       "      <td>345</td>\n",
       "      <td>19</td>\n",
       "      <td>391</td>\n",
       "      <td>115</td>\n",
       "      <td>B3</td>\n",
       "    </tr>\n",
       "    <tr>\n",
       "      <th>1</th>\n",
       "      <td>1025</td>\n",
       "      <td>1377.00</td>\n",
       "      <td>1729.268775</td>\n",
       "      <td>1732.0</td>\n",
       "      <td>2053.00</td>\n",
       "      <td>2623</td>\n",
       "      <td>437505</td>\n",
       "      <td>418.234988</td>\n",
       "      <td>344.0</td>\n",
       "      <td>0</td>\n",
       "      <td>...</td>\n",
       "      <td>0.916667</td>\n",
       "      <td>0.602381</td>\n",
       "      <td>253</td>\n",
       "      <td>2</td>\n",
       "      <td>0</td>\n",
       "      <td>561</td>\n",
       "      <td>14</td>\n",
       "      <td>591</td>\n",
       "      <td>115</td>\n",
       "      <td>B3</td>\n",
       "    </tr>\n",
       "    <tr>\n",
       "      <th>2</th>\n",
       "      <td>770</td>\n",
       "      <td>1395.25</td>\n",
       "      <td>1919.731250</td>\n",
       "      <td>2146.5</td>\n",
       "      <td>2383.00</td>\n",
       "      <td>2813</td>\n",
       "      <td>1228628</td>\n",
       "      <td>562.127871</td>\n",
       "      <td>328.0</td>\n",
       "      <td>0</td>\n",
       "      <td>...</td>\n",
       "      <td>0.931587</td>\n",
       "      <td>0.680851</td>\n",
       "      <td>640</td>\n",
       "      <td>3</td>\n",
       "      <td>0</td>\n",
       "      <td>689</td>\n",
       "      <td>20</td>\n",
       "      <td>736</td>\n",
       "      <td>115</td>\n",
       "      <td>B3</td>\n",
       "    </tr>\n",
       "    <tr>\n",
       "      <th>3</th>\n",
       "      <td>1545</td>\n",
       "      <td>2639.75</td>\n",
       "      <td>5845.984029</td>\n",
       "      <td>3786.0</td>\n",
       "      <td>7984.00</td>\n",
       "      <td>17056</td>\n",
       "      <td>4758631</td>\n",
       "      <td>4387.534707</td>\n",
       "      <td>1578.5</td>\n",
       "      <td>0</td>\n",
       "      <td>...</td>\n",
       "      <td>0.939954</td>\n",
       "      <td>0.753704</td>\n",
       "      <td>814</td>\n",
       "      <td>4</td>\n",
       "      <td>0</td>\n",
       "      <td>779</td>\n",
       "      <td>20</td>\n",
       "      <td>833</td>\n",
       "      <td>115</td>\n",
       "      <td>B3</td>\n",
       "    </tr>\n",
       "    <tr>\n",
       "      <th>4</th>\n",
       "      <td>742</td>\n",
       "      <td>973.75</td>\n",
       "      <td>1679.296923</td>\n",
       "      <td>1324.0</td>\n",
       "      <td>2461.75</td>\n",
       "      <td>3475</td>\n",
       "      <td>1091543</td>\n",
       "      <td>802.661846</td>\n",
       "      <td>459.0</td>\n",
       "      <td>0</td>\n",
       "      <td>...</td>\n",
       "      <td>0.947522</td>\n",
       "      <td>0.681342</td>\n",
       "      <td>650</td>\n",
       "      <td>5</td>\n",
       "      <td>0</td>\n",
       "      <td>1058</td>\n",
       "      <td>18</td>\n",
       "      <td>1111</td>\n",
       "      <td>115</td>\n",
       "      <td>B3</td>\n",
       "    </tr>\n",
       "  </tbody>\n",
       "</table>\n",
       "<p>5 rows × 57 columns</p>\n",
       "</div>"
      ],
      "text/plain": [
       "   dapi_nuclear_min  dapi_nuclear_25  dapi_nuclear_mean  dapi_nuclear_median  \\\n",
       "0               513           898.00        1086.529316               1107.5   \n",
       "1              1025          1377.00        1729.268775               1732.0   \n",
       "2               770          1395.25        1919.731250               2146.5   \n",
       "3              1545          2639.75        5845.984029               3786.0   \n",
       "4               742           973.75        1679.296923               1324.0   \n",
       "\n",
       "   dapi_nuclear_75  dapi_nuclear_max  dapi_nuclear_int  dapi_nuclear_sd  \\\n",
       "0          1289.50              1621            667129       251.818937   \n",
       "1          2053.00              2623            437505       418.234988   \n",
       "2          2383.00              2813           1228628       562.127871   \n",
       "3          7984.00             17056           4758631      4387.534707   \n",
       "4          2461.75              3475           1091543       802.661846   \n",
       "\n",
       "   dapi_nuclear_mad  dm1a_nuclear_min  ...  solidity_nuclear  extent_nuclear  \\\n",
       "0             190.5                 0  ...          0.910979        0.702517   \n",
       "1             344.0                 0  ...          0.916667        0.602381   \n",
       "2             328.0                 0  ...          0.931587        0.680851   \n",
       "3            1578.5                 0  ...          0.939954        0.753704   \n",
       "4             459.0                 0  ...          0.947522        0.681342   \n",
       "\n",
       "   area  cell_0  bounds_0  bounds_1  bounds_2  bounds_3  tile  well  \n",
       "0   614       1         0       345        19       391   115    B3  \n",
       "1   253       2         0       561        14       591   115    B3  \n",
       "2   640       3         0       689        20       736   115    B3  \n",
       "3   814       4         0       779        20       833   115    B3  \n",
       "4   650       5         0      1058        18      1111   115    B3  \n",
       "\n",
       "[5 rows x 57 columns]"
      ]
     },
     "execution_count": 44,
     "metadata": {},
     "output_type": "execute_result"
    }
   ],
   "source": [
    "df_phenotype.head()"
   ]
  },
  {
   "cell_type": "code",
   "execution_count": 45,
   "metadata": {},
   "outputs": [],
   "source": [
    "df_merged_deduped_phenotype = df_merged_deduped.merge(df_phenotype,how='left',on=['well','tile','cell_0'])"
   ]
  },
  {
   "cell_type": "code",
   "execution_count": 46,
   "metadata": {},
   "outputs": [
    {
     "data": {
      "text/plain": [
       "3894472"
      ]
     },
     "execution_count": 46,
     "metadata": {},
     "output_type": "execute_result"
    }
   ],
   "source": [
    "df_merged_deduped_phenotype.pipe(len)"
   ]
  },
  {
   "cell_type": "code",
   "execution_count": 47,
   "metadata": {},
   "outputs": [],
   "source": [
    "def remove_edge_cells(df):\n",
    "    df['edge'] = df[['bounds_0','bounds_1','bounds_2','bounds_3']].apply(lambda x:( x.min(axis=0)==0)|(x.max(axis=0)==2960),axis=1)\n",
    "    return df[df['edge'] != True].drop(columns='edge')\n"
   ]
  },
  {
   "cell_type": "code",
   "execution_count": 48,
   "metadata": {},
   "outputs": [],
   "source": [
    "gb_cols = ['well','tile']"
   ]
  },
  {
   "cell_type": "code",
   "execution_count": 49,
   "metadata": {},
   "outputs": [
    {
     "data": {
      "application/vnd.jupyter.widget-view+json": {
       "model_id": "470be41a81e9444a829eb830901158ce",
       "version_major": 2,
       "version_minor": 0
      },
      "text/plain": [
       "HBox(children=(FloatProgress(value=0.0, description=\"['well', 'tile']\", max=7672.0, style=ProgressStyle(descri…"
      ]
     },
     "metadata": {},
     "output_type": "display_data"
    },
    {
     "name": "stdout",
     "output_type": "stream",
     "text": [
      "\n"
     ]
    }
   ],
   "source": [
    "df_merged_deduped_phenotype = df_merged_deduped_phenotype.pipe(ops.utils.gb_apply_parallel,gb_cols,remove_edge_cells,n_jobs=-1)"
   ]
  },
  {
   "cell_type": "code",
   "execution_count": 50,
   "metadata": {},
   "outputs": [
    {
     "data": {
      "text/plain": [
       "3893244"
      ]
     },
     "execution_count": 50,
     "metadata": {},
     "output_type": "execute_result"
    }
   ],
   "source": [
    "df_merged_deduped_phenotype.pipe(len)"
   ]
  },
  {
   "cell_type": "code",
   "execution_count": 51,
   "metadata": {},
   "outputs": [],
   "source": [
    "df_merged_deduped_phenotype.to_hdf('merged_deduped_phenotype.hdf','x',mode='w')"
   ]
  },
  {
   "cell_type": "code",
   "execution_count": 52,
   "metadata": {},
   "outputs": [
    {
     "data": {
      "text/plain": [
       "Index(['well', 'tile', 'cell_0', 'i_0', 'j_0', 'site', 'cell_1', 'i_1', 'j_1',\n",
       "       'sgRNA_0', 'gene_symbol_0', 'group_0', 'dapi_nuclear_min',\n",
       "       'dapi_nuclear_25', 'dapi_nuclear_mean', 'dapi_nuclear_median',\n",
       "       'dapi_nuclear_75', 'dapi_nuclear_max', 'dapi_nuclear_int',\n",
       "       'dapi_nuclear_sd', 'dapi_nuclear_mad', 'dm1a_nuclear_min',\n",
       "       'dm1a_nuclear_25', 'dm1a_nuclear_mean', 'dm1a_nuclear_median',\n",
       "       'dm1a_nuclear_75', 'dm1a_nuclear_max', 'dm1a_nuclear_int',\n",
       "       'dm1a_nuclear_sd', 'dm1a_nuclear_mad', 'gh2ax_nuclear_min',\n",
       "       'gh2ax_nuclear_25', 'gh2ax_nuclear_mean', 'gh2ax_nuclear_median',\n",
       "       'gh2ax_nuclear_75', 'gh2ax_nuclear_max', 'gh2ax_nuclear_int',\n",
       "       'gh2ax_nuclear_sd', 'gh2ax_nuclear_mad', 'phalloidin_nuclear_min',\n",
       "       'phalloidin_nuclear_25', 'phalloidin_nuclear_mean',\n",
       "       'phalloidin_nuclear_median', 'phalloidin_nuclear_75',\n",
       "       'phalloidin_nuclear_max', 'phalloidin_nuclear_int',\n",
       "       'phalloidin_nuclear_sd', 'phalloidin_nuclear_mad',\n",
       "       'dapi_dm1a_corr_nuclear', 'dapi_gh2ax_corr_nuclear',\n",
       "       'dm1a_gh2ax_corr_nuclear', 'dapi_phalloidin_corr_nuclear',\n",
       "       'dm1a_phalloidin_corr_nuclear', 'gh2ax_phalloidin_corr_nuclear',\n",
       "       'perimeter_nuclear', 'eccentricity_nuclear', 'major_axis_nuclear',\n",
       "       'minor_axis_nuclear', 'orientation_nuclear', 'solidity_nuclear',\n",
       "       'extent_nuclear', 'area', 'bounds_0', 'bounds_1', 'bounds_2',\n",
       "       'bounds_3'],\n",
       "      dtype='object')"
      ]
     },
     "execution_count": 52,
     "metadata": {},
     "output_type": "execute_result"
    }
   ],
   "source": [
    "df_merged_deduped_phenotype.columns"
   ]
  },
  {
   "cell_type": "code",
   "execution_count": null,
   "metadata": {},
   "outputs": [],
   "source": []
  }
 ],
 "metadata": {
  "kernelspec": {
   "display_name": "Python 3",
   "language": "python",
   "name": "python3"
  },
  "language_info": {
   "codemirror_mode": {
    "name": "ipython",
    "version": 3
   },
   "file_extension": ".py",
   "mimetype": "text/x-python",
   "name": "python",
   "nbconvert_exporter": "python",
   "pygments_lexer": "ipython3",
   "version": "3.7.4"
  }
 },
 "nbformat": 4,
 "nbformat_minor": 2
}
