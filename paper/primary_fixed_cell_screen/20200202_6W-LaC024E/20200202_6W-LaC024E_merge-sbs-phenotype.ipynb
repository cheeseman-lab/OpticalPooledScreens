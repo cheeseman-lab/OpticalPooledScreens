{
 "cells": [
  {
   "cell_type": "markdown",
   "metadata": {},
   "source": [
    "# Initialize"
   ]
  },
  {
   "cell_type": "code",
   "execution_count": 1,
   "metadata": {},
   "outputs": [],
   "source": [
    "from ops.imports_ipython import *\n",
    "import glob"
   ]
  },
  {
   "cell_type": "code",
   "execution_count": 2,
   "metadata": {},
   "outputs": [],
   "source": [
    "os.chdir('20200202_6W-LaC024E/')"
   ]
  },
  {
   "cell_type": "markdown",
   "metadata": {
    "heading_collapsed": true
   },
   "source": [
    "# combine tables"
   ]
  },
  {
   "cell_type": "code",
   "execution_count": 4,
   "metadata": {
    "hidden": true
   },
   "outputs": [],
   "source": [
    "ops.utils.combine_tables('cp_phenotype',output_filetype='hdf',subdir='process_ph/tables',n_jobs=-2,\n",
    "    usecols=[\n",
    "        'well','tile','cell',\n",
    "        'i','j','bounds_0','bounds_1','bounds_2','bounds_3',\n",
    "        # to identify cells on an acquisition border\n",
    "        'cell_dapi_min','cell_tubulin_min','cell_gh2ax_min','cell_phalloidin_min'\n",
    "        ]\n",
    ")\n",
    "os.rename('cp_phenotype.hdf','min_cp_phenotype.hdf')"
   ]
  },
  {
   "cell_type": "code",
   "execution_count": 5,
   "metadata": {
    "hidden": true
   },
   "outputs": [],
   "source": [
    "ops.utils.combine_tables('merge',output_filetype='hdf',subdir='alignment',n_jobs=-2)"
   ]
  },
  {
   "cell_type": "code",
   "execution_count": 6,
   "metadata": {
    "hidden": true
   },
   "outputs": [],
   "source": [
    "ops.utils.combine_tables('cells',output_filetype='hdf',subdir='process_sbs/tables',n_jobs=-2)"
   ]
  },
  {
   "cell_type": "code",
   "execution_count": 7,
   "metadata": {
    "hidden": true
   },
   "outputs": [],
   "source": [
    "df_merged = pd.read_hdf('merge.hdf')"
   ]
  },
  {
   "cell_type": "markdown",
   "metadata": {
    "heading_collapsed": true
   },
   "source": [
    "# add distance to FOV center for each cell"
   ]
  },
  {
   "cell_type": "code",
   "execution_count": 8,
   "metadata": {
    "hidden": true
   },
   "outputs": [],
   "source": [
    "def fov_distance(df,i='i',j='j',dimensions=(2960,2960),suffix=''):\n",
    "    distance  = lambda x: np.sqrt((x[i]-(dimensions[0]/2))**2+(x[j]-(dimensions[1]/2))**2)\n",
    "    df['fov_distance'+suffix]=df.apply(distance,axis=1)\n",
    "    return df"
   ]
  },
  {
   "cell_type": "code",
   "execution_count": 9,
   "metadata": {
    "hidden": true
   },
   "outputs": [],
   "source": [
    "df_merged.pipe(fov_distance,i='i_0',j='j_0',suffix='_0');"
   ]
  },
  {
   "cell_type": "code",
   "execution_count": 10,
   "metadata": {
    "hidden": true
   },
   "outputs": [],
   "source": [
    "df_merged.pipe(fov_distance,i='i_1',j='j_1',dimensions=(1480,1480),suffix='_1');"
   ]
  },
  {
   "cell_type": "code",
   "execution_count": 11,
   "metadata": {
    "hidden": true
   },
   "outputs": [
    {
     "data": {
      "text/html": [
       "<div>\n",
       "<style scoped>\n",
       "    .dataframe tbody tr th:only-of-type {\n",
       "        vertical-align: middle;\n",
       "    }\n",
       "\n",
       "    .dataframe tbody tr th {\n",
       "        vertical-align: top;\n",
       "    }\n",
       "\n",
       "    .dataframe thead th {\n",
       "        text-align: right;\n",
       "    }\n",
       "</style>\n",
       "<table border=\"1\" class=\"dataframe\">\n",
       "  <thead>\n",
       "    <tr style=\"text-align: right;\">\n",
       "      <th></th>\n",
       "      <th>well</th>\n",
       "      <th>tile</th>\n",
       "      <th>cell_0</th>\n",
       "      <th>i_0</th>\n",
       "      <th>j_0</th>\n",
       "      <th>site</th>\n",
       "      <th>cell_1</th>\n",
       "      <th>i_1</th>\n",
       "      <th>j_1</th>\n",
       "      <th>distance</th>\n",
       "      <th>fov_distance_0</th>\n",
       "      <th>fov_distance_1</th>\n",
       "    </tr>\n",
       "  </thead>\n",
       "  <tbody>\n",
       "    <tr>\n",
       "      <th>794</th>\n",
       "      <td>A3</td>\n",
       "      <td>1252</td>\n",
       "      <td>822</td>\n",
       "      <td>1544.061622</td>\n",
       "      <td>1455.355676</td>\n",
       "      <td>323</td>\n",
       "      <td>2915</td>\n",
       "      <td>740.214876</td>\n",
       "      <td>739.884298</td>\n",
       "      <td>0.226348</td>\n",
       "      <td>68.638430</td>\n",
       "      <td>0.244047</td>\n",
       "    </tr>\n",
       "    <tr>\n",
       "      <th>714</th>\n",
       "      <td>A2</td>\n",
       "      <td>1279</td>\n",
       "      <td>741</td>\n",
       "      <td>1543.246706</td>\n",
       "      <td>1452.357247</td>\n",
       "      <td>331</td>\n",
       "      <td>2327</td>\n",
       "      <td>739.707865</td>\n",
       "      <td>739.988764</td>\n",
       "      <td>0.134083</td>\n",
       "      <td>69.023674</td>\n",
       "      <td>0.292351</td>\n",
       "    </tr>\n",
       "    <tr>\n",
       "      <th>727</th>\n",
       "      <td>A3</td>\n",
       "      <td>789</td>\n",
       "      <td>760</td>\n",
       "      <td>1517.533711</td>\n",
       "      <td>1483.503116</td>\n",
       "      <td>201</td>\n",
       "      <td>2904</td>\n",
       "      <td>740.468468</td>\n",
       "      <td>740.153153</td>\n",
       "      <td>0.138697</td>\n",
       "      <td>37.696834</td>\n",
       "      <td>0.492868</td>\n",
       "    </tr>\n",
       "    <tr>\n",
       "      <th>540</th>\n",
       "      <td>B2</td>\n",
       "      <td>724</td>\n",
       "      <td>569</td>\n",
       "      <td>1509.327798</td>\n",
       "      <td>1451.590614</td>\n",
       "      <td>186</td>\n",
       "      <td>2191</td>\n",
       "      <td>739.420000</td>\n",
       "      <td>739.630000</td>\n",
       "      <td>0.137727</td>\n",
       "      <td>40.831519</td>\n",
       "      <td>0.687968</td>\n",
       "    </tr>\n",
       "    <tr>\n",
       "      <th>586</th>\n",
       "      <td>A1</td>\n",
       "      <td>28</td>\n",
       "      <td>624</td>\n",
       "      <td>1444.109780</td>\n",
       "      <td>1482.149701</td>\n",
       "      <td>9</td>\n",
       "      <td>2433</td>\n",
       "      <td>739.934066</td>\n",
       "      <td>740.736264</td>\n",
       "      <td>0.380540</td>\n",
       "      <td>35.954542</td>\n",
       "      <td>0.739210</td>\n",
       "    </tr>\n",
       "  </tbody>\n",
       "</table>\n",
       "</div>"
      ],
      "text/plain": [
       "    well  tile  cell_0          i_0          j_0  site  cell_1         i_1  \\\n",
       "794   A3  1252     822  1544.061622  1455.355676   323    2915  740.214876   \n",
       "714   A2  1279     741  1543.246706  1452.357247   331    2327  739.707865   \n",
       "727   A3   789     760  1517.533711  1483.503116   201    2904  740.468468   \n",
       "540   B2   724     569  1509.327798  1451.590614   186    2191  739.420000   \n",
       "586   A1    28     624  1444.109780  1482.149701     9    2433  739.934066   \n",
       "\n",
       "            j_1  distance  fov_distance_0  fov_distance_1  \n",
       "794  739.884298  0.226348       68.638430        0.244047  \n",
       "714  739.988764  0.134083       69.023674        0.292351  \n",
       "727  740.153153  0.138697       37.696834        0.492868  \n",
       "540  739.630000  0.137727       40.831519        0.687968  \n",
       "586  740.736264  0.380540       35.954542        0.739210  "
      ]
     },
     "execution_count": 11,
     "metadata": {},
     "output_type": "execute_result"
    }
   ],
   "source": [
    "df_merged.sort_values(['fov_distance_1']).head()"
   ]
  },
  {
   "cell_type": "markdown",
   "metadata": {
    "heading_collapsed": true
   },
   "source": [
    "# add mapping info"
   ]
  },
  {
   "cell_type": "code",
   "execution_count": 12,
   "metadata": {
    "hidden": true
   },
   "outputs": [],
   "source": [
    "df_cells = pd.read_hdf('cells.hdf')"
   ]
  },
  {
   "cell_type": "code",
   "execution_count": 13,
   "metadata": {
    "hidden": true
   },
   "outputs": [
    {
     "data": {
      "text/html": [
       "<div>\n",
       "<style scoped>\n",
       "    .dataframe tbody tr th:only-of-type {\n",
       "        vertical-align: middle;\n",
       "    }\n",
       "\n",
       "    .dataframe tbody tr th {\n",
       "        vertical-align: top;\n",
       "    }\n",
       "\n",
       "    .dataframe thead th {\n",
       "        text-align: right;\n",
       "    }\n",
       "</style>\n",
       "<table border=\"1\" class=\"dataframe\">\n",
       "  <thead>\n",
       "    <tr style=\"text-align: right;\">\n",
       "      <th></th>\n",
       "      <th>cell</th>\n",
       "      <th>tile</th>\n",
       "      <th>well</th>\n",
       "      <th>Q_0</th>\n",
       "      <th>Q_1</th>\n",
       "      <th>Q_2</th>\n",
       "      <th>Q_3</th>\n",
       "      <th>Q_4</th>\n",
       "      <th>Q_5</th>\n",
       "      <th>Q_6</th>\n",
       "      <th>...</th>\n",
       "      <th>cell_barcode_count_0</th>\n",
       "      <th>cell_barcode_1</th>\n",
       "      <th>cell_barcode_count_1</th>\n",
       "      <th>barcode_count</th>\n",
       "      <th>sgRNA_0</th>\n",
       "      <th>gene_symbol_0</th>\n",
       "      <th>group_0</th>\n",
       "      <th>sgRNA_1</th>\n",
       "      <th>gene_symbol_1</th>\n",
       "      <th>group_1</th>\n",
       "    </tr>\n",
       "  </thead>\n",
       "  <tbody>\n",
       "    <tr>\n",
       "      <th>0</th>\n",
       "      <td>17</td>\n",
       "      <td>166</td>\n",
       "      <td>B3</td>\n",
       "      <td>0.597111</td>\n",
       "      <td>0.530263</td>\n",
       "      <td>0.484143</td>\n",
       "      <td>0.658835</td>\n",
       "      <td>0.321963</td>\n",
       "      <td>0.141298</td>\n",
       "      <td>0.429827</td>\n",
       "      <td>...</td>\n",
       "      <td>1</td>\n",
       "      <td>NaN</td>\n",
       "      <td>0.0</td>\n",
       "      <td>1</td>\n",
       "      <td>GAGGTATCATAATTCCCAGG</td>\n",
       "      <td>ATP6V1A</td>\n",
       "      <td>essentials_11L2</td>\n",
       "      <td>NaN</td>\n",
       "      <td>NaN</td>\n",
       "      <td>NaN</td>\n",
       "    </tr>\n",
       "    <tr>\n",
       "      <th>1</th>\n",
       "      <td>19</td>\n",
       "      <td>166</td>\n",
       "      <td>B3</td>\n",
       "      <td>0.827440</td>\n",
       "      <td>0.217931</td>\n",
       "      <td>0.314575</td>\n",
       "      <td>0.264544</td>\n",
       "      <td>0.704295</td>\n",
       "      <td>0.647835</td>\n",
       "      <td>0.259778</td>\n",
       "      <td>...</td>\n",
       "      <td>1</td>\n",
       "      <td>CCCCACCCACA</td>\n",
       "      <td>1.0</td>\n",
       "      <td>2</td>\n",
       "      <td>GCCAAGATCGTGAAGCCCAA</td>\n",
       "      <td>RPS7</td>\n",
       "      <td>essentials_11L2</td>\n",
       "      <td>NaN</td>\n",
       "      <td>NaN</td>\n",
       "      <td>NaN</td>\n",
       "    </tr>\n",
       "    <tr>\n",
       "      <th>2</th>\n",
       "      <td>24</td>\n",
       "      <td>166</td>\n",
       "      <td>B3</td>\n",
       "      <td>1.000000</td>\n",
       "      <td>0.400528</td>\n",
       "      <td>0.741337</td>\n",
       "      <td>0.476006</td>\n",
       "      <td>0.922510</td>\n",
       "      <td>0.654988</td>\n",
       "      <td>0.067658</td>\n",
       "      <td>...</td>\n",
       "      <td>1</td>\n",
       "      <td>NaN</td>\n",
       "      <td>0.0</td>\n",
       "      <td>1</td>\n",
       "      <td>AAAGGATGATCACAATGTTC</td>\n",
       "      <td>RAB4A</td>\n",
       "      <td>essentials_11L2</td>\n",
       "      <td>NaN</td>\n",
       "      <td>NaN</td>\n",
       "      <td>NaN</td>\n",
       "    </tr>\n",
       "    <tr>\n",
       "      <th>3</th>\n",
       "      <td>27</td>\n",
       "      <td>166</td>\n",
       "      <td>B3</td>\n",
       "      <td>1.000000</td>\n",
       "      <td>0.939437</td>\n",
       "      <td>0.646268</td>\n",
       "      <td>0.608081</td>\n",
       "      <td>0.343315</td>\n",
       "      <td>1.000000</td>\n",
       "      <td>0.787477</td>\n",
       "      <td>...</td>\n",
       "      <td>2</td>\n",
       "      <td>NaN</td>\n",
       "      <td>0.0</td>\n",
       "      <td>2</td>\n",
       "      <td>AGCGTGGTAAGCGGCAGACG</td>\n",
       "      <td>TNNT1</td>\n",
       "      <td>essentials_11L2</td>\n",
       "      <td>NaN</td>\n",
       "      <td>NaN</td>\n",
       "      <td>NaN</td>\n",
       "    </tr>\n",
       "    <tr>\n",
       "      <th>4</th>\n",
       "      <td>28</td>\n",
       "      <td>166</td>\n",
       "      <td>B3</td>\n",
       "      <td>0.640094</td>\n",
       "      <td>0.615193</td>\n",
       "      <td>0.747011</td>\n",
       "      <td>0.744167</td>\n",
       "      <td>0.768473</td>\n",
       "      <td>0.156254</td>\n",
       "      <td>1.000000</td>\n",
       "      <td>...</td>\n",
       "      <td>1</td>\n",
       "      <td>NaN</td>\n",
       "      <td>0.0</td>\n",
       "      <td>1</td>\n",
       "      <td>CAATATCGGGTGCTACAGGA</td>\n",
       "      <td>nontargeting</td>\n",
       "      <td>essentials_11L2</td>\n",
       "      <td>NaN</td>\n",
       "      <td>NaN</td>\n",
       "      <td>NaN</td>\n",
       "    </tr>\n",
       "  </tbody>\n",
       "</table>\n",
       "<p>5 rows × 27 columns</p>\n",
       "</div>"
      ],
      "text/plain": [
       "   cell  tile well       Q_0       Q_1       Q_2       Q_3       Q_4  \\\n",
       "0    17   166   B3  0.597111  0.530263  0.484143  0.658835  0.321963   \n",
       "1    19   166   B3  0.827440  0.217931  0.314575  0.264544  0.704295   \n",
       "2    24   166   B3  1.000000  0.400528  0.741337  0.476006  0.922510   \n",
       "3    27   166   B3  1.000000  0.939437  0.646268  0.608081  0.343315   \n",
       "4    28   166   B3  0.640094  0.615193  0.747011  0.744167  0.768473   \n",
       "\n",
       "        Q_5       Q_6  ...  cell_barcode_count_0  cell_barcode_1  \\\n",
       "0  0.141298  0.429827  ...                     1             NaN   \n",
       "1  0.647835  0.259778  ...                     1     CCCCACCCACA   \n",
       "2  0.654988  0.067658  ...                     1             NaN   \n",
       "3  1.000000  0.787477  ...                     2             NaN   \n",
       "4  0.156254  1.000000  ...                     1             NaN   \n",
       "\n",
       "   cell_barcode_count_1  barcode_count               sgRNA_0  gene_symbol_0  \\\n",
       "0                   0.0              1  GAGGTATCATAATTCCCAGG        ATP6V1A   \n",
       "1                   1.0              2  GCCAAGATCGTGAAGCCCAA           RPS7   \n",
       "2                   0.0              1  AAAGGATGATCACAATGTTC          RAB4A   \n",
       "3                   0.0              2  AGCGTGGTAAGCGGCAGACG          TNNT1   \n",
       "4                   0.0              1  CAATATCGGGTGCTACAGGA   nontargeting   \n",
       "\n",
       "           group_0  sgRNA_1 gene_symbol_1  group_1  \n",
       "0  essentials_11L2      NaN           NaN      NaN  \n",
       "1  essentials_11L2      NaN           NaN      NaN  \n",
       "2  essentials_11L2      NaN           NaN      NaN  \n",
       "3  essentials_11L2      NaN           NaN      NaN  \n",
       "4  essentials_11L2      NaN           NaN      NaN  \n",
       "\n",
       "[5 rows x 27 columns]"
      ]
     },
     "execution_count": 13,
     "metadata": {},
     "output_type": "execute_result"
    }
   ],
   "source": [
    "df_cells.head()"
   ]
  },
  {
   "cell_type": "code",
   "execution_count": 14,
   "metadata": {
    "hidden": true
   },
   "outputs": [],
   "source": [
    "df_cells['mapped_single_gene'] = (df_cells.apply(lambda x: True \n",
    "                    if (pd.notnull(x.gene_symbol_0)&pd.isnull(x.gene_symbol_1))|(x.gene_symbol_0==x.gene_symbol_1) \n",
    "                    else False,axis=1)\n",
    "                                  )"
   ]
  },
  {
   "cell_type": "code",
   "execution_count": 15,
   "metadata": {
    "hidden": true
   },
   "outputs": [
    {
     "data": {
      "text/plain": [
       "True     4574148\n",
       "False    2157553\n",
       "Name: mapped_single_gene, dtype: int64"
      ]
     },
     "execution_count": 15,
     "metadata": {},
     "output_type": "execute_result"
    }
   ],
   "source": [
    "df_cells.mapped_single_gene.value_counts()"
   ]
  },
  {
   "cell_type": "code",
   "execution_count": 16,
   "metadata": {
    "hidden": true
   },
   "outputs": [],
   "source": [
    "df_merged = df_merged.merge((df_cells[['well','tile','cell','sgRNA_0','gene_symbol_0','group_0','mapped_single_gene']]\n",
    "                             .rename({'tile':'site','cell':'cell_1'},axis=1)),\n",
    "                            how='left',on=['well','site','cell_1'])"
   ]
  },
  {
   "cell_type": "code",
   "execution_count": 17,
   "metadata": {
    "hidden": true
   },
   "outputs": [
    {
     "data": {
      "text/html": [
       "<div>\n",
       "<style scoped>\n",
       "    .dataframe tbody tr th:only-of-type {\n",
       "        vertical-align: middle;\n",
       "    }\n",
       "\n",
       "    .dataframe tbody tr th {\n",
       "        vertical-align: top;\n",
       "    }\n",
       "\n",
       "    .dataframe thead th {\n",
       "        text-align: right;\n",
       "    }\n",
       "</style>\n",
       "<table border=\"1\" class=\"dataframe\">\n",
       "  <thead>\n",
       "    <tr style=\"text-align: right;\">\n",
       "      <th></th>\n",
       "      <th>well</th>\n",
       "      <th>tile</th>\n",
       "      <th>cell_0</th>\n",
       "      <th>i_0</th>\n",
       "      <th>j_0</th>\n",
       "      <th>site</th>\n",
       "      <th>cell_1</th>\n",
       "      <th>i_1</th>\n",
       "      <th>j_1</th>\n",
       "      <th>distance</th>\n",
       "      <th>fov_distance_0</th>\n",
       "      <th>fov_distance_1</th>\n",
       "      <th>sgRNA_0</th>\n",
       "      <th>gene_symbol_0</th>\n",
       "      <th>group_0</th>\n",
       "      <th>mapped_single_gene</th>\n",
       "    </tr>\n",
       "  </thead>\n",
       "  <tbody>\n",
       "    <tr>\n",
       "      <th>1</th>\n",
       "      <td>B3</td>\n",
       "      <td>474</td>\n",
       "      <td>451</td>\n",
       "      <td>1092.389009</td>\n",
       "      <td>1080.368239</td>\n",
       "      <td>123</td>\n",
       "      <td>2</td>\n",
       "      <td>4.359649</td>\n",
       "      <td>639.008772</td>\n",
       "      <td>0.693279</td>\n",
       "      <td>556.729580</td>\n",
       "      <td>742.540204</td>\n",
       "      <td>NaN</td>\n",
       "      <td>NaN</td>\n",
       "      <td>NaN</td>\n",
       "      <td>NaN</td>\n",
       "    </tr>\n",
       "    <tr>\n",
       "      <th>2</th>\n",
       "      <td>B3</td>\n",
       "      <td>474</td>\n",
       "      <td>447</td>\n",
       "      <td>1082.052570</td>\n",
       "      <td>1840.820093</td>\n",
       "      <td>123</td>\n",
       "      <td>4</td>\n",
       "      <td>2.456140</td>\n",
       "      <td>830.526316</td>\n",
       "      <td>1.567729</td>\n",
       "      <td>537.171571</td>\n",
       "      <td>743.078703</td>\n",
       "      <td>NaN</td>\n",
       "      <td>NaN</td>\n",
       "      <td>NaN</td>\n",
       "      <td>NaN</td>\n",
       "    </tr>\n",
       "    <tr>\n",
       "      <th>7</th>\n",
       "      <td>B3</td>\n",
       "      <td>474</td>\n",
       "      <td>454</td>\n",
       "      <td>1104.946878</td>\n",
       "      <td>905.460022</td>\n",
       "      <td>123</td>\n",
       "      <td>18</td>\n",
       "      <td>6.252252</td>\n",
       "      <td>594.612613</td>\n",
       "      <td>1.186161</td>\n",
       "      <td>686.120274</td>\n",
       "      <td>748.012867</td>\n",
       "      <td>NaN</td>\n",
       "      <td>NaN</td>\n",
       "      <td>NaN</td>\n",
       "      <td>NaN</td>\n",
       "    </tr>\n",
       "    <tr>\n",
       "      <th>6</th>\n",
       "      <td>B3</td>\n",
       "      <td>474</td>\n",
       "      <td>453</td>\n",
       "      <td>1102.045556</td>\n",
       "      <td>838.778193</td>\n",
       "      <td>123</td>\n",
       "      <td>16</td>\n",
       "      <td>5.363636</td>\n",
       "      <td>577.597403</td>\n",
       "      <td>1.545607</td>\n",
       "      <td>744.321817</td>\n",
       "      <td>752.373039</td>\n",
       "      <td>NaN</td>\n",
       "      <td>NaN</td>\n",
       "      <td>NaN</td>\n",
       "      <td>NaN</td>\n",
       "    </tr>\n",
       "    <tr>\n",
       "      <th>5</th>\n",
       "      <td>B3</td>\n",
       "      <td>474</td>\n",
       "      <td>452</td>\n",
       "      <td>1098.433249</td>\n",
       "      <td>652.899874</td>\n",
       "      <td>123</td>\n",
       "      <td>15</td>\n",
       "      <td>4.934783</td>\n",
       "      <td>531.630435</td>\n",
       "      <td>0.825219</td>\n",
       "      <td>910.872002</td>\n",
       "      <td>764.027977</td>\n",
       "      <td>NaN</td>\n",
       "      <td>NaN</td>\n",
       "      <td>NaN</td>\n",
       "      <td>NaN</td>\n",
       "    </tr>\n",
       "    <tr>\n",
       "      <th>3</th>\n",
       "      <td>B3</td>\n",
       "      <td>474</td>\n",
       "      <td>450</td>\n",
       "      <td>1087.495982</td>\n",
       "      <td>2455.862227</td>\n",
       "      <td>123</td>\n",
       "      <td>6</td>\n",
       "      <td>2.756757</td>\n",
       "      <td>984.635135</td>\n",
       "      <td>1.028069</td>\n",
       "      <td>1051.839575</td>\n",
       "      <td>776.771491</td>\n",
       "      <td>NaN</td>\n",
       "      <td>NaN</td>\n",
       "      <td>NaN</td>\n",
       "      <td>NaN</td>\n",
       "    </tr>\n",
       "    <tr>\n",
       "      <th>9</th>\n",
       "      <td>B3</td>\n",
       "      <td>474</td>\n",
       "      <td>456</td>\n",
       "      <td>1106.642424</td>\n",
       "      <td>201.272727</td>\n",
       "      <td>123</td>\n",
       "      <td>21</td>\n",
       "      <td>6.400000</td>\n",
       "      <td>418.077778</td>\n",
       "      <td>1.596550</td>\n",
       "      <td>1332.118357</td>\n",
       "      <td>801.126006</td>\n",
       "      <td>NaN</td>\n",
       "      <td>NaN</td>\n",
       "      <td>NaN</td>\n",
       "      <td>NaN</td>\n",
       "    </tr>\n",
       "    <tr>\n",
       "      <th>0</th>\n",
       "      <td>B3</td>\n",
       "      <td>474</td>\n",
       "      <td>449</td>\n",
       "      <td>1084.429774</td>\n",
       "      <td>108.590742</td>\n",
       "      <td>123</td>\n",
       "      <td>1</td>\n",
       "      <td>2.475000</td>\n",
       "      <td>396.087500</td>\n",
       "      <td>0.663577</td>\n",
       "      <td>1427.318870</td>\n",
       "      <td>813.768354</td>\n",
       "      <td>NaN</td>\n",
       "      <td>NaN</td>\n",
       "      <td>NaN</td>\n",
       "      <td>NaN</td>\n",
       "    </tr>\n",
       "    <tr>\n",
       "      <th>8</th>\n",
       "      <td>B3</td>\n",
       "      <td>474</td>\n",
       "      <td>455</td>\n",
       "      <td>1108.107317</td>\n",
       "      <td>57.383972</td>\n",
       "      <td>123</td>\n",
       "      <td>20</td>\n",
       "      <td>6.580247</td>\n",
       "      <td>382.506173</td>\n",
       "      <td>1.438431</td>\n",
       "      <td>1470.421889</td>\n",
       "      <td>815.908310</td>\n",
       "      <td>NaN</td>\n",
       "      <td>NaN</td>\n",
       "      <td>NaN</td>\n",
       "      <td>NaN</td>\n",
       "    </tr>\n",
       "    <tr>\n",
       "      <th>4</th>\n",
       "      <td>B3</td>\n",
       "      <td>474</td>\n",
       "      <td>448</td>\n",
       "      <td>1082.717680</td>\n",
       "      <td>2892.225967</td>\n",
       "      <td>123</td>\n",
       "      <td>7</td>\n",
       "      <td>2.083333</td>\n",
       "      <td>1093.816667</td>\n",
       "      <td>1.270202</td>\n",
       "      <td>1467.043089</td>\n",
       "      <td>818.356426</td>\n",
       "      <td>NaN</td>\n",
       "      <td>NaN</td>\n",
       "      <td>NaN</td>\n",
       "      <td>NaN</td>\n",
       "    </tr>\n",
       "  </tbody>\n",
       "</table>\n",
       "</div>"
      ],
      "text/plain": [
       "  well  tile  cell_0          i_0          j_0  site  cell_1       i_1  \\\n",
       "1   B3   474     451  1092.389009  1080.368239   123       2  4.359649   \n",
       "2   B3   474     447  1082.052570  1840.820093   123       4  2.456140   \n",
       "7   B3   474     454  1104.946878   905.460022   123      18  6.252252   \n",
       "6   B3   474     453  1102.045556   838.778193   123      16  5.363636   \n",
       "5   B3   474     452  1098.433249   652.899874   123      15  4.934783   \n",
       "3   B3   474     450  1087.495982  2455.862227   123       6  2.756757   \n",
       "9   B3   474     456  1106.642424   201.272727   123      21  6.400000   \n",
       "0   B3   474     449  1084.429774   108.590742   123       1  2.475000   \n",
       "8   B3   474     455  1108.107317    57.383972   123      20  6.580247   \n",
       "4   B3   474     448  1082.717680  2892.225967   123       7  2.083333   \n",
       "\n",
       "           j_1  distance  fov_distance_0  fov_distance_1 sgRNA_0  \\\n",
       "1   639.008772  0.693279      556.729580      742.540204     NaN   \n",
       "2   830.526316  1.567729      537.171571      743.078703     NaN   \n",
       "7   594.612613  1.186161      686.120274      748.012867     NaN   \n",
       "6   577.597403  1.545607      744.321817      752.373039     NaN   \n",
       "5   531.630435  0.825219      910.872002      764.027977     NaN   \n",
       "3   984.635135  1.028069     1051.839575      776.771491     NaN   \n",
       "9   418.077778  1.596550     1332.118357      801.126006     NaN   \n",
       "0   396.087500  0.663577     1427.318870      813.768354     NaN   \n",
       "8   382.506173  1.438431     1470.421889      815.908310     NaN   \n",
       "4  1093.816667  1.270202     1467.043089      818.356426     NaN   \n",
       "\n",
       "  gene_symbol_0 group_0 mapped_single_gene  \n",
       "1           NaN     NaN                NaN  \n",
       "2           NaN     NaN                NaN  \n",
       "7           NaN     NaN                NaN  \n",
       "6           NaN     NaN                NaN  \n",
       "5           NaN     NaN                NaN  \n",
       "3           NaN     NaN                NaN  \n",
       "9           NaN     NaN                NaN  \n",
       "0           NaN     NaN                NaN  \n",
       "8           NaN     NaN                NaN  \n",
       "4           NaN     NaN                NaN  "
      ]
     },
     "execution_count": 17,
     "metadata": {},
     "output_type": "execute_result"
    }
   ],
   "source": [
    "df_merged.head(10).sort_values(['mapped_single_gene','fov_distance_1'],ascending=[False,True])"
   ]
  },
  {
   "cell_type": "markdown",
   "metadata": {
    "heading_collapsed": true
   },
   "source": [
    "# add phenotype min info"
   ]
  },
  {
   "cell_type": "code",
   "execution_count": 18,
   "metadata": {
    "hidden": true
   },
   "outputs": [],
   "source": [
    "df_phenotype = pd.read_hdf('min_cp_phenotype.hdf').fillna(0)"
   ]
  },
  {
   "cell_type": "code",
   "execution_count": 19,
   "metadata": {
    "hidden": true
   },
   "outputs": [],
   "source": [
    "min_cols = [col for col in df_phenotype.columns if '_min' in col]\n",
    "info_cols = [col for col in df_phenotype.columns if col not in min_cols]"
   ]
  },
  {
   "cell_type": "code",
   "execution_count": 21,
   "metadata": {
    "hidden": true
   },
   "outputs": [],
   "source": [
    "df_phenotype['channels_min'] = df_phenotype[min_cols].apply(lambda x: x.min(axis=0),axis=1)"
   ]
  },
  {
   "cell_type": "code",
   "execution_count": 23,
   "metadata": {
    "hidden": true
   },
   "outputs": [],
   "source": [
    "df_merged = df_merged.merge((df_phenotype[['well','tile','cell','channels_min']]\n",
    "                             .rename(columns={'cell':'cell_0'})),\n",
    "                            how='left',on=['well','tile','cell_0'])"
   ]
  },
  {
   "cell_type": "code",
   "execution_count": null,
   "metadata": {},
   "outputs": [],
   "source": []
  },
  {
   "cell_type": "code",
   "execution_count": 24,
   "metadata": {
    "hidden": true
   },
   "outputs": [
    {
     "data": {
      "text/plain": [
       "<matplotlib.axes._subplots.AxesSubplot at 0x7f0896eca2d0>"
      ]
     },
     "execution_count": 24,
     "metadata": {},
     "output_type": "execute_result"
    },
    {
     "data": {
      "image/png": "[encoded data removed]",
      "text/plain": [
       "<Figure size 1440x1440 with 1 Axes>"
      ]
     },
     "metadata": {},
     "output_type": "display_data"
    }
   ],
   "source": [
    "# visualize cells overlapping channel alignment edges\n",
    "# (only relevant if phenotype channels are acquired separately)\n",
    "plt.figure(figsize=(20,20))\n",
    "sns.scatterplot(data=(df_merged\n",
    "                      .query('channels_min==0')\n",
    "                      [['i_0','j_0']]\n",
    "                     ),\n",
    "                x='i_0',y='j_0')"
   ]
  },
  {
   "cell_type": "markdown",
   "metadata": {},
   "source": [
    "# filter merged datasets for duplicates"
   ]
  },
  {
   "cell_type": "code",
   "execution_count": 6,
   "metadata": {},
   "outputs": [
    {
     "name": "stdout",
     "output_type": "stream",
     "text": [
      "The history saving thread hit an unexpected error (OperationalError('database is locked')).History will not be written to the database.\n"
     ]
    },
    {
     "data": {
      "text/plain": [
       "1    6140418\n",
       "2    1744412\n",
       "3      27154\n",
       "4       1248\n",
       "Name: cell_0, dtype: int64"
      ]
     },
     "execution_count": 6,
     "metadata": {},
     "output_type": "execute_result"
    }
   ],
   "source": [
    "df_merged.groupby(['well','tile']).cell_0.value_counts().value_counts()"
   ]
  },
  {
   "cell_type": "code",
   "execution_count": 7,
   "metadata": {},
   "outputs": [
    {
     "data": {
      "text/plain": [
       "1    5802131\n",
       "2    1792765\n",
       "3      68577\n",
       "4      30576\n",
       "Name: cell_1, dtype: int64"
      ]
     },
     "execution_count": 7,
     "metadata": {},
     "output_type": "execute_result"
    }
   ],
   "source": [
    "df_merged.groupby(['well','site']).cell_1.value_counts().value_counts()"
   ]
  },
  {
   "cell_type": "code",
   "execution_count": 8,
   "metadata": {},
   "outputs": [
    {
     "data": {
      "text/plain": [
       "7694049"
      ]
     },
     "execution_count": 8,
     "metadata": {},
     "output_type": "execute_result"
    }
   ],
   "source": [
    "df_merged.drop_duplicates(['well','site','cell_1']).pipe(len)"
   ]
  },
  {
   "cell_type": "code",
   "execution_count": 10,
   "metadata": {},
   "outputs": [
    {
     "data": {
      "text/plain": [
       "9715696"
      ]
     },
     "execution_count": 10,
     "metadata": {},
     "output_type": "execute_result"
    }
   ],
   "source": [
    "df_merged.pipe(len)"
   ]
  },
  {
   "cell_type": "code",
   "execution_count": 11,
   "metadata": {},
   "outputs": [],
   "source": [
    "# remove cells with phenotype channel min ==0\n",
    "df_merged_ph = (df_merged\n",
    "             .query('channels_min>0')\n",
    "            )"
   ]
  },
  {
   "cell_type": "code",
   "execution_count": 12,
   "metadata": {},
   "outputs": [
    {
     "data": {
      "text/plain": [
       "7686283"
      ]
     },
     "execution_count": 12,
     "metadata": {},
     "output_type": "execute_result"
    }
   ],
   "source": [
    "df_merged_ph.drop_duplicates(['well','site','cell_1']).pipe(len)"
   ]
  },
  {
   "cell_type": "code",
   "execution_count": 13,
   "metadata": {},
   "outputs": [
    {
     "data": {
      "text/plain": [
       "1    5904821\n",
       "2    1696669\n",
       "3      58449\n",
       "4      26344\n",
       "Name: cell_1, dtype: int64"
      ]
     },
     "execution_count": 13,
     "metadata": {},
     "output_type": "execute_result"
    }
   ],
   "source": [
    "df_merged_ph.groupby(['well','site']).cell_1.value_counts().value_counts()"
   ]
  },
  {
   "cell_type": "code",
   "execution_count": 14,
   "metadata": {},
   "outputs": [],
   "source": [
    "# drop sbs cells mapping to same phenotype cell by priority (mapping, fov_distance)\n",
    "df_merged_filt = (df_merged_ph\n",
    "                  .sort_values(['mapped_single_gene','fov_distance_1'],\n",
    "                               ascending=[False,True])\n",
    "                  .drop_duplicates(['well','tile','cell_0'],keep='first')\n",
    "                 )"
   ]
  },
  {
   "cell_type": "code",
   "execution_count": 15,
   "metadata": {},
   "outputs": [
    {
     "data": {
      "text/plain": [
       "1    4577739\n",
       "2    1464971\n",
       "3      58449\n",
       "4      26344\n",
       "Name: cell_1, dtype: int64"
      ]
     },
     "execution_count": 15,
     "metadata": {},
     "output_type": "execute_result"
    }
   ],
   "source": [
    "df_merged_filt.groupby(['well','site']).cell_1.value_counts().value_counts()"
   ]
  },
  {
   "cell_type": "code",
   "execution_count": 16,
   "metadata": {},
   "outputs": [],
   "source": [
    "# drop duplicated phenotype cells mapping to same sbs cell by priority (fov_distance)\n",
    "df_merged_filt_filt = (df_merged_filt\n",
    "                       .sort_values(['fov_distance_0'],ascending=True)\n",
    "                       .drop_duplicates(['well','site','cell_1'],keep='first')\n",
    "                      )"
   ]
  },
  {
   "cell_type": "code",
   "execution_count": 17,
   "metadata": {},
   "outputs": [
    {
     "data": {
      "text/plain": [
       "6127503"
      ]
     },
     "execution_count": 17,
     "metadata": {},
     "output_type": "execute_result"
    }
   ],
   "source": [
    "df_merged_filt_filt.pipe(len)"
   ]
  },
  {
   "cell_type": "code",
   "execution_count": 18,
   "metadata": {},
   "outputs": [
    {
     "data": {
      "text/plain": [
       "3480190"
      ]
     },
     "execution_count": 18,
     "metadata": {},
     "output_type": "execute_result"
    }
   ],
   "source": [
    "df_merged_filt_filt[df_merged_filt_filt.mapped_single_gene==True].pipe(len)"
   ]
  },
  {
   "cell_type": "code",
   "execution_count": null,
   "metadata": {},
   "outputs": [],
   "source": [
    "df_merged.to_hdf('merge.hdf', 'x', mode='w')"
   ]
  },
  {
   "cell_type": "code",
   "execution_count": null,
   "metadata": {},
   "outputs": [],
   "source": [
    "df_merged_filt_filt.to_hdf('merged_deduped.hdf', 'x', mode='w')"
   ]
  },
  {
   "cell_type": "markdown",
   "metadata": {},
   "source": [
    "# check cell matching rate"
   ]
  },
  {
   "cell_type": "code",
   "execution_count": 22,
   "metadata": {},
   "outputs": [
    {
     "data": {
      "text/plain": [
       "A2    1339136\n",
       "B2    1323566\n",
       "A1    1162905\n",
       "B3    1154494\n",
       "A3    1147402\n",
       "Name: well, dtype: int64"
      ]
     },
     "execution_count": 22,
     "metadata": {},
     "output_type": "execute_result"
    }
   ],
   "source": [
    "df_merged_filt_filt.well.value_counts()"
   ]
  },
  {
   "cell_type": "code",
   "execution_count": 24,
   "metadata": {},
   "outputs": [],
   "source": [
    "df_sbs_info = pd.concat([pd.read_hdf(f) for f in glob.glob('sbs_info_*.hdf')])"
   ]
  },
  {
   "cell_type": "code",
   "execution_count": 25,
   "metadata": {},
   "outputs": [],
   "source": [
    "df_sbs_info.to_hdf('sbs_info.hdf','x',mode='w')"
   ]
  },
  {
   "cell_type": "code",
   "execution_count": 26,
   "metadata": {},
   "outputs": [],
   "source": [
    "# cols_0 = {'i':'i_0','j':'j_0','cell':'cell_0','tile':'tile_0'}\n",
    "cols_1 = {'cell':'cell_1','tile':'site'}\n",
    "\n",
    "#before deduping, how many sbs cells map to a phenotype cell\n",
    "df_sbs_matching = (df_sbs_info\n",
    "                   .rename(columns=cols_1)\n",
    "                   .drop(columns=['i','j'])\n",
    "                   .merge(df_merged,\n",
    "#                         .rename(columns=cols_0),\n",
    "                        how='left',on=['well','site','cell_1'])\n",
    "                  )"
   ]
  },
  {
   "cell_type": "code",
   "execution_count": 27,
   "metadata": {},
   "outputs": [
    {
     "name": "stdout",
     "output_type": "stream",
     "text": [
      "For well A1, cell matching rate is 90.46666468202939%\n",
      "For well A2, cell matching rate is 89.7668651005024%\n",
      "For well A3, cell matching rate is 90.57752813088449%\n",
      "For well B2, cell matching rate is 89.97890181787173%\n",
      "For well B3, cell matching rate is 90.41833876611173%\n"
     ]
    }
   ],
   "source": [
    "# before deduping\n",
    "for well,df in df_sbs_matching.groupby('well'):\n",
    "    all_cells = df.pipe(len)\n",
    "    lonely_cells = df.distance.isnull().sum()\n",
    "    mapping = (all_cells-lonely_cells)/all_cells\n",
    "    print('For well '+well+', cell matching rate is '+str(mapping*100)+'%')"
   ]
  },
  {
   "cell_type": "code",
   "execution_count": 28,
   "metadata": {},
   "outputs": [],
   "source": [
    "del df_sbs_matching"
   ]
  },
  {
   "cell_type": "code",
   "execution_count": 29,
   "metadata": {},
   "outputs": [],
   "source": [
    "del df_sbs_info"
   ]
  },
  {
   "cell_type": "code",
   "execution_count": 30,
   "metadata": {},
   "outputs": [],
   "source": [
    "df_ph_info = pd.concat([pd.read_hdf(f) for f in glob.glob('ph_info_*.hdf')])"
   ]
  },
  {
   "cell_type": "code",
   "execution_count": 31,
   "metadata": {},
   "outputs": [],
   "source": [
    "df_ph_info.to_hdf('ph_info.hdf','x',mode='w')"
   ]
  },
  {
   "cell_type": "code",
   "execution_count": 32,
   "metadata": {},
   "outputs": [],
   "source": [
    "# cols_0 = {'i':'i_0','j':'j_0','cell':'cell_0','tile':'tile_0'}\n",
    "cols_1 = {'cell':'cell_0'}\n",
    "\n",
    "#before deduping, how many sbs cells map to a phenotype cell\n",
    "df_ph_matching = (df_ph_info\n",
    "                 .rename(columns=cols_1)\n",
    "                 .drop(columns=['i','j'])\n",
    "                 .merge(df_merged,\n",
    "#                         .rename(columns=cols_0),\n",
    "                        how='left',on=['well','tile','cell_0'])\n",
    "                )"
   ]
  },
  {
   "cell_type": "code",
   "execution_count": 33,
   "metadata": {},
   "outputs": [
    {
     "name": "stdout",
     "output_type": "stream",
     "text": [
      "For well A1, cell matching rate is 93.41447239786899%\n",
      "For well A2, cell matching rate is 93.30460834146834%\n",
      "For well A3, cell matching rate is 93.68255928815961%\n",
      "For well B2, cell matching rate is 93.21950259695237%\n",
      "For well B3, cell matching rate is 92.86182455295969%\n"
     ]
    }
   ],
   "source": [
    "for well,df in df_ph_matching.groupby('well'):\n",
    "    all_cells = df.pipe(len)\n",
    "    lonely_cells = df.distance.isnull().sum()\n",
    "    mapping = (all_cells-lonely_cells)/all_cells\n",
    "    print('For well '+well+', cell matching rate is '+str(mapping*100)+'%')"
   ]
  }
 ],
 "metadata": {
  "kernelspec": {
   "display_name": "Python 3.7.6 ('venv': venv)",
   "language": "python",
   "name": "python3"
  },
  "language_info": {
   "codemirror_mode": {
    "name": "ipython",
    "version": 3
   },
   "file_extension": ".py",
   "mimetype": "text/x-python",
   "name": "python",
   "nbconvert_exporter": "python",
   "pygments_lexer": "ipython3",
   "version": "3.7.6"
  },
  "vscode": {
   "interpreter": {
    "hash": "f765f516a26f35bf3b9bc5397b1268a3168d0aaa9258fc4150d60322993abf72"
   }
  }
 },
 "nbformat": 4,
 "nbformat_minor": 2
}
