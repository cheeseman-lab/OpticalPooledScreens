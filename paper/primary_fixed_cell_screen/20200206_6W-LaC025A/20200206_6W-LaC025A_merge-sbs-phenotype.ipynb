{
 "cells": [
  {
   "cell_type": "markdown",
   "metadata": {},
   "source": [
    "# Initialize"
   ]
  },
  {
   "cell_type": "code",
   "execution_count": 1,
   "metadata": {},
   "outputs": [],
   "source": [
    "from ops.imports_ipython import *\n",
    "import glob"
   ]
  },
  {
   "cell_type": "code",
   "execution_count": null,
   "metadata": {},
   "outputs": [],
   "source": [
    "os.chdir('20200206_6W-LaC025A/')"
   ]
  },
  {
   "cell_type": "markdown",
   "metadata": {
    "heading_collapsed": true
   },
   "source": [
    "# combine tables"
   ]
  },
  {
   "cell_type": "code",
   "execution_count": 4,
   "metadata": {
    "hidden": true
   },
   "outputs": [],
   "source": [
    "ops.utils.combine_tables('cp_phenotype',output_filetype='hdf',subdir='process_ph/tables',n_jobs=-2,\n",
    "    usecols=[\n",
    "        'well','tile','cell',\n",
    "        'i','j','bounds_0','bounds_1','bounds_2','bounds_3',\n",
    "        # to identify cells on an acquisition border\n",
    "        'cell_dapi_min','cell_tubulin_min','cell_gh2ax_min','cell_phalloidin_min'\n",
    "        ]\n",
    ")\n",
    "os.rename('cp_phenotype.hdf','min_cp_phenotype.hdf')"
   ]
  },
  {
   "cell_type": "code",
   "execution_count": 5,
   "metadata": {
    "hidden": true
   },
   "outputs": [],
   "source": [
    "ops.utils.combine_tables('merge',output_filetype='hdf',subdir='alignment',n_jobs=-2)"
   ]
  },
  {
   "cell_type": "code",
   "execution_count": null,
   "metadata": {
    "hidden": true
   },
   "outputs": [],
   "source": [
    "ops.utils.combine_tables('cells',output_filetype='hdf',subdir='process_sbs/tables',n_jobs=-2)"
   ]
  },
  {
   "cell_type": "code",
   "execution_count": 7,
   "metadata": {
    "hidden": true
   },
   "outputs": [],
   "source": [
    "df_merged = pd.read_hdf('merge.hdf')"
   ]
  },
  {
   "cell_type": "markdown",
   "metadata": {
    "heading_collapsed": true
   },
   "source": [
    "# add distance to FOV center for each cell"
   ]
  },
  {
   "cell_type": "code",
   "execution_count": 8,
   "metadata": {
    "hidden": true
   },
   "outputs": [],
   "source": [
    "def fov_distance(df,i='i',j='j',dimensions=(2960,2960),suffix=''):\n",
    "    distance  = lambda x: np.sqrt((x[i]-(dimensions[0]/2))**2+(x[j]-(dimensions[1]/2))**2)\n",
    "    df['fov_distance'+suffix]=df.apply(distance,axis=1)\n",
    "    return df"
   ]
  },
  {
   "cell_type": "code",
   "execution_count": 9,
   "metadata": {
    "hidden": true
   },
   "outputs": [],
   "source": [
    "df_merged.pipe(fov_distance,i='i_0',j='j_0',suffix='_0');"
   ]
  },
  {
   "cell_type": "code",
   "execution_count": 10,
   "metadata": {
    "hidden": true
   },
   "outputs": [],
   "source": [
    "df_merged.pipe(fov_distance,i='i_1',j='j_1',dimensions=(1480,1480),suffix='_1');"
   ]
  },
  {
   "cell_type": "code",
   "execution_count": 11,
   "metadata": {
    "hidden": true
   },
   "outputs": [
    {
     "data": {
      "text/html": [
       "<div>\n",
       "<style scoped>\n",
       "    .dataframe tbody tr th:only-of-type {\n",
       "        vertical-align: middle;\n",
       "    }\n",
       "\n",
       "    .dataframe tbody tr th {\n",
       "        vertical-align: top;\n",
       "    }\n",
       "\n",
       "    .dataframe thead th {\n",
       "        text-align: right;\n",
       "    }\n",
       "</style>\n",
       "<table border=\"1\" class=\"dataframe\">\n",
       "  <thead>\n",
       "    <tr style=\"text-align: right;\">\n",
       "      <th></th>\n",
       "      <th>well</th>\n",
       "      <th>tile</th>\n",
       "      <th>cell_0</th>\n",
       "      <th>i_0</th>\n",
       "      <th>j_0</th>\n",
       "      <th>site</th>\n",
       "      <th>cell_1</th>\n",
       "      <th>i_1</th>\n",
       "      <th>j_1</th>\n",
       "      <th>distance</th>\n",
       "      <th>fov_distance_0</th>\n",
       "      <th>fov_distance_1</th>\n",
       "    </tr>\n",
       "  </thead>\n",
       "  <tbody>\n",
       "    <tr>\n",
       "      <th>637</th>\n",
       "      <td>A3</td>\n",
       "      <td>381</td>\n",
       "      <td>670</td>\n",
       "      <td>1424.945989</td>\n",
       "      <td>1527.332804</td>\n",
       "      <td>113</td>\n",
       "      <td>2676</td>\n",
       "      <td>739.878049</td>\n",
       "      <td>740.048780</td>\n",
       "      <td>0.008756</td>\n",
       "      <td>72.603984</td>\n",
       "      <td>0.131345</td>\n",
       "    </tr>\n",
       "    <tr>\n",
       "      <th>628</th>\n",
       "      <td>B1</td>\n",
       "      <td>956</td>\n",
       "      <td>661</td>\n",
       "      <td>1504.350401</td>\n",
       "      <td>1467.119062</td>\n",
       "      <td>247</td>\n",
       "      <td>2477</td>\n",
       "      <td>739.858491</td>\n",
       "      <td>739.792453</td>\n",
       "      <td>0.312899</td>\n",
       "      <td>27.547424</td>\n",
       "      <td>0.251199</td>\n",
       "    </tr>\n",
       "    <tr>\n",
       "      <th>691</th>\n",
       "      <td>B1</td>\n",
       "      <td>116</td>\n",
       "      <td>727</td>\n",
       "      <td>1405.540948</td>\n",
       "      <td>1507.139009</td>\n",
       "      <td>38</td>\n",
       "      <td>3037</td>\n",
       "      <td>739.666667</td>\n",
       "      <td>739.886179</td>\n",
       "      <td>0.102555</td>\n",
       "      <td>79.250717</td>\n",
       "      <td>0.352231</td>\n",
       "    </tr>\n",
       "    <tr>\n",
       "      <th>566</th>\n",
       "      <td>A2</td>\n",
       "      <td>964</td>\n",
       "      <td>599</td>\n",
       "      <td>1497.744681</td>\n",
       "      <td>1420.606915</td>\n",
       "      <td>251</td>\n",
       "      <td>2161</td>\n",
       "      <td>739.681416</td>\n",
       "      <td>740.327434</td>\n",
       "      <td>0.247624</td>\n",
       "      <td>61.987194</td>\n",
       "      <td>0.456846</td>\n",
       "    </tr>\n",
       "    <tr>\n",
       "      <th>817</th>\n",
       "      <td>B1</td>\n",
       "      <td>1043</td>\n",
       "      <td>862</td>\n",
       "      <td>1513.355296</td>\n",
       "      <td>1397.364470</td>\n",
       "      <td>257</td>\n",
       "      <td>3197</td>\n",
       "      <td>739.544304</td>\n",
       "      <td>739.949367</td>\n",
       "      <td>0.211759</td>\n",
       "      <td>89.113448</td>\n",
       "      <td>0.458501</td>\n",
       "    </tr>\n",
       "  </tbody>\n",
       "</table>\n",
       "</div>"
      ],
      "text/plain": [
       "    well  tile  cell_0          i_0          j_0  site  cell_1         i_1  \\\n",
       "637   A3   381     670  1424.945989  1527.332804   113    2676  739.878049   \n",
       "628   B1   956     661  1504.350401  1467.119062   247    2477  739.858491   \n",
       "691   B1   116     727  1405.540948  1507.139009    38    3037  739.666667   \n",
       "566   A2   964     599  1497.744681  1420.606915   251    2161  739.681416   \n",
       "817   B1  1043     862  1513.355296  1397.364470   257    3197  739.544304   \n",
       "\n",
       "            j_1  distance  fov_distance_0  fov_distance_1  \n",
       "637  740.048780  0.008756       72.603984        0.131345  \n",
       "628  739.792453  0.312899       27.547424        0.251199  \n",
       "691  739.886179  0.102555       79.250717        0.352231  \n",
       "566  740.327434  0.247624       61.987194        0.456846  \n",
       "817  739.949367  0.211759       89.113448        0.458501  "
      ]
     },
     "execution_count": 11,
     "metadata": {},
     "output_type": "execute_result"
    }
   ],
   "source": [
    "df_merged.sort_values(['fov_distance_1']).head()"
   ]
  },
  {
   "cell_type": "markdown",
   "metadata": {
    "heading_collapsed": true
   },
   "source": [
    "# add mapping info"
   ]
  },
  {
   "cell_type": "code",
   "execution_count": 12,
   "metadata": {
    "hidden": true
   },
   "outputs": [],
   "source": [
    "df_cells = pd.read_hdf('cells.hdf')"
   ]
  },
  {
   "cell_type": "code",
   "execution_count": 13,
   "metadata": {
    "hidden": true
   },
   "outputs": [
    {
     "data": {
      "text/html": [
       "<div>\n",
       "<style scoped>\n",
       "    .dataframe tbody tr th:only-of-type {\n",
       "        vertical-align: middle;\n",
       "    }\n",
       "\n",
       "    .dataframe tbody tr th {\n",
       "        vertical-align: top;\n",
       "    }\n",
       "\n",
       "    .dataframe thead th {\n",
       "        text-align: right;\n",
       "    }\n",
       "</style>\n",
       "<table border=\"1\" class=\"dataframe\">\n",
       "  <thead>\n",
       "    <tr style=\"text-align: right;\">\n",
       "      <th></th>\n",
       "      <th>cell</th>\n",
       "      <th>tile</th>\n",
       "      <th>well</th>\n",
       "      <th>Q_0</th>\n",
       "      <th>Q_1</th>\n",
       "      <th>Q_2</th>\n",
       "      <th>Q_3</th>\n",
       "      <th>Q_4</th>\n",
       "      <th>Q_5</th>\n",
       "      <th>Q_6</th>\n",
       "      <th>...</th>\n",
       "      <th>cell_barcode_count_0</th>\n",
       "      <th>cell_barcode_1</th>\n",
       "      <th>cell_barcode_count_1</th>\n",
       "      <th>barcode_count</th>\n",
       "      <th>sgRNA_0</th>\n",
       "      <th>gene_symbol_0</th>\n",
       "      <th>group_0</th>\n",
       "      <th>sgRNA_1</th>\n",
       "      <th>gene_symbol_1</th>\n",
       "      <th>group_1</th>\n",
       "    </tr>\n",
       "  </thead>\n",
       "  <tbody>\n",
       "    <tr>\n",
       "      <th>0</th>\n",
       "      <td>26</td>\n",
       "      <td>166</td>\n",
       "      <td>B3</td>\n",
       "      <td>0.631905</td>\n",
       "      <td>0.522037</td>\n",
       "      <td>0.488358</td>\n",
       "      <td>0.984964</td>\n",
       "      <td>0.994270</td>\n",
       "      <td>0.427040</td>\n",
       "      <td>0.694546</td>\n",
       "      <td>...</td>\n",
       "      <td>1</td>\n",
       "      <td>NaN</td>\n",
       "      <td>0.0</td>\n",
       "      <td>1</td>\n",
       "      <td>CAGTGATAAATCGGACAATG</td>\n",
       "      <td>AMHR2</td>\n",
       "      <td>essentials_11L2</td>\n",
       "      <td>NaN</td>\n",
       "      <td>NaN</td>\n",
       "      <td>NaN</td>\n",
       "    </tr>\n",
       "    <tr>\n",
       "      <th>1</th>\n",
       "      <td>37</td>\n",
       "      <td>166</td>\n",
       "      <td>B3</td>\n",
       "      <td>1.000000</td>\n",
       "      <td>0.701304</td>\n",
       "      <td>0.913596</td>\n",
       "      <td>0.679438</td>\n",
       "      <td>0.572583</td>\n",
       "      <td>1.000000</td>\n",
       "      <td>1.000000</td>\n",
       "      <td>...</td>\n",
       "      <td>3</td>\n",
       "      <td>NaN</td>\n",
       "      <td>0.0</td>\n",
       "      <td>3</td>\n",
       "      <td>GCTTTGATACCACTCGGCAG</td>\n",
       "      <td>SGCA</td>\n",
       "      <td>essentials_11L2</td>\n",
       "      <td>NaN</td>\n",
       "      <td>NaN</td>\n",
       "      <td>NaN</td>\n",
       "    </tr>\n",
       "    <tr>\n",
       "      <th>2</th>\n",
       "      <td>39</td>\n",
       "      <td>166</td>\n",
       "      <td>B3</td>\n",
       "      <td>0.811780</td>\n",
       "      <td>1.000000</td>\n",
       "      <td>0.825922</td>\n",
       "      <td>0.489259</td>\n",
       "      <td>0.623988</td>\n",
       "      <td>0.903161</td>\n",
       "      <td>0.721672</td>\n",
       "      <td>...</td>\n",
       "      <td>1</td>\n",
       "      <td>NaN</td>\n",
       "      <td>0.0</td>\n",
       "      <td>1</td>\n",
       "      <td>GATGTAGGACCCTATGAGTG</td>\n",
       "      <td>CEACAM5</td>\n",
       "      <td>essentials_11L2</td>\n",
       "      <td>NaN</td>\n",
       "      <td>NaN</td>\n",
       "      <td>NaN</td>\n",
       "    </tr>\n",
       "    <tr>\n",
       "      <th>3</th>\n",
       "      <td>40</td>\n",
       "      <td>166</td>\n",
       "      <td>B3</td>\n",
       "      <td>0.982708</td>\n",
       "      <td>1.000000</td>\n",
       "      <td>0.512501</td>\n",
       "      <td>0.471184</td>\n",
       "      <td>1.000000</td>\n",
       "      <td>0.447563</td>\n",
       "      <td>0.301265</td>\n",
       "      <td>...</td>\n",
       "      <td>3</td>\n",
       "      <td>NaN</td>\n",
       "      <td>0.0</td>\n",
       "      <td>3</td>\n",
       "      <td>CAGTCTGTTCTGATAACCTG</td>\n",
       "      <td>CDC20</td>\n",
       "      <td>essentials_11L2</td>\n",
       "      <td>NaN</td>\n",
       "      <td>NaN</td>\n",
       "      <td>NaN</td>\n",
       "    </tr>\n",
       "    <tr>\n",
       "      <th>4</th>\n",
       "      <td>43</td>\n",
       "      <td>166</td>\n",
       "      <td>B3</td>\n",
       "      <td>0.040829</td>\n",
       "      <td>0.507211</td>\n",
       "      <td>0.650830</td>\n",
       "      <td>0.583170</td>\n",
       "      <td>0.483280</td>\n",
       "      <td>0.711397</td>\n",
       "      <td>1.000000</td>\n",
       "      <td>...</td>\n",
       "      <td>1</td>\n",
       "      <td>AATCCCCCACC</td>\n",
       "      <td>1.0</td>\n",
       "      <td>2</td>\n",
       "      <td>NaN</td>\n",
       "      <td>NaN</td>\n",
       "      <td>NaN</td>\n",
       "      <td>NaN</td>\n",
       "      <td>NaN</td>\n",
       "      <td>NaN</td>\n",
       "    </tr>\n",
       "  </tbody>\n",
       "</table>\n",
       "<p>5 rows × 27 columns</p>\n",
       "</div>"
      ],
      "text/plain": [
       "   cell  tile well       Q_0       Q_1       Q_2       Q_3       Q_4  \\\n",
       "0    26   166   B3  0.631905  0.522037  0.488358  0.984964  0.994270   \n",
       "1    37   166   B3  1.000000  0.701304  0.913596  0.679438  0.572583   \n",
       "2    39   166   B3  0.811780  1.000000  0.825922  0.489259  0.623988   \n",
       "3    40   166   B3  0.982708  1.000000  0.512501  0.471184  1.000000   \n",
       "4    43   166   B3  0.040829  0.507211  0.650830  0.583170  0.483280   \n",
       "\n",
       "        Q_5       Q_6  ...  cell_barcode_count_0  cell_barcode_1  \\\n",
       "0  0.427040  0.694546  ...                     1             NaN   \n",
       "1  1.000000  1.000000  ...                     3             NaN   \n",
       "2  0.903161  0.721672  ...                     1             NaN   \n",
       "3  0.447563  0.301265  ...                     3             NaN   \n",
       "4  0.711397  1.000000  ...                     1     AATCCCCCACC   \n",
       "\n",
       "   cell_barcode_count_1  barcode_count               sgRNA_0  gene_symbol_0  \\\n",
       "0                   0.0              1  CAGTGATAAATCGGACAATG          AMHR2   \n",
       "1                   0.0              3  GCTTTGATACCACTCGGCAG           SGCA   \n",
       "2                   0.0              1  GATGTAGGACCCTATGAGTG        CEACAM5   \n",
       "3                   0.0              3  CAGTCTGTTCTGATAACCTG          CDC20   \n",
       "4                   1.0              2                   NaN            NaN   \n",
       "\n",
       "           group_0  sgRNA_1 gene_symbol_1  group_1  \n",
       "0  essentials_11L2      NaN           NaN      NaN  \n",
       "1  essentials_11L2      NaN           NaN      NaN  \n",
       "2  essentials_11L2      NaN           NaN      NaN  \n",
       "3  essentials_11L2      NaN           NaN      NaN  \n",
       "4              NaN      NaN           NaN      NaN  \n",
       "\n",
       "[5 rows x 27 columns]"
      ]
     },
     "execution_count": 13,
     "metadata": {},
     "output_type": "execute_result"
    }
   ],
   "source": [
    "df_cells.head()"
   ]
  },
  {
   "cell_type": "code",
   "execution_count": 14,
   "metadata": {
    "hidden": true
   },
   "outputs": [],
   "source": [
    "df_cells['mapped_single_gene'] = (df_cells.apply(lambda x: True \n",
    "                    if (pd.notnull(x.gene_symbol_0)&pd.isnull(x.gene_symbol_1))|(x.gene_symbol_0==x.gene_symbol_1) \n",
    "                    else False,axis=1)\n",
    "                                  )"
   ]
  },
  {
   "cell_type": "code",
   "execution_count": 15,
   "metadata": {
    "hidden": true
   },
   "outputs": [
    {
     "data": {
      "text/plain": [
       "True     5157949\n",
       "False    2304353\n",
       "Name: mapped_single_gene, dtype: int64"
      ]
     },
     "execution_count": 15,
     "metadata": {},
     "output_type": "execute_result"
    }
   ],
   "source": [
    "df_cells.mapped_single_gene.value_counts()"
   ]
  },
  {
   "cell_type": "code",
   "execution_count": 16,
   "metadata": {
    "hidden": true
   },
   "outputs": [],
   "source": [
    "df_merged = df_merged.merge((df_cells[['well','tile','cell','sgRNA_0','gene_symbol_0','group_0','mapped_single_gene']]\n",
    "                             .rename({'tile':'site','cell':'cell_1'},axis=1)),\n",
    "                            how='left',on=['well','site','cell_1'])"
   ]
  },
  {
   "cell_type": "code",
   "execution_count": 17,
   "metadata": {
    "hidden": true
   },
   "outputs": [
    {
     "data": {
      "text/html": [
       "<div>\n",
       "<style scoped>\n",
       "    .dataframe tbody tr th:only-of-type {\n",
       "        vertical-align: middle;\n",
       "    }\n",
       "\n",
       "    .dataframe tbody tr th {\n",
       "        vertical-align: top;\n",
       "    }\n",
       "\n",
       "    .dataframe thead th {\n",
       "        text-align: right;\n",
       "    }\n",
       "</style>\n",
       "<table border=\"1\" class=\"dataframe\">\n",
       "  <thead>\n",
       "    <tr style=\"text-align: right;\">\n",
       "      <th></th>\n",
       "      <th>well</th>\n",
       "      <th>tile</th>\n",
       "      <th>cell_0</th>\n",
       "      <th>i_0</th>\n",
       "      <th>j_0</th>\n",
       "      <th>site</th>\n",
       "      <th>cell_1</th>\n",
       "      <th>i_1</th>\n",
       "      <th>j_1</th>\n",
       "      <th>distance</th>\n",
       "      <th>fov_distance_0</th>\n",
       "      <th>fov_distance_1</th>\n",
       "      <th>sgRNA_0</th>\n",
       "      <th>gene_symbol_0</th>\n",
       "      <th>group_0</th>\n",
       "      <th>mapped_single_gene</th>\n",
       "    </tr>\n",
       "  </thead>\n",
       "  <tbody>\n",
       "    <tr>\n",
       "      <th>2</th>\n",
       "      <td>B1</td>\n",
       "      <td>498</td>\n",
       "      <td>769</td>\n",
       "      <td>1470.339768</td>\n",
       "      <td>212.638514</td>\n",
       "      <td>134</td>\n",
       "      <td>393</td>\n",
       "      <td>105.353383</td>\n",
       "      <td>1076.563910</td>\n",
       "      <td>1.944252</td>\n",
       "      <td>1267.398303</td>\n",
       "      <td>718.367311</td>\n",
       "      <td>AGTAGGGCATCATGAGCGTG</td>\n",
       "      <td>SLC7A1</td>\n",
       "      <td>essentials_11L2</td>\n",
       "      <td>True</td>\n",
       "    </tr>\n",
       "    <tr>\n",
       "      <th>0</th>\n",
       "      <td>B1</td>\n",
       "      <td>498</td>\n",
       "      <td>708</td>\n",
       "      <td>1333.763373</td>\n",
       "      <td>11.970082</td>\n",
       "      <td>134</td>\n",
       "      <td>267</td>\n",
       "      <td>71.223022</td>\n",
       "      <td>1024.517986</td>\n",
       "      <td>1.972813</td>\n",
       "      <td>1475.295561</td>\n",
       "      <td>726.782726</td>\n",
       "      <td>GGCGCAGGGGACTACGGGAA</td>\n",
       "      <td>PABPN1</td>\n",
       "      <td>essentials_11L2</td>\n",
       "      <td>True</td>\n",
       "    </tr>\n",
       "    <tr>\n",
       "      <th>4</th>\n",
       "      <td>B1</td>\n",
       "      <td>498</td>\n",
       "      <td>782</td>\n",
       "      <td>1494.385263</td>\n",
       "      <td>449.729123</td>\n",
       "      <td>134</td>\n",
       "      <td>421</td>\n",
       "      <td>110.922222</td>\n",
       "      <td>1135.533333</td>\n",
       "      <td>1.988452</td>\n",
       "      <td>1030.371300</td>\n",
       "      <td>743.091830</td>\n",
       "      <td>CTAAGCAGCAAGTGTCAGGG</td>\n",
       "      <td>RPP38</td>\n",
       "      <td>essentials_11L2</td>\n",
       "      <td>True</td>\n",
       "    </tr>\n",
       "    <tr>\n",
       "      <th>1</th>\n",
       "      <td>B1</td>\n",
       "      <td>498</td>\n",
       "      <td>753</td>\n",
       "      <td>1443.259238</td>\n",
       "      <td>497.957852</td>\n",
       "      <td>134</td>\n",
       "      <td>370</td>\n",
       "      <td>98.258929</td>\n",
       "      <td>1147.669643</td>\n",
       "      <td>1.903856</td>\n",
       "      <td>982.729191</td>\n",
       "      <td>760.280304</td>\n",
       "      <td>TAAACTCCATCTCTCACCAT</td>\n",
       "      <td>ADSS2</td>\n",
       "      <td>essentials_11L2</td>\n",
       "      <td>True</td>\n",
       "    </tr>\n",
       "    <tr>\n",
       "      <th>3</th>\n",
       "      <td>B1</td>\n",
       "      <td>498</td>\n",
       "      <td>777</td>\n",
       "      <td>1491.348015</td>\n",
       "      <td>109.851404</td>\n",
       "      <td>134</td>\n",
       "      <td>420</td>\n",
       "      <td>110.854962</td>\n",
       "      <td>1050.977099</td>\n",
       "      <td>1.956748</td>\n",
       "      <td>1370.195589</td>\n",
       "      <td>701.804984</td>\n",
       "      <td>AGTAGGGCATCATGAGCGTG</td>\n",
       "      <td>SLC7A1</td>\n",
       "      <td>essentials_11L2</td>\n",
       "      <td>False</td>\n",
       "    </tr>\n",
       "    <tr>\n",
       "      <th>6</th>\n",
       "      <td>B1</td>\n",
       "      <td>498</td>\n",
       "      <td>791</td>\n",
       "      <td>1518.478968</td>\n",
       "      <td>374.012900</td>\n",
       "      <td>134</td>\n",
       "      <td>446</td>\n",
       "      <td>117.616667</td>\n",
       "      <td>1116.933333</td>\n",
       "      <td>1.494526</td>\n",
       "      <td>1106.656269</td>\n",
       "      <td>727.626107</td>\n",
       "      <td>ACTTCATGGGAAGATAGCTG</td>\n",
       "      <td>PPAT</td>\n",
       "      <td>essentials_11L2</td>\n",
       "      <td>False</td>\n",
       "    </tr>\n",
       "    <tr>\n",
       "      <th>5</th>\n",
       "      <td>B1</td>\n",
       "      <td>498</td>\n",
       "      <td>788</td>\n",
       "      <td>1511.105058</td>\n",
       "      <td>507.276265</td>\n",
       "      <td>134</td>\n",
       "      <td>438</td>\n",
       "      <td>115.500000</td>\n",
       "      <td>1149.700000</td>\n",
       "      <td>1.535801</td>\n",
       "      <td>973.220936</td>\n",
       "      <td>746.896472</td>\n",
       "      <td>NaN</td>\n",
       "      <td>NaN</td>\n",
       "      <td>NaN</td>\n",
       "      <td>False</td>\n",
       "    </tr>\n",
       "    <tr>\n",
       "      <th>7</th>\n",
       "      <td>B1</td>\n",
       "      <td>498</td>\n",
       "      <td>796</td>\n",
       "      <td>1521.071704</td>\n",
       "      <td>588.368142</td>\n",
       "      <td>134</td>\n",
       "      <td>449</td>\n",
       "      <td>117.618705</td>\n",
       "      <td>1170.179856</td>\n",
       "      <td>1.858076</td>\n",
       "      <td>892.577310</td>\n",
       "      <td>756.579926</td>\n",
       "      <td>CATTAACATCATCATCCAGT</td>\n",
       "      <td>HNRNPCL1</td>\n",
       "      <td>essentials_11L2</td>\n",
       "      <td>False</td>\n",
       "    </tr>\n",
       "    <tr>\n",
       "      <th>8</th>\n",
       "      <td>B1</td>\n",
       "      <td>498</td>\n",
       "      <td>801</td>\n",
       "      <td>1529.677560</td>\n",
       "      <td>179.905229</td>\n",
       "      <td>134</td>\n",
       "      <td>457</td>\n",
       "      <td>120.350427</td>\n",
       "      <td>1068.350427</td>\n",
       "      <td>1.795719</td>\n",
       "      <td>1301.043533</td>\n",
       "      <td>701.269988</td>\n",
       "      <td>NaN</td>\n",
       "      <td>NaN</td>\n",
       "      <td>NaN</td>\n",
       "      <td>NaN</td>\n",
       "    </tr>\n",
       "    <tr>\n",
       "      <th>9</th>\n",
       "      <td>B1</td>\n",
       "      <td>498</td>\n",
       "      <td>809</td>\n",
       "      <td>1542.794973</td>\n",
       "      <td>533.651218</td>\n",
       "      <td>134</td>\n",
       "      <td>469</td>\n",
       "      <td>123.056180</td>\n",
       "      <td>1156.303371</td>\n",
       "      <td>1.855150</td>\n",
       "      <td>948.429874</td>\n",
       "      <td>744.263511</td>\n",
       "      <td>NaN</td>\n",
       "      <td>NaN</td>\n",
       "      <td>NaN</td>\n",
       "      <td>NaN</td>\n",
       "    </tr>\n",
       "  </tbody>\n",
       "</table>\n",
       "</div>"
      ],
      "text/plain": [
       "  well  tile  cell_0          i_0         j_0  site  cell_1         i_1  \\\n",
       "2   B1   498     769  1470.339768  212.638514   134     393  105.353383   \n",
       "0   B1   498     708  1333.763373   11.970082   134     267   71.223022   \n",
       "4   B1   498     782  1494.385263  449.729123   134     421  110.922222   \n",
       "1   B1   498     753  1443.259238  497.957852   134     370   98.258929   \n",
       "3   B1   498     777  1491.348015  109.851404   134     420  110.854962   \n",
       "6   B1   498     791  1518.478968  374.012900   134     446  117.616667   \n",
       "5   B1   498     788  1511.105058  507.276265   134     438  115.500000   \n",
       "7   B1   498     796  1521.071704  588.368142   134     449  117.618705   \n",
       "8   B1   498     801  1529.677560  179.905229   134     457  120.350427   \n",
       "9   B1   498     809  1542.794973  533.651218   134     469  123.056180   \n",
       "\n",
       "           j_1  distance  fov_distance_0  fov_distance_1  \\\n",
       "2  1076.563910  1.944252     1267.398303      718.367311   \n",
       "0  1024.517986  1.972813     1475.295561      726.782726   \n",
       "4  1135.533333  1.988452     1030.371300      743.091830   \n",
       "1  1147.669643  1.903856      982.729191      760.280304   \n",
       "3  1050.977099  1.956748     1370.195589      701.804984   \n",
       "6  1116.933333  1.494526     1106.656269      727.626107   \n",
       "5  1149.700000  1.535801      973.220936      746.896472   \n",
       "7  1170.179856  1.858076      892.577310      756.579926   \n",
       "8  1068.350427  1.795719     1301.043533      701.269988   \n",
       "9  1156.303371  1.855150      948.429874      744.263511   \n",
       "\n",
       "                sgRNA_0 gene_symbol_0          group_0 mapped_single_gene  \n",
       "2  AGTAGGGCATCATGAGCGTG        SLC7A1  essentials_11L2               True  \n",
       "0  GGCGCAGGGGACTACGGGAA        PABPN1  essentials_11L2               True  \n",
       "4  CTAAGCAGCAAGTGTCAGGG         RPP38  essentials_11L2               True  \n",
       "1  TAAACTCCATCTCTCACCAT         ADSS2  essentials_11L2               True  \n",
       "3  AGTAGGGCATCATGAGCGTG        SLC7A1  essentials_11L2              False  \n",
       "6  ACTTCATGGGAAGATAGCTG          PPAT  essentials_11L2              False  \n",
       "5                   NaN           NaN              NaN              False  \n",
       "7  CATTAACATCATCATCCAGT      HNRNPCL1  essentials_11L2              False  \n",
       "8                   NaN           NaN              NaN                NaN  \n",
       "9                   NaN           NaN              NaN                NaN  "
      ]
     },
     "execution_count": 17,
     "metadata": {},
     "output_type": "execute_result"
    }
   ],
   "source": [
    "df_merged.head(10).sort_values(['mapped_single_gene','fov_distance_1'],ascending=[False,True])"
   ]
  },
  {
   "cell_type": "markdown",
   "metadata": {},
   "source": [
    "# add phenotype min info"
   ]
  },
  {
   "cell_type": "code",
   "execution_count": 18,
   "metadata": {},
   "outputs": [],
   "source": [
    "df_phenotype = pd.read_hdf('min_cp_phenotype.hdf').fillna(0)"
   ]
  },
  {
   "cell_type": "code",
   "execution_count": 19,
   "metadata": {},
   "outputs": [],
   "source": [
    "min_cols = [col for col in df_phenotype.columns if '_min' in col]\n",
    "info_cols = [col for col in df_phenotype.columns if col not in min_cols]"
   ]
  },
  {
   "cell_type": "code",
   "execution_count": 21,
   "metadata": {},
   "outputs": [],
   "source": [
    "df_phenotype['channels_min'] = df_phenotype[min_cols].apply(lambda x: x.min(axis=0),axis=1)"
   ]
  },
  {
   "cell_type": "code",
   "execution_count": 23,
   "metadata": {},
   "outputs": [],
   "source": [
    "df_merged = df_merged.merge((df_phenotype[['well','tile','cell','channels_min']]\n",
    "                             .rename(columns={'cell':'cell_0'})),\n",
    "                            how='left',on=['well','tile','cell_0'])"
   ]
  },
  {
   "cell_type": "code",
   "execution_count": 8,
   "metadata": {},
   "outputs": [],
   "source": [
    "misaligned = np.array([['B3',471],['B3',572]])\n",
    "misaligned_wells = list(misaligned[:,0])\n",
    "misaligned_tiles = list(misaligned[:,1])"
   ]
  },
  {
   "cell_type": "code",
   "execution_count": 10,
   "metadata": {},
   "outputs": [
    {
     "data": {
      "text/plain": [
       "<matplotlib.axes._subplots.AxesSubplot at 0x7fc73f546fd0>"
      ]
     },
     "execution_count": 10,
     "metadata": {},
     "output_type": "execute_result"
    },
    {
     "data": {
      "image/png": "[encoded data removed]",
      "text/plain": [
       "<Figure size 1440x1440 with 1 Axes>"
      ]
     },
     "metadata": {},
     "output_type": "display_data"
    }
   ],
   "source": [
    "plt.figure(figsize=(20,20))\n",
    "sns.scatterplot(data=(df_merged\n",
    "                      .query('channels_min==0')\n",
    "                      .query('well != @misaligned_wells & tile != @misaligned_tiles')[['i_0','j_0']]\n",
    "                     ),\n",
    "                x='i_0',y='j_0')"
   ]
  },
  {
   "cell_type": "markdown",
   "metadata": {},
   "source": [
    "# filter merged datasets for duplicates"
   ]
  },
  {
   "cell_type": "code",
   "execution_count": 11,
   "metadata": {},
   "outputs": [
    {
     "data": {
      "text/plain": [
       "1    7022631\n",
       "2    2008050\n",
       "3      37859\n",
       "4       2307\n",
       "Name: cell_0, dtype: int64"
      ]
     },
     "execution_count": 11,
     "metadata": {},
     "output_type": "execute_result"
    }
   ],
   "source": [
    "df_merged.groupby(['well','tile']).cell_0.value_counts().value_counts()"
   ]
  },
  {
   "cell_type": "code",
   "execution_count": 12,
   "metadata": {},
   "outputs": [
    {
     "data": {
      "text/plain": [
       "1    6559625\n",
       "2    2035662\n",
       "3      81265\n",
       "4      71698\n",
       "Name: cell_1, dtype: int64"
      ]
     },
     "execution_count": 12,
     "metadata": {},
     "output_type": "execute_result"
    }
   ],
   "source": [
    "df_merged.groupby(['well','site']).cell_1.value_counts().value_counts()"
   ]
  },
  {
   "cell_type": "code",
   "execution_count": 13,
   "metadata": {},
   "outputs": [
    {
     "data": {
      "text/plain": [
       "8748250"
      ]
     },
     "execution_count": 13,
     "metadata": {},
     "output_type": "execute_result"
    }
   ],
   "source": [
    "df_merged.drop_duplicates(['well','site','cell_1']).pipe(len)"
   ]
  },
  {
   "cell_type": "code",
   "execution_count": 14,
   "metadata": {},
   "outputs": [
    {
     "data": {
      "text/plain": [
       "11161536"
      ]
     },
     "execution_count": 14,
     "metadata": {},
     "output_type": "execute_result"
    }
   ],
   "source": [
    "df_merged.pipe(len)"
   ]
  },
  {
   "cell_type": "code",
   "execution_count": 80,
   "metadata": {},
   "outputs": [],
   "source": [
    "# remove bad tiles and cells with phenotype channel min ==0\n",
    "df_merged_ph = (df_merged\n",
    "                .query('well != @misaligned_wells | tile != @misaligned_tiles')\n",
    "#              .query('well != \"B3\" | tile != 471')\n",
    "#              .query('well != \"B3\" | tile != 572')\n",
    "             .query('channels_min>0')\n",
    "            )"
   ]
  },
  {
   "cell_type": "code",
   "execution_count": 81,
   "metadata": {},
   "outputs": [
    {
     "data": {
      "text/plain": [
       "8725056"
      ]
     },
     "execution_count": 81,
     "metadata": {},
     "output_type": "execute_result"
    }
   ],
   "source": [
    "df_merged_ph.drop_duplicates(['well','site','cell_1']).pipe(len)"
   ]
  },
  {
   "cell_type": "code",
   "execution_count": 82,
   "metadata": {},
   "outputs": [
    {
     "data": {
      "text/plain": [
       "1    6853247\n",
       "2    1759912\n",
       "4      56048\n",
       "3      55849\n",
       "Name: cell_1, dtype: int64"
      ]
     },
     "execution_count": 82,
     "metadata": {},
     "output_type": "execute_result"
    }
   ],
   "source": [
    "df_merged_ph.groupby(['well','site']).cell_1.value_counts().value_counts()"
   ]
  },
  {
   "cell_type": "code",
   "execution_count": 84,
   "metadata": {},
   "outputs": [],
   "source": [
    "# drop sbs cells mapping to same phenotype cell by priority (mapping, fov_distance)\n",
    "df_merged_filt = (df_merged_ph\n",
    "                  .sort_values(['mapped_single_gene','fov_distance_1'],\n",
    "                               ascending=[False,True])\n",
    "                  .drop_duplicates(['well','tile','cell_0'],keep='first')\n",
    "                 )"
   ]
  },
  {
   "cell_type": "code",
   "execution_count": 86,
   "metadata": {},
   "outputs": [
    {
     "data": {
      "text/plain": [
       "1    5287014\n",
       "2    1516890\n",
       "4      56048\n",
       "3      55849\n",
       "Name: cell_1, dtype: int64"
      ]
     },
     "execution_count": 86,
     "metadata": {},
     "output_type": "execute_result"
    }
   ],
   "source": [
    "df_merged_filt.groupby(['well','site']).cell_1.value_counts().value_counts()"
   ]
  },
  {
   "cell_type": "code",
   "execution_count": 87,
   "metadata": {},
   "outputs": [],
   "source": [
    "# drop duplicated phenotype cells mapping to same sbs cell by priority (fov_distance)\n",
    "df_merged_filt_filt = (df_merged_filt\n",
    "                       .sort_values(['fov_distance_0'],ascending=True)\n",
    "                       .drop_duplicates(['well','site','cell_1'],keep='first')\n",
    "                      )"
   ]
  },
  {
   "cell_type": "code",
   "execution_count": 88,
   "metadata": {},
   "outputs": [
    {
     "data": {
      "text/plain": [
       "6915801"
      ]
     },
     "execution_count": 88,
     "metadata": {},
     "output_type": "execute_result"
    }
   ],
   "source": [
    "df_merged_filt_filt.pipe(len)"
   ]
  },
  {
   "cell_type": "code",
   "execution_count": 89,
   "metadata": {},
   "outputs": [
    {
     "data": {
      "text/plain": [
       "3935729"
      ]
     },
     "execution_count": 89,
     "metadata": {},
     "output_type": "execute_result"
    }
   ],
   "source": [
    "df_merged_filt_filt[df_merged_filt_filt.mapped_single_gene==True].pipe(len)"
   ]
  },
  {
   "cell_type": "code",
   "execution_count": null,
   "metadata": {},
   "outputs": [],
   "source": [
    "df_merged.to_hdf('merge.hdf', 'x', mode='w')"
   ]
  },
  {
   "cell_type": "code",
   "execution_count": null,
   "metadata": {},
   "outputs": [],
   "source": [
    "df_merged_filt_filt.to_hdf('merged_deduped.hdf', 'x', mode='w')"
   ]
  },
  {
   "cell_type": "markdown",
   "metadata": {},
   "source": [
    "# check cell matching rate"
   ]
  },
  {
   "cell_type": "code",
   "execution_count": null,
   "metadata": {},
   "outputs": [],
   "source": []
  },
  {
   "cell_type": "code",
   "execution_count": 31,
   "metadata": {},
   "outputs": [],
   "source": [
    "df_sbs_info = pd.concat([pd.read_hdf(f) for f in glob.glob('sbs_info_*.hdf')])"
   ]
  },
  {
   "cell_type": "code",
   "execution_count": 32,
   "metadata": {},
   "outputs": [],
   "source": [
    "df_sbs_info.to_hdf('sbs_info.hdf','x',mode='w')"
   ]
  },
  {
   "cell_type": "code",
   "execution_count": 33,
   "metadata": {},
   "outputs": [],
   "source": [
    "# cols_0 = {'i':'i_0','j':'j_0','cell':'cell_0','tile':'tile_0'}\n",
    "cols_1 = {'cell':'cell_1','tile':'site'}\n",
    "\n",
    "#before deduping, how many sbs cells map to a phenotype cell\n",
    "df_sbs_matching = (df_sbs_info\n",
    "                   .rename(columns=cols_1)\n",
    "                   .drop(columns=['i','j'])\n",
    "                   .merge(df_merged,\n",
    "#                         .rename(columns=cols_0),\n",
    "                        how='left',on=['well','site','cell_1'])\n",
    "                  )"
   ]
  },
  {
   "cell_type": "code",
   "execution_count": 34,
   "metadata": {},
   "outputs": [
    {
     "name": "stdout",
     "output_type": "stream",
     "text": [
      "For well A1, cell matching rate is 90.08245906542125%\n",
      "For well A2, cell matching rate is 90.73231742211053%\n",
      "For well A3, cell matching rate is 90.52088481595588%\n",
      "For well B1, cell matching rate is 90.26282673768574%\n",
      "For well B2, cell matching rate is 90.88465674602301%\n",
      "For well B3, cell matching rate is 90.55043841295384%\n"
     ]
    }
   ],
   "source": [
    "# before deduping\n",
    "for well,df in df_sbs_matching.groupby('well'):\n",
    "    all_cells = df.pipe(len)\n",
    "    lonely_cells = df.distance.isnull().sum()\n",
    "    mapping = (all_cells-lonely_cells)/all_cells\n",
    "    print('For well '+well+', cell matching rate is '+str(mapping*100)+'%')"
   ]
  },
  {
   "cell_type": "code",
   "execution_count": 35,
   "metadata": {},
   "outputs": [],
   "source": [
    "del df_sbs_matching"
   ]
  },
  {
   "cell_type": "code",
   "execution_count": 36,
   "metadata": {},
   "outputs": [],
   "source": [
    "del df_sbs_info"
   ]
  },
  {
   "cell_type": "code",
   "execution_count": 37,
   "metadata": {},
   "outputs": [],
   "source": [
    "df_ph_info = pd.concat([pd.read_hdf(f) for f in glob.glob('ph_info_*.hdf')])"
   ]
  },
  {
   "cell_type": "code",
   "execution_count": 38,
   "metadata": {},
   "outputs": [],
   "source": [
    "df_ph_info.to_hdf('ph_info.hdf','x',mode='w')"
   ]
  },
  {
   "cell_type": "code",
   "execution_count": 39,
   "metadata": {},
   "outputs": [],
   "source": [
    "# cols_0 = {'i':'i_0','j':'j_0','cell':'cell_0','tile':'tile_0'}\n",
    "cols_1 = {'cell':'cell_0'}\n",
    "\n",
    "#before deduping, how many sbs cells map to a phenotype cell\n",
    "df_ph_matching = (df_ph_info\n",
    "                 .rename(columns=cols_1)\n",
    "                 .drop(columns=['i','j'])\n",
    "                 .merge(df_merged,\n",
    "#                         .rename(columns=cols_0),\n",
    "                        how='left',on=['well','tile','cell_0'])\n",
    "                )"
   ]
  },
  {
   "cell_type": "code",
   "execution_count": 94,
   "metadata": {},
   "outputs": [
    {
     "name": "stdout",
     "output_type": "stream",
     "text": [
      "For well A1, cell matching rate is 93.75433396299242%\n",
      "For well A2, cell matching rate is 94.23493170305035%\n",
      "For well A3, cell matching rate is 94.17362513795473%\n",
      "For well B1, cell matching rate is 94.1662083260279%\n",
      "For well B2, cell matching rate is 94.55408166587975%\n",
      "For well B3, cell matching rate is 94.25568349445653%\n"
     ]
    }
   ],
   "source": [
    "for well,df in df_ph_matching.groupby('well'):\n",
    "    all_cells = df.pipe(len)\n",
    "    lonely_cells = df.distance.isnull().sum()\n",
    "    mapping = (all_cells-lonely_cells)/all_cells\n",
    "    print('For well '+well+', cell matching rate is '+str(mapping*100)+'%')"
   ]
  },
  {
   "cell_type": "markdown",
   "metadata": {},
   "source": [
    "# add full phenotype, reduce to single mapping"
   ]
  },
  {
   "cell_type": "code",
   "execution_count": null,
   "metadata": {},
   "outputs": [],
   "source": [
    "# this section unused?"
   ]
  },
  {
   "cell_type": "code",
   "execution_count": 95,
   "metadata": {},
   "outputs": [],
   "source": [
    "import gc"
   ]
  },
  {
   "cell_type": "code",
   "execution_count": 96,
   "metadata": {},
   "outputs": [],
   "source": [
    "df_merged_deduped = pd.read_hdf('merged_deduped.hdf')"
   ]
  },
  {
   "cell_type": "code",
   "execution_count": 97,
   "metadata": {},
   "outputs": [],
   "source": [
    "df_merged_deduped = df_merged_deduped[df_merged_deduped['mapped_single_gene']==True]"
   ]
  },
  {
   "cell_type": "code",
   "execution_count": 98,
   "metadata": {},
   "outputs": [
    {
     "data": {
      "text/plain": [
       "3935729"
      ]
     },
     "execution_count": 98,
     "metadata": {},
     "output_type": "execute_result"
    }
   ],
   "source": [
    "df_merged_deduped.pipe(len)"
   ]
  },
  {
   "cell_type": "code",
   "execution_count": 99,
   "metadata": {},
   "outputs": [],
   "source": [
    "df_phenotype = pd.read_hdf('simple_nuclear_phenotype.hdf')"
   ]
  },
  {
   "cell_type": "code",
   "execution_count": 100,
   "metadata": {},
   "outputs": [
    {
     "data": {
      "text/plain": [
       "382"
      ]
     },
     "execution_count": 100,
     "metadata": {},
     "output_type": "execute_result"
    }
   ],
   "source": [
    "gc.collect()"
   ]
  },
  {
   "cell_type": "code",
   "execution_count": 101,
   "metadata": {},
   "outputs": [],
   "source": [
    "final_merge_cols = [col for col in df_merged_deduped.columns \n",
    "                    if 'distance' not in col \n",
    "                        and col != 'mapped_single_gene' \n",
    "                        and col != 'channels_min'\n",
    "                   ]"
   ]
  },
  {
   "cell_type": "code",
   "execution_count": 102,
   "metadata": {},
   "outputs": [
    {
     "data": {
      "text/plain": [
       "['well',\n",
       " 'tile',\n",
       " 'cell_0',\n",
       " 'i_0',\n",
       " 'j_0',\n",
       " 'site',\n",
       " 'cell_1',\n",
       " 'i_1',\n",
       " 'j_1',\n",
       " 'sgRNA_0',\n",
       " 'gene_symbol_0',\n",
       " 'group_0']"
      ]
     },
     "execution_count": 102,
     "metadata": {},
     "output_type": "execute_result"
    }
   ],
   "source": [
    "final_merge_cols"
   ]
  },
  {
   "cell_type": "code",
   "execution_count": 103,
   "metadata": {},
   "outputs": [],
   "source": [
    "df_merged_deduped = df_merged_deduped[final_merge_cols]"
   ]
  },
  {
   "cell_type": "code",
   "execution_count": 104,
   "metadata": {},
   "outputs": [],
   "source": [
    "final_ph_cols = [col for col in df_phenotype.columns \n",
    "                    if col not in ['i','j']\n",
    "                   ]"
   ]
  },
  {
   "cell_type": "code",
   "execution_count": 105,
   "metadata": {},
   "outputs": [],
   "source": [
    "df_phenotype = df_phenotype[final_ph_cols].rename(columns={'cell':'cell_0'})"
   ]
  },
  {
   "cell_type": "code",
   "execution_count": 106,
   "metadata": {},
   "outputs": [
    {
     "data": {
      "text/html": [
       "<div>\n",
       "<style scoped>\n",
       "    .dataframe tbody tr th:only-of-type {\n",
       "        vertical-align: middle;\n",
       "    }\n",
       "\n",
       "    .dataframe tbody tr th {\n",
       "        vertical-align: top;\n",
       "    }\n",
       "\n",
       "    .dataframe thead th {\n",
       "        text-align: right;\n",
       "    }\n",
       "</style>\n",
       "<table border=\"1\" class=\"dataframe\">\n",
       "  <thead>\n",
       "    <tr style=\"text-align: right;\">\n",
       "      <th></th>\n",
       "      <th>dapi_nuclear_min</th>\n",
       "      <th>dapi_nuclear_25</th>\n",
       "      <th>dapi_nuclear_mean</th>\n",
       "      <th>dapi_nuclear_median</th>\n",
       "      <th>dapi_nuclear_75</th>\n",
       "      <th>dapi_nuclear_max</th>\n",
       "      <th>dapi_nuclear_int</th>\n",
       "      <th>dapi_nuclear_sd</th>\n",
       "      <th>dapi_nuclear_mad</th>\n",
       "      <th>dm1a_nuclear_min</th>\n",
       "      <th>...</th>\n",
       "      <th>solidity_nuclear</th>\n",
       "      <th>extent_nuclear</th>\n",
       "      <th>area</th>\n",
       "      <th>cell_0</th>\n",
       "      <th>bounds_0</th>\n",
       "      <th>bounds_1</th>\n",
       "      <th>bounds_2</th>\n",
       "      <th>bounds_3</th>\n",
       "      <th>tile</th>\n",
       "      <th>well</th>\n",
       "    </tr>\n",
       "  </thead>\n",
       "  <tbody>\n",
       "    <tr>\n",
       "      <th>0</th>\n",
       "      <td>746</td>\n",
       "      <td>1068.50</td>\n",
       "      <td>1221.887324</td>\n",
       "      <td>1223.0</td>\n",
       "      <td>1389.50</td>\n",
       "      <td>1668</td>\n",
       "      <td>433770</td>\n",
       "      <td>219.324517</td>\n",
       "      <td>164.0</td>\n",
       "      <td>0</td>\n",
       "      <td>...</td>\n",
       "      <td>0.889724</td>\n",
       "      <td>0.682692</td>\n",
       "      <td>355</td>\n",
       "      <td>1</td>\n",
       "      <td>0</td>\n",
       "      <td>345</td>\n",
       "      <td>13</td>\n",
       "      <td>385</td>\n",
       "      <td>115</td>\n",
       "      <td>B3</td>\n",
       "    </tr>\n",
       "    <tr>\n",
       "      <th>1</th>\n",
       "      <td>768</td>\n",
       "      <td>1216.25</td>\n",
       "      <td>1414.741996</td>\n",
       "      <td>1418.5</td>\n",
       "      <td>1663.00</td>\n",
       "      <td>2073</td>\n",
       "      <td>1502456</td>\n",
       "      <td>295.783086</td>\n",
       "      <td>229.0</td>\n",
       "      <td>0</td>\n",
       "      <td>...</td>\n",
       "      <td>0.922676</td>\n",
       "      <td>0.722449</td>\n",
       "      <td>1062</td>\n",
       "      <td>2</td>\n",
       "      <td>0</td>\n",
       "      <td>398</td>\n",
       "      <td>35</td>\n",
       "      <td>440</td>\n",
       "      <td>115</td>\n",
       "      <td>B3</td>\n",
       "    </tr>\n",
       "    <tr>\n",
       "      <th>2</th>\n",
       "      <td>1253</td>\n",
       "      <td>1517.50</td>\n",
       "      <td>1795.824847</td>\n",
       "      <td>1786.0</td>\n",
       "      <td>2047.50</td>\n",
       "      <td>2631</td>\n",
       "      <td>881750</td>\n",
       "      <td>323.720036</td>\n",
       "      <td>263.0</td>\n",
       "      <td>0</td>\n",
       "      <td>...</td>\n",
       "      <td>0.938815</td>\n",
       "      <td>0.663514</td>\n",
       "      <td>491</td>\n",
       "      <td>3</td>\n",
       "      <td>0</td>\n",
       "      <td>452</td>\n",
       "      <td>20</td>\n",
       "      <td>489</td>\n",
       "      <td>115</td>\n",
       "      <td>B3</td>\n",
       "    </tr>\n",
       "    <tr>\n",
       "      <th>3</th>\n",
       "      <td>1289</td>\n",
       "      <td>1705.25</td>\n",
       "      <td>1963.823988</td>\n",
       "      <td>1955.0</td>\n",
       "      <td>2239.50</td>\n",
       "      <td>2758</td>\n",
       "      <td>1260775</td>\n",
       "      <td>323.183177</td>\n",
       "      <td>266.0</td>\n",
       "      <td>0</td>\n",
       "      <td>...</td>\n",
       "      <td>0.961078</td>\n",
       "      <td>0.775362</td>\n",
       "      <td>642</td>\n",
       "      <td>4</td>\n",
       "      <td>0</td>\n",
       "      <td>549</td>\n",
       "      <td>18</td>\n",
       "      <td>595</td>\n",
       "      <td>115</td>\n",
       "      <td>B3</td>\n",
       "    </tr>\n",
       "    <tr>\n",
       "      <th>4</th>\n",
       "      <td>1032</td>\n",
       "      <td>2271.25</td>\n",
       "      <td>2621.751092</td>\n",
       "      <td>2718.5</td>\n",
       "      <td>3022.75</td>\n",
       "      <td>3860</td>\n",
       "      <td>1200762</td>\n",
       "      <td>592.362809</td>\n",
       "      <td>350.5</td>\n",
       "      <td>0</td>\n",
       "      <td>...</td>\n",
       "      <td>0.946281</td>\n",
       "      <td>0.726984</td>\n",
       "      <td>458</td>\n",
       "      <td>5</td>\n",
       "      <td>0</td>\n",
       "      <td>938</td>\n",
       "      <td>14</td>\n",
       "      <td>983</td>\n",
       "      <td>115</td>\n",
       "      <td>B3</td>\n",
       "    </tr>\n",
       "  </tbody>\n",
       "</table>\n",
       "<p>5 rows × 57 columns</p>\n",
       "</div>"
      ],
      "text/plain": [
       "   dapi_nuclear_min  dapi_nuclear_25  dapi_nuclear_mean  dapi_nuclear_median  \\\n",
       "0               746          1068.50        1221.887324               1223.0   \n",
       "1               768          1216.25        1414.741996               1418.5   \n",
       "2              1253          1517.50        1795.824847               1786.0   \n",
       "3              1289          1705.25        1963.823988               1955.0   \n",
       "4              1032          2271.25        2621.751092               2718.5   \n",
       "\n",
       "   dapi_nuclear_75  dapi_nuclear_max  dapi_nuclear_int  dapi_nuclear_sd  \\\n",
       "0          1389.50              1668            433770       219.324517   \n",
       "1          1663.00              2073           1502456       295.783086   \n",
       "2          2047.50              2631            881750       323.720036   \n",
       "3          2239.50              2758           1260775       323.183177   \n",
       "4          3022.75              3860           1200762       592.362809   \n",
       "\n",
       "   dapi_nuclear_mad  dm1a_nuclear_min  ...  solidity_nuclear  extent_nuclear  \\\n",
       "0             164.0                 0  ...          0.889724        0.682692   \n",
       "1             229.0                 0  ...          0.922676        0.722449   \n",
       "2             263.0                 0  ...          0.938815        0.663514   \n",
       "3             266.0                 0  ...          0.961078        0.775362   \n",
       "4             350.5                 0  ...          0.946281        0.726984   \n",
       "\n",
       "   area  cell_0  bounds_0  bounds_1  bounds_2  bounds_3  tile  well  \n",
       "0   355       1         0       345        13       385   115    B3  \n",
       "1  1062       2         0       398        35       440   115    B3  \n",
       "2   491       3         0       452        20       489   115    B3  \n",
       "3   642       4         0       549        18       595   115    B3  \n",
       "4   458       5         0       938        14       983   115    B3  \n",
       "\n",
       "[5 rows x 57 columns]"
      ]
     },
     "execution_count": 106,
     "metadata": {},
     "output_type": "execute_result"
    }
   ],
   "source": [
    "df_phenotype.head()"
   ]
  },
  {
   "cell_type": "code",
   "execution_count": 107,
   "metadata": {},
   "outputs": [],
   "source": [
    "df_merged_deduped_phenotype = df_merged_deduped.merge(df_phenotype,how='left',on=['well','tile','cell_0'])"
   ]
  },
  {
   "cell_type": "code",
   "execution_count": 108,
   "metadata": {},
   "outputs": [
    {
     "data": {
      "text/plain": [
       "3935729"
      ]
     },
     "execution_count": 108,
     "metadata": {},
     "output_type": "execute_result"
    }
   ],
   "source": [
    "df_merged_deduped_phenotype.pipe(len)"
   ]
  },
  {
   "cell_type": "code",
   "execution_count": 109,
   "metadata": {},
   "outputs": [],
   "source": [
    "def remove_edge_cells(df):\n",
    "    df['edge'] = df[['bounds_0','bounds_1','bounds_2','bounds_3']].apply(lambda x:( x.min(axis=0)==0)|(x.max(axis=0)==2960),axis=1)\n",
    "    return df[df['edge'] != True].drop(columns='edge')\n"
   ]
  },
  {
   "cell_type": "code",
   "execution_count": 110,
   "metadata": {},
   "outputs": [],
   "source": [
    "gb_cols = ['well','tile']"
   ]
  },
  {
   "cell_type": "code",
   "execution_count": 111,
   "metadata": {},
   "outputs": [
    {
     "data": {
      "application/vnd.jupyter.widget-view+json": {
       "model_id": "74f810f313f64cada4d0cc613a5f87ad",
       "version_major": 2,
       "version_minor": 0
      },
      "text/plain": [
       "HBox(children=(FloatProgress(value=0.0, description=\"['well', 'tile']\", max=7681.0, style=ProgressStyle(descri…"
      ]
     },
     "metadata": {},
     "output_type": "display_data"
    },
    {
     "name": "stdout",
     "output_type": "stream",
     "text": [
      "\n"
     ]
    }
   ],
   "source": [
    "df_merged_deduped_phenotype = df_merged_deduped_phenotype.pipe(ops.utils.gb_apply_parallel,gb_cols,remove_edge_cells,n_jobs=-1)"
   ]
  },
  {
   "cell_type": "code",
   "execution_count": 112,
   "metadata": {},
   "outputs": [
    {
     "data": {
      "text/plain": [
       "3934146"
      ]
     },
     "execution_count": 112,
     "metadata": {},
     "output_type": "execute_result"
    }
   ],
   "source": [
    "df_merged_deduped_phenotype.pipe(len)"
   ]
  },
  {
   "cell_type": "code",
   "execution_count": 113,
   "metadata": {},
   "outputs": [],
   "source": [
    "df_merged_deduped_phenotype.to_hdf('merged_deduped_phenotype.hdf','x',mode='w')"
   ]
  },
  {
   "cell_type": "code",
   "execution_count": 114,
   "metadata": {},
   "outputs": [
    {
     "data": {
      "text/plain": [
       "Index(['well', 'tile', 'cell_0', 'i_0', 'j_0', 'site', 'cell_1', 'i_1', 'j_1',\n",
       "       'sgRNA_0', 'gene_symbol_0', 'group_0', 'dapi_nuclear_min',\n",
       "       'dapi_nuclear_25', 'dapi_nuclear_mean', 'dapi_nuclear_median',\n",
       "       'dapi_nuclear_75', 'dapi_nuclear_max', 'dapi_nuclear_int',\n",
       "       'dapi_nuclear_sd', 'dapi_nuclear_mad', 'dm1a_nuclear_min',\n",
       "       'dm1a_nuclear_25', 'dm1a_nuclear_mean', 'dm1a_nuclear_median',\n",
       "       'dm1a_nuclear_75', 'dm1a_nuclear_max', 'dm1a_nuclear_int',\n",
       "       'dm1a_nuclear_sd', 'dm1a_nuclear_mad', 'gh2ax_nuclear_min',\n",
       "       'gh2ax_nuclear_25', 'gh2ax_nuclear_mean', 'gh2ax_nuclear_median',\n",
       "       'gh2ax_nuclear_75', 'gh2ax_nuclear_max', 'gh2ax_nuclear_int',\n",
       "       'gh2ax_nuclear_sd', 'gh2ax_nuclear_mad', 'phalloidin_nuclear_min',\n",
       "       'phalloidin_nuclear_25', 'phalloidin_nuclear_mean',\n",
       "       'phalloidin_nuclear_median', 'phalloidin_nuclear_75',\n",
       "       'phalloidin_nuclear_max', 'phalloidin_nuclear_int',\n",
       "       'phalloidin_nuclear_sd', 'phalloidin_nuclear_mad',\n",
       "       'dapi_dm1a_corr_nuclear', 'dapi_gh2ax_corr_nuclear',\n",
       "       'dm1a_gh2ax_corr_nuclear', 'dapi_phalloidin_corr_nuclear',\n",
       "       'dm1a_phalloidin_corr_nuclear', 'gh2ax_phalloidin_corr_nuclear',\n",
       "       'perimeter_nuclear', 'eccentricity_nuclear', 'major_axis_nuclear',\n",
       "       'minor_axis_nuclear', 'orientation_nuclear', 'solidity_nuclear',\n",
       "       'extent_nuclear', 'area', 'bounds_0', 'bounds_1', 'bounds_2',\n",
       "       'bounds_3'],\n",
       "      dtype='object')"
      ]
     },
     "execution_count": 114,
     "metadata": {},
     "output_type": "execute_result"
    }
   ],
   "source": [
    "df_merged_deduped_phenotype.columns"
   ]
  },
  {
   "cell_type": "code",
   "execution_count": null,
   "metadata": {},
   "outputs": [],
   "source": []
  }
 ],
 "metadata": {
  "kernelspec": {
   "display_name": "Python 3",
   "language": "python",
   "name": "python3"
  },
  "language_info": {
   "codemirror_mode": {
    "name": "ipython",
    "version": 3
   },
   "file_extension": ".py",
   "mimetype": "text/x-python",
   "name": "python",
   "nbconvert_exporter": "python",
   "pygments_lexer": "ipython3",
   "version": "3.7.4"
  }
 },
 "nbformat": 4,
 "nbformat_minor": 2
}
