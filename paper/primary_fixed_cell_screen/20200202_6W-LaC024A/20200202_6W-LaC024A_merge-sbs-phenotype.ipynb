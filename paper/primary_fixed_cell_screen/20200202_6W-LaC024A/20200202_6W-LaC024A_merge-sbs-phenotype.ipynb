{
 "cells": [
  {
   "cell_type": "markdown",
   "metadata": {
    "heading_collapsed": true
   },
   "source": [
    "# Initialize"
   ]
  },
  {
   "cell_type": "code",
   "execution_count": 1,
   "metadata": {
    "hidden": true
   },
   "outputs": [],
   "source": [
    "from ops.imports_ipython import *\n",
    "import glob"
   ]
  },
  {
   "cell_type": "code",
   "execution_count": null,
   "metadata": {
    "hidden": true
   },
   "outputs": [],
   "source": [
    "os.chdir('20200202_6W-LaC024A/')"
   ]
  },
  {
   "cell_type": "markdown",
   "metadata": {},
   "source": [
    "# combine tables"
   ]
  },
  {
   "cell_type": "code",
   "execution_count": 5,
   "metadata": {},
   "outputs": [],
   "source": [
    "ops.utils.combine_tables('cp_phenotype',output_filetype='hdf',subdir='process_ph/tables',n_jobs=-2,\n",
    "    usecols=[\n",
    "        'well','tile','cell',\n",
    "        'i','j','bounds_0','bounds_1','bounds_2','bounds_3',\n",
    "        # to identify cells on an acquisition border\n",
    "        'cell_dapi_min','cell_tubulin_min','cell_gh2ax_min','cell_phalloidin_min'\n",
    "        ]\n",
    ")\n",
    "os.rename('cp_phenotype.hdf','min_cp_phenotype.hdf')"
   ]
  },
  {
   "cell_type": "code",
   "execution_count": 6,
   "metadata": {
    "hidden": true
   },
   "outputs": [],
   "source": [
    "ops.utils.combine_tables('merge',output_filetype='hdf',subdir='alignment',n_jobs=-2)"
   ]
  },
  {
   "cell_type": "code",
   "execution_count": null,
   "metadata": {
    "hidden": true
   },
   "outputs": [],
   "source": [
    "ops.utils.combine_tables('cells',output_filetype='hdf',subdir='process_sbs/tables',n_jobs=-2)"
   ]
  },
  {
   "cell_type": "code",
   "execution_count": 8,
   "metadata": {
    "hidden": true
   },
   "outputs": [],
   "source": [
    "df_merged = pd.read_hdf('merge.hdf')"
   ]
  },
  {
   "cell_type": "markdown",
   "metadata": {},
   "source": [
    "# add distance to FOV center for each cell"
   ]
  },
  {
   "cell_type": "code",
   "execution_count": 9,
   "metadata": {},
   "outputs": [],
   "source": [
    "def fov_distance(df,i='i',j='j',dimensions=(2960,2960),suffix=''):\n",
    "    distance  = lambda x: np.sqrt((x[i]-(dimensions[0]/2))**2+(x[j]-(dimensions[1]/2))**2)\n",
    "    df['fov_distance'+suffix]=df.apply(distance,axis=1)\n",
    "    return df"
   ]
  },
  {
   "cell_type": "code",
   "execution_count": 10,
   "metadata": {},
   "outputs": [],
   "source": [
    "df_merged.pipe(fov_distance,i='i_0',j='j_0',suffix='_0');"
   ]
  },
  {
   "cell_type": "code",
   "execution_count": 11,
   "metadata": {},
   "outputs": [],
   "source": [
    "df_merged.pipe(fov_distance,i='i_1',j='j_1',dimensions=(1480,1480),suffix='_1');"
   ]
  },
  {
   "cell_type": "code",
   "execution_count": 12,
   "metadata": {},
   "outputs": [
    {
     "data": {
      "text/html": [
       "<div>\n",
       "<style scoped>\n",
       "    .dataframe tbody tr th:only-of-type {\n",
       "        vertical-align: middle;\n",
       "    }\n",
       "\n",
       "    .dataframe tbody tr th {\n",
       "        vertical-align: top;\n",
       "    }\n",
       "\n",
       "    .dataframe thead th {\n",
       "        text-align: right;\n",
       "    }\n",
       "</style>\n",
       "<table border=\"1\" class=\"dataframe\">\n",
       "  <thead>\n",
       "    <tr style=\"text-align: right;\">\n",
       "      <th></th>\n",
       "      <th>well</th>\n",
       "      <th>tile</th>\n",
       "      <th>cell_0</th>\n",
       "      <th>i_0</th>\n",
       "      <th>j_0</th>\n",
       "      <th>site</th>\n",
       "      <th>cell_1</th>\n",
       "      <th>i_1</th>\n",
       "      <th>j_1</th>\n",
       "      <th>distance</th>\n",
       "      <th>fov_distance_0</th>\n",
       "      <th>fov_distance_1</th>\n",
       "    </tr>\n",
       "  </thead>\n",
       "  <tbody>\n",
       "    <tr>\n",
       "      <th>509</th>\n",
       "      <td>B2</td>\n",
       "      <td>1023</td>\n",
       "      <td>537</td>\n",
       "      <td>1531.482868</td>\n",
       "      <td>1474.374802</td>\n",
       "      <td>267</td>\n",
       "      <td>2027</td>\n",
       "      <td>740.061404</td>\n",
       "      <td>740.315789</td>\n",
       "      <td>0.258851</td>\n",
       "      <td>51.789270</td>\n",
       "      <td>0.321704</td>\n",
       "    </tr>\n",
       "    <tr>\n",
       "      <th>603</th>\n",
       "      <td>B1</td>\n",
       "      <td>308</td>\n",
       "      <td>624</td>\n",
       "      <td>1481.335279</td>\n",
       "      <td>1505.670558</td>\n",
       "      <td>77</td>\n",
       "      <td>2683</td>\n",
       "      <td>740.180000</td>\n",
       "      <td>740.340000</td>\n",
       "      <td>0.233440</td>\n",
       "      <td>25.705262</td>\n",
       "      <td>0.384708</td>\n",
       "    </tr>\n",
       "    <tr>\n",
       "      <th>582</th>\n",
       "      <td>B1</td>\n",
       "      <td>1011</td>\n",
       "      <td>604</td>\n",
       "      <td>1523.914016</td>\n",
       "      <td>1496.196702</td>\n",
       "      <td>273</td>\n",
       "      <td>2387</td>\n",
       "      <td>740.481481</td>\n",
       "      <td>739.768519</td>\n",
       "      <td>0.364602</td>\n",
       "      <td>46.805705</td>\n",
       "      <td>0.534236</td>\n",
       "    </tr>\n",
       "    <tr>\n",
       "      <th>741</th>\n",
       "      <td>B2</td>\n",
       "      <td>188</td>\n",
       "      <td>785</td>\n",
       "      <td>1482.222319</td>\n",
       "      <td>1461.089278</td>\n",
       "      <td>51</td>\n",
       "      <td>3036</td>\n",
       "      <td>739.367347</td>\n",
       "      <td>739.925170</td>\n",
       "      <td>0.242206</td>\n",
       "      <td>19.040854</td>\n",
       "      <td>0.637063</td>\n",
       "    </tr>\n",
       "    <tr>\n",
       "      <th>507</th>\n",
       "      <td>A2</td>\n",
       "      <td>82</td>\n",
       "      <td>524</td>\n",
       "      <td>1526.818598</td>\n",
       "      <td>1461.128811</td>\n",
       "      <td>26</td>\n",
       "      <td>1923</td>\n",
       "      <td>740.179487</td>\n",
       "      <td>740.628205</td>\n",
       "      <td>0.270340</td>\n",
       "      <td>50.478737</td>\n",
       "      <td>0.653343</td>\n",
       "    </tr>\n",
       "  </tbody>\n",
       "</table>\n",
       "</div>"
      ],
      "text/plain": [
       "    well  tile  cell_0          i_0          j_0  site  cell_1         i_1  \\\n",
       "509   B2  1023     537  1531.482868  1474.374802   267    2027  740.061404   \n",
       "603   B1   308     624  1481.335279  1505.670558    77    2683  740.180000   \n",
       "582   B1  1011     604  1523.914016  1496.196702   273    2387  740.481481   \n",
       "741   B2   188     785  1482.222319  1461.089278    51    3036  739.367347   \n",
       "507   A2    82     524  1526.818598  1461.128811    26    1923  740.179487   \n",
       "\n",
       "            j_1  distance  fov_distance_0  fov_distance_1  \n",
       "509  740.315789  0.258851       51.789270        0.321704  \n",
       "603  740.340000  0.233440       25.705262        0.384708  \n",
       "582  739.768519  0.364602       46.805705        0.534236  \n",
       "741  739.925170  0.242206       19.040854        0.637063  \n",
       "507  740.628205  0.270340       50.478737        0.653343  "
      ]
     },
     "execution_count": 12,
     "metadata": {},
     "output_type": "execute_result"
    }
   ],
   "source": [
    "df_merged.sort_values(['fov_distance_1']).head()"
   ]
  },
  {
   "cell_type": "markdown",
   "metadata": {},
   "source": [
    "# add mapping info"
   ]
  },
  {
   "cell_type": "code",
   "execution_count": 13,
   "metadata": {},
   "outputs": [],
   "source": [
    "df_cells = pd.read_hdf('cells.hdf')"
   ]
  },
  {
   "cell_type": "code",
   "execution_count": 14,
   "metadata": {},
   "outputs": [
    {
     "data": {
      "text/html": [
       "<div>\n",
       "<style scoped>\n",
       "    .dataframe tbody tr th:only-of-type {\n",
       "        vertical-align: middle;\n",
       "    }\n",
       "\n",
       "    .dataframe tbody tr th {\n",
       "        vertical-align: top;\n",
       "    }\n",
       "\n",
       "    .dataframe thead th {\n",
       "        text-align: right;\n",
       "    }\n",
       "</style>\n",
       "<table border=\"1\" class=\"dataframe\">\n",
       "  <thead>\n",
       "    <tr style=\"text-align: right;\">\n",
       "      <th></th>\n",
       "      <th>cell</th>\n",
       "      <th>tile</th>\n",
       "      <th>well</th>\n",
       "      <th>Q_0</th>\n",
       "      <th>Q_1</th>\n",
       "      <th>Q_2</th>\n",
       "      <th>Q_3</th>\n",
       "      <th>Q_4</th>\n",
       "      <th>Q_5</th>\n",
       "      <th>Q_6</th>\n",
       "      <th>...</th>\n",
       "      <th>cell_barcode_count_0</th>\n",
       "      <th>cell_barcode_1</th>\n",
       "      <th>cell_barcode_count_1</th>\n",
       "      <th>barcode_count</th>\n",
       "      <th>sgRNA_0</th>\n",
       "      <th>gene_symbol_0</th>\n",
       "      <th>group_0</th>\n",
       "      <th>sgRNA_1</th>\n",
       "      <th>gene_symbol_1</th>\n",
       "      <th>group_1</th>\n",
       "    </tr>\n",
       "  </thead>\n",
       "  <tbody>\n",
       "    <tr>\n",
       "      <th>0</th>\n",
       "      <td>25</td>\n",
       "      <td>197</td>\n",
       "      <td>B3</td>\n",
       "      <td>1.000000</td>\n",
       "      <td>0.579873</td>\n",
       "      <td>0.357532</td>\n",
       "      <td>0.509846</td>\n",
       "      <td>0.179050</td>\n",
       "      <td>0.602376</td>\n",
       "      <td>0.093189</td>\n",
       "      <td>...</td>\n",
       "      <td>1</td>\n",
       "      <td>TGTTAAGAAAG</td>\n",
       "      <td>1.0</td>\n",
       "      <td>2</td>\n",
       "      <td>NaN</td>\n",
       "      <td>NaN</td>\n",
       "      <td>NaN</td>\n",
       "      <td>NaN</td>\n",
       "      <td>NaN</td>\n",
       "      <td>NaN</td>\n",
       "    </tr>\n",
       "    <tr>\n",
       "      <th>1</th>\n",
       "      <td>33</td>\n",
       "      <td>197</td>\n",
       "      <td>B3</td>\n",
       "      <td>0.219040</td>\n",
       "      <td>0.656760</td>\n",
       "      <td>0.428641</td>\n",
       "      <td>0.572109</td>\n",
       "      <td>0.670091</td>\n",
       "      <td>0.226627</td>\n",
       "      <td>0.622669</td>\n",
       "      <td>...</td>\n",
       "      <td>1</td>\n",
       "      <td>NaN</td>\n",
       "      <td>0.0</td>\n",
       "      <td>1</td>\n",
       "      <td>NaN</td>\n",
       "      <td>NaN</td>\n",
       "      <td>NaN</td>\n",
       "      <td>NaN</td>\n",
       "      <td>NaN</td>\n",
       "      <td>NaN</td>\n",
       "    </tr>\n",
       "    <tr>\n",
       "      <th>2</th>\n",
       "      <td>34</td>\n",
       "      <td>197</td>\n",
       "      <td>B3</td>\n",
       "      <td>0.899700</td>\n",
       "      <td>0.780513</td>\n",
       "      <td>1.000000</td>\n",
       "      <td>0.688264</td>\n",
       "      <td>0.791304</td>\n",
       "      <td>0.769204</td>\n",
       "      <td>0.721780</td>\n",
       "      <td>...</td>\n",
       "      <td>1</td>\n",
       "      <td>NaN</td>\n",
       "      <td>0.0</td>\n",
       "      <td>1</td>\n",
       "      <td>GCCCCACGTCGGGCGAGGTG</td>\n",
       "      <td>JUN</td>\n",
       "      <td>essentials_11L2</td>\n",
       "      <td>NaN</td>\n",
       "      <td>NaN</td>\n",
       "      <td>NaN</td>\n",
       "    </tr>\n",
       "    <tr>\n",
       "      <th>3</th>\n",
       "      <td>35</td>\n",
       "      <td>197</td>\n",
       "      <td>B3</td>\n",
       "      <td>0.646601</td>\n",
       "      <td>0.422292</td>\n",
       "      <td>0.316002</td>\n",
       "      <td>0.522432</td>\n",
       "      <td>0.382589</td>\n",
       "      <td>0.972196</td>\n",
       "      <td>0.265143</td>\n",
       "      <td>...</td>\n",
       "      <td>3</td>\n",
       "      <td>NaN</td>\n",
       "      <td>0.0</td>\n",
       "      <td>3</td>\n",
       "      <td>GGAGTGAGTTACCTTCCATG</td>\n",
       "      <td>OS9</td>\n",
       "      <td>essentials_11L2</td>\n",
       "      <td>NaN</td>\n",
       "      <td>NaN</td>\n",
       "      <td>NaN</td>\n",
       "    </tr>\n",
       "    <tr>\n",
       "      <th>4</th>\n",
       "      <td>38</td>\n",
       "      <td>197</td>\n",
       "      <td>B3</td>\n",
       "      <td>0.581712</td>\n",
       "      <td>0.470132</td>\n",
       "      <td>0.352224</td>\n",
       "      <td>1.000000</td>\n",
       "      <td>0.419610</td>\n",
       "      <td>0.911610</td>\n",
       "      <td>0.216308</td>\n",
       "      <td>...</td>\n",
       "      <td>2</td>\n",
       "      <td>GCAGTACAGGA</td>\n",
       "      <td>1.0</td>\n",
       "      <td>4</td>\n",
       "      <td>GGAGTGAGTTACCTTCCATG</td>\n",
       "      <td>OS9</td>\n",
       "      <td>essentials_11L2</td>\n",
       "      <td>NaN</td>\n",
       "      <td>NaN</td>\n",
       "      <td>NaN</td>\n",
       "    </tr>\n",
       "  </tbody>\n",
       "</table>\n",
       "<p>5 rows × 27 columns</p>\n",
       "</div>"
      ],
      "text/plain": [
       "   cell  tile well       Q_0       Q_1       Q_2       Q_3       Q_4  \\\n",
       "0    25   197   B3  1.000000  0.579873  0.357532  0.509846  0.179050   \n",
       "1    33   197   B3  0.219040  0.656760  0.428641  0.572109  0.670091   \n",
       "2    34   197   B3  0.899700  0.780513  1.000000  0.688264  0.791304   \n",
       "3    35   197   B3  0.646601  0.422292  0.316002  0.522432  0.382589   \n",
       "4    38   197   B3  0.581712  0.470132  0.352224  1.000000  0.419610   \n",
       "\n",
       "        Q_5       Q_6  ...  cell_barcode_count_0  cell_barcode_1  \\\n",
       "0  0.602376  0.093189  ...                     1     TGTTAAGAAAG   \n",
       "1  0.226627  0.622669  ...                     1             NaN   \n",
       "2  0.769204  0.721780  ...                     1             NaN   \n",
       "3  0.972196  0.265143  ...                     3             NaN   \n",
       "4  0.911610  0.216308  ...                     2     GCAGTACAGGA   \n",
       "\n",
       "   cell_barcode_count_1  barcode_count               sgRNA_0  gene_symbol_0  \\\n",
       "0                   1.0              2                   NaN            NaN   \n",
       "1                   0.0              1                   NaN            NaN   \n",
       "2                   0.0              1  GCCCCACGTCGGGCGAGGTG            JUN   \n",
       "3                   0.0              3  GGAGTGAGTTACCTTCCATG            OS9   \n",
       "4                   1.0              4  GGAGTGAGTTACCTTCCATG            OS9   \n",
       "\n",
       "           group_0  sgRNA_1 gene_symbol_1  group_1  \n",
       "0              NaN      NaN           NaN      NaN  \n",
       "1              NaN      NaN           NaN      NaN  \n",
       "2  essentials_11L2      NaN           NaN      NaN  \n",
       "3  essentials_11L2      NaN           NaN      NaN  \n",
       "4  essentials_11L2      NaN           NaN      NaN  \n",
       "\n",
       "[5 rows x 27 columns]"
      ]
     },
     "execution_count": 14,
     "metadata": {},
     "output_type": "execute_result"
    }
   ],
   "source": [
    "df_cells.head()"
   ]
  },
  {
   "cell_type": "code",
   "execution_count": 15,
   "metadata": {},
   "outputs": [],
   "source": [
    "df_cells['mapped_single_gene'] = (df_cells.apply(lambda x: True \n",
    "                    if (pd.notnull(x.gene_symbol_0)&pd.isnull(x.gene_symbol_1))|(x.gene_symbol_0==x.gene_symbol_1) \n",
    "                    else False,axis=1)\n",
    "                                  )"
   ]
  },
  {
   "cell_type": "code",
   "execution_count": 17,
   "metadata": {},
   "outputs": [
    {
     "data": {
      "text/plain": [
       "True     5923420\n",
       "False    2515494\n",
       "Name: mapped_single_gene, dtype: int64"
      ]
     },
     "execution_count": 17,
     "metadata": {},
     "output_type": "execute_result"
    }
   ],
   "source": [
    "df_cells.mapped_single_gene.value_counts()"
   ]
  },
  {
   "cell_type": "code",
   "execution_count": 18,
   "metadata": {},
   "outputs": [],
   "source": [
    "df_merged = df_merged.merge((df_cells[['well','tile','cell','sgRNA_0','gene_symbol_0','group_0','mapped_single_gene']]\n",
    "                             .rename({'tile':'site','cell':'cell_1'},axis=1)),\n",
    "                            how='left',on=['well','site','cell_1'])"
   ]
  },
  {
   "cell_type": "code",
   "execution_count": 19,
   "metadata": {},
   "outputs": [
    {
     "data": {
      "text/html": [
       "<div>\n",
       "<style scoped>\n",
       "    .dataframe tbody tr th:only-of-type {\n",
       "        vertical-align: middle;\n",
       "    }\n",
       "\n",
       "    .dataframe tbody tr th {\n",
       "        vertical-align: top;\n",
       "    }\n",
       "\n",
       "    .dataframe thead th {\n",
       "        text-align: right;\n",
       "    }\n",
       "</style>\n",
       "<table border=\"1\" class=\"dataframe\">\n",
       "  <thead>\n",
       "    <tr style=\"text-align: right;\">\n",
       "      <th></th>\n",
       "      <th>well</th>\n",
       "      <th>tile</th>\n",
       "      <th>cell_0</th>\n",
       "      <th>i_0</th>\n",
       "      <th>j_0</th>\n",
       "      <th>site</th>\n",
       "      <th>cell_1</th>\n",
       "      <th>i_1</th>\n",
       "      <th>j_1</th>\n",
       "      <th>distance</th>\n",
       "      <th>fov_distance_0</th>\n",
       "      <th>fov_distance_1</th>\n",
       "      <th>sgRNA_0</th>\n",
       "      <th>gene_symbol_0</th>\n",
       "      <th>group_0</th>\n",
       "      <th>mapped_single_gene</th>\n",
       "    </tr>\n",
       "  </thead>\n",
       "  <tbody>\n",
       "    <tr>\n",
       "      <th>4</th>\n",
       "      <td>B1</td>\n",
       "      <td>1122</td>\n",
       "      <td>16</td>\n",
       "      <td>59.317957</td>\n",
       "      <td>1650.814388</td>\n",
       "      <td>296</td>\n",
       "      <td>1107</td>\n",
       "      <td>376.369369</td>\n",
       "      <td>154.090090</td>\n",
       "      <td>0.870972</td>\n",
       "      <td>1430.914051</td>\n",
       "      <td>689.577884</td>\n",
       "      <td>GACCAACGTAGTATTTGCTG</td>\n",
       "      <td>TCOF1</td>\n",
       "      <td>essentials_11L2</td>\n",
       "      <td>True</td>\n",
       "    </tr>\n",
       "    <tr>\n",
       "      <th>6</th>\n",
       "      <td>B1</td>\n",
       "      <td>1122</td>\n",
       "      <td>22</td>\n",
       "      <td>79.150420</td>\n",
       "      <td>1590.083280</td>\n",
       "      <td>296</td>\n",
       "      <td>1121</td>\n",
       "      <td>381.109890</td>\n",
       "      <td>139.153846</td>\n",
       "      <td>0.486947</td>\n",
       "      <td>1405.168273</td>\n",
       "      <td>699.870139</td>\n",
       "      <td>GACCAACGTAGTATTTGCTG</td>\n",
       "      <td>TCOF1</td>\n",
       "      <td>essentials_11L2</td>\n",
       "      <td>True</td>\n",
       "    </tr>\n",
       "    <tr>\n",
       "      <th>3</th>\n",
       "      <td>B1</td>\n",
       "      <td>1122</td>\n",
       "      <td>14</td>\n",
       "      <td>52.045532</td>\n",
       "      <td>1516.853159</td>\n",
       "      <td>296</td>\n",
       "      <td>1097</td>\n",
       "      <td>374.095652</td>\n",
       "      <td>120.200000</td>\n",
       "      <td>1.022004</td>\n",
       "      <td>1428.429948</td>\n",
       "      <td>719.748589</td>\n",
       "      <td>GACCAACGTAGTATTTGCTG</td>\n",
       "      <td>TCOF1</td>\n",
       "      <td>essentials_11L2</td>\n",
       "      <td>True</td>\n",
       "    </tr>\n",
       "    <tr>\n",
       "      <th>9</th>\n",
       "      <td>B1</td>\n",
       "      <td>1122</td>\n",
       "      <td>26</td>\n",
       "      <td>109.025654</td>\n",
       "      <td>1479.035079</td>\n",
       "      <td>296</td>\n",
       "      <td>1140</td>\n",
       "      <td>388.024793</td>\n",
       "      <td>111.132231</td>\n",
       "      <td>0.790635</td>\n",
       "      <td>1370.974685</td>\n",
       "      <td>720.667202</td>\n",
       "      <td>GACCAACGTAGTATTTGCTG</td>\n",
       "      <td>TCOF1</td>\n",
       "      <td>essentials_11L2</td>\n",
       "      <td>True</td>\n",
       "    </tr>\n",
       "    <tr>\n",
       "      <th>8</th>\n",
       "      <td>B1</td>\n",
       "      <td>1122</td>\n",
       "      <td>23</td>\n",
       "      <td>81.182078</td>\n",
       "      <td>2758.833174</td>\n",
       "      <td>296</td>\n",
       "      <td>1127</td>\n",
       "      <td>382.629630</td>\n",
       "      <td>432.861111</td>\n",
       "      <td>1.488484</td>\n",
       "      <td>1895.285168</td>\n",
       "      <td>471.219565</td>\n",
       "      <td>NaN</td>\n",
       "      <td>NaN</td>\n",
       "      <td>NaN</td>\n",
       "      <td>False</td>\n",
       "    </tr>\n",
       "    <tr>\n",
       "      <th>1</th>\n",
       "      <td>B1</td>\n",
       "      <td>1122</td>\n",
       "      <td>9</td>\n",
       "      <td>30.609504</td>\n",
       "      <td>2820.042700</td>\n",
       "      <td>296</td>\n",
       "      <td>1081</td>\n",
       "      <td>369.175258</td>\n",
       "      <td>449.175258</td>\n",
       "      <td>0.361054</td>\n",
       "      <td>1973.942058</td>\n",
       "      <td>471.264279</td>\n",
       "      <td>NaN</td>\n",
       "      <td>NaN</td>\n",
       "      <td>NaN</td>\n",
       "      <td>False</td>\n",
       "    </tr>\n",
       "    <tr>\n",
       "      <th>2</th>\n",
       "      <td>B1</td>\n",
       "      <td>1122</td>\n",
       "      <td>10</td>\n",
       "      <td>35.934426</td>\n",
       "      <td>2317.230802</td>\n",
       "      <td>296</td>\n",
       "      <td>1089</td>\n",
       "      <td>371.047297</td>\n",
       "      <td>321.594595</td>\n",
       "      <td>1.362257</td>\n",
       "      <td>1669.215624</td>\n",
       "      <td>557.843329</td>\n",
       "      <td>NaN</td>\n",
       "      <td>NaN</td>\n",
       "      <td>NaN</td>\n",
       "      <td>False</td>\n",
       "    </tr>\n",
       "    <tr>\n",
       "      <th>0</th>\n",
       "      <td>B1</td>\n",
       "      <td>1122</td>\n",
       "      <td>8</td>\n",
       "      <td>29.521155</td>\n",
       "      <td>2252.254853</td>\n",
       "      <td>296</td>\n",
       "      <td>1080</td>\n",
       "      <td>369.555556</td>\n",
       "      <td>305.244444</td>\n",
       "      <td>1.428717</td>\n",
       "      <td>1643.248745</td>\n",
       "      <td>571.175524</td>\n",
       "      <td>NaN</td>\n",
       "      <td>NaN</td>\n",
       "      <td>NaN</td>\n",
       "      <td>False</td>\n",
       "    </tr>\n",
       "    <tr>\n",
       "      <th>5</th>\n",
       "      <td>B1</td>\n",
       "      <td>1122</td>\n",
       "      <td>17</td>\n",
       "      <td>64.029373</td>\n",
       "      <td>2189.173170</td>\n",
       "      <td>296</td>\n",
       "      <td>1111</td>\n",
       "      <td>378.396825</td>\n",
       "      <td>289.412698</td>\n",
       "      <td>1.537713</td>\n",
       "      <td>1583.634870</td>\n",
       "      <td>577.741960</td>\n",
       "      <td>NaN</td>\n",
       "      <td>NaN</td>\n",
       "      <td>NaN</td>\n",
       "      <td>False</td>\n",
       "    </tr>\n",
       "    <tr>\n",
       "      <th>7</th>\n",
       "      <td>B1</td>\n",
       "      <td>1122</td>\n",
       "      <td>20</td>\n",
       "      <td>73.697384</td>\n",
       "      <td>2572.263377</td>\n",
       "      <td>296</td>\n",
       "      <td>1122</td>\n",
       "      <td>381.157303</td>\n",
       "      <td>386.101124</td>\n",
       "      <td>1.702067</td>\n",
       "      <td>1780.653344</td>\n",
       "      <td>503.996523</td>\n",
       "      <td>NaN</td>\n",
       "      <td>NaN</td>\n",
       "      <td>NaN</td>\n",
       "      <td>NaN</td>\n",
       "    </tr>\n",
       "  </tbody>\n",
       "</table>\n",
       "</div>"
      ],
      "text/plain": [
       "  well  tile  cell_0         i_0          j_0  site  cell_1         i_1  \\\n",
       "4   B1  1122      16   59.317957  1650.814388   296    1107  376.369369   \n",
       "6   B1  1122      22   79.150420  1590.083280   296    1121  381.109890   \n",
       "3   B1  1122      14   52.045532  1516.853159   296    1097  374.095652   \n",
       "9   B1  1122      26  109.025654  1479.035079   296    1140  388.024793   \n",
       "8   B1  1122      23   81.182078  2758.833174   296    1127  382.629630   \n",
       "1   B1  1122       9   30.609504  2820.042700   296    1081  369.175258   \n",
       "2   B1  1122      10   35.934426  2317.230802   296    1089  371.047297   \n",
       "0   B1  1122       8   29.521155  2252.254853   296    1080  369.555556   \n",
       "5   B1  1122      17   64.029373  2189.173170   296    1111  378.396825   \n",
       "7   B1  1122      20   73.697384  2572.263377   296    1122  381.157303   \n",
       "\n",
       "          j_1  distance  fov_distance_0  fov_distance_1               sgRNA_0  \\\n",
       "4  154.090090  0.870972     1430.914051      689.577884  GACCAACGTAGTATTTGCTG   \n",
       "6  139.153846  0.486947     1405.168273      699.870139  GACCAACGTAGTATTTGCTG   \n",
       "3  120.200000  1.022004     1428.429948      719.748589  GACCAACGTAGTATTTGCTG   \n",
       "9  111.132231  0.790635     1370.974685      720.667202  GACCAACGTAGTATTTGCTG   \n",
       "8  432.861111  1.488484     1895.285168      471.219565                   NaN   \n",
       "1  449.175258  0.361054     1973.942058      471.264279                   NaN   \n",
       "2  321.594595  1.362257     1669.215624      557.843329                   NaN   \n",
       "0  305.244444  1.428717     1643.248745      571.175524                   NaN   \n",
       "5  289.412698  1.537713     1583.634870      577.741960                   NaN   \n",
       "7  386.101124  1.702067     1780.653344      503.996523                   NaN   \n",
       "\n",
       "  gene_symbol_0          group_0 mapped_single_gene  \n",
       "4         TCOF1  essentials_11L2               True  \n",
       "6         TCOF1  essentials_11L2               True  \n",
       "3         TCOF1  essentials_11L2               True  \n",
       "9         TCOF1  essentials_11L2               True  \n",
       "8           NaN              NaN              False  \n",
       "1           NaN              NaN              False  \n",
       "2           NaN              NaN              False  \n",
       "0           NaN              NaN              False  \n",
       "5           NaN              NaN              False  \n",
       "7           NaN              NaN                NaN  "
      ]
     },
     "execution_count": 19,
     "metadata": {},
     "output_type": "execute_result"
    }
   ],
   "source": [
    "df_merged.head(10).sort_values(['mapped_single_gene','fov_distance_1'],ascending=[False,True])"
   ]
  },
  {
   "cell_type": "markdown",
   "metadata": {},
   "source": [
    "# add phenotype min info"
   ]
  },
  {
   "cell_type": "code",
   "execution_count": 23,
   "metadata": {},
   "outputs": [],
   "source": [
    "df_phenotype = pd.read_hdf('min_cp_phenotype.hdf').fillna(0)"
   ]
  },
  {
   "cell_type": "code",
   "execution_count": 29,
   "metadata": {},
   "outputs": [],
   "source": [
    "min_cols = [col for col in df_phenotype.columns if '_min' in col]\n",
    "info_cols = [col for col in df_phenotype.columns if col not in min_cols]"
   ]
  },
  {
   "cell_type": "code",
   "execution_count": 32,
   "metadata": {},
   "outputs": [],
   "source": [
    "df_phenotype['channels_min'] = df_phenotype[min_cols].apply(lambda x: x.min(axis=0),axis=1)"
   ]
  },
  {
   "cell_type": "code",
   "execution_count": 35,
   "metadata": {},
   "outputs": [],
   "source": [
    "df_merged = df_merged.merge((df_phenotype[['well','tile','cell','channels_min']]\n",
    "                             .rename(columns={'cell':'cell_0'})),\n",
    "                            how='left',on=['well','tile','cell_0'])"
   ]
  },
  {
   "cell_type": "code",
   "execution_count": 54,
   "metadata": {},
   "outputs": [],
   "source": [
    "# found misalignment issues manually by inspecting plot below\n",
    "misaligned = np.array([['B1',589],['A3',181],['B1',772],['A3',180]])\n",
    "misaligned_wells = list(misaligned[:,0])\n",
    "misaligned_tiles = list(misaligned[:,1])"
   ]
  },
  {
   "cell_type": "code",
   "execution_count": 60,
   "metadata": {},
   "outputs": [
    {
     "data": {
      "text/plain": [
       "<matplotlib.axes._subplots.AxesSubplot at 0x7f459172f110>"
      ]
     },
     "execution_count": 60,
     "metadata": {},
     "output_type": "execute_result"
    },
    {
     "data": {
      "image/png": "[encoded data removed]",
      "text/plain": [
       "<Figure size 1440x1440 with 1 Axes>"
      ]
     },
     "metadata": {},
     "output_type": "display_data"
    }
   ],
   "source": [
    "# visualize cells overlapping channel alignment edges\n",
    "# (only relevant if phenotype channels are acquired separately)\n",
    "plt.figure(figsize=(20,20))\n",
    "sns.scatterplot(data=(df_merged\n",
    "                      .query('channels_min==0')\n",
    "                      .query('well != @misaligned_wells & tile != @misaligned_tiles')[['i_0','j_0']]\n",
    "                     ),\n",
    "                x='i_0',y='j_0')"
   ]
  },
  {
   "cell_type": "markdown",
   "metadata": {},
   "source": [
    "# filter merged datasets for duplicates"
   ]
  },
  {
   "cell_type": "code",
   "execution_count": 20,
   "metadata": {},
   "outputs": [
    {
     "data": {
      "text/plain": [
       "1    7393545\n",
       "2    2117738\n",
       "3      19382\n",
       "4        877\n",
       "Name: cell_0, dtype: int64"
      ]
     },
     "execution_count": 20,
     "metadata": {},
     "output_type": "execute_result"
    }
   ],
   "source": [
    "df_merged.groupby(['well','tile']).cell_0.value_counts().value_counts()"
   ]
  },
  {
   "cell_type": "code",
   "execution_count": 21,
   "metadata": {},
   "outputs": [
    {
     "data": {
      "text/plain": [
       "1    6845023\n",
       "2    2165837\n",
       "3      87718\n",
       "4      62706\n",
       "Name: cell_1, dtype: int64"
      ]
     },
     "execution_count": 21,
     "metadata": {},
     "output_type": "execute_result"
    }
   ],
   "source": [
    "df_merged.groupby(['well','site']).cell_1.value_counts().value_counts()"
   ]
  },
  {
   "cell_type": "code",
   "execution_count": 65,
   "metadata": {},
   "outputs": [
    {
     "data": {
      "text/plain": [
       "9161284"
      ]
     },
     "execution_count": 65,
     "metadata": {},
     "output_type": "execute_result"
    }
   ],
   "source": [
    "df_merged.drop_duplicates(['well','site','cell_1']).pipe(len)"
   ]
  },
  {
   "cell_type": "code",
   "execution_count": 62,
   "metadata": {},
   "outputs": [
    {
     "data": {
      "text/plain": [
       "11690675"
      ]
     },
     "execution_count": 62,
     "metadata": {},
     "output_type": "execute_result"
    }
   ],
   "source": [
    "df_merged.pipe(len)"
   ]
  },
  {
   "cell_type": "code",
   "execution_count": 67,
   "metadata": {},
   "outputs": [],
   "source": [
    "# remove bad tiles and cells with phenotype channel min ==0\n",
    "df_merged_ph = (df_merged\n",
    "             .query('well != @misaligned_wells & tile != @misaligned_tiles')\n",
    "             .query('channels_min>0')\n",
    "            )"
   ]
  },
  {
   "cell_type": "code",
   "execution_count": 68,
   "metadata": {},
   "outputs": [
    {
     "data": {
      "text/plain": [
       "6194979"
      ]
     },
     "execution_count": 68,
     "metadata": {},
     "output_type": "execute_result"
    }
   ],
   "source": [
    "df_merged_ph.drop_duplicates(['well','site','cell_1']).pipe(len)"
   ]
  },
  {
   "cell_type": "code",
   "execution_count": 69,
   "metadata": {},
   "outputs": [
    {
     "data": {
      "text/plain": [
       "1    4727830\n",
       "2    1378649\n",
       "3      50406\n",
       "4      38094\n",
       "Name: cell_1, dtype: int64"
      ]
     },
     "execution_count": 69,
     "metadata": {},
     "output_type": "execute_result"
    }
   ],
   "source": [
    "df_merged_ph.groupby(['well','site']).cell_1.value_counts().value_counts()"
   ]
  },
  {
   "cell_type": "code",
   "execution_count": 70,
   "metadata": {},
   "outputs": [],
   "source": [
    "# drop sbs cells mapping to same phenotype cell by priority (mapping, fov_distance)\n",
    "df_merged_filt = (df_merged_ph\n",
    "                  .sort_values(['mapped_single_gene','fov_distance_1'],\n",
    "                               ascending=[False,True])\n",
    "                  .drop_duplicates(['well','tile','cell_0'],keep='first')\n",
    "                 )"
   ]
  },
  {
   "cell_type": "code",
   "execution_count": 71,
   "metadata": {},
   "outputs": [
    {
     "data": {
      "text/plain": [
       "1    3669781\n",
       "2    1186000\n",
       "3      50406\n",
       "4      38094\n",
       "Name: cell_1, dtype: int64"
      ]
     },
     "execution_count": 71,
     "metadata": {},
     "output_type": "execute_result"
    }
   ],
   "source": [
    "df_merged_filt.groupby(['well','site']).cell_1.value_counts().value_counts()"
   ]
  },
  {
   "cell_type": "code",
   "execution_count": 72,
   "metadata": {},
   "outputs": [],
   "source": [
    "# drop duplicated phenotype cells mapping to same sbs cell by priority (fov_distance)\n",
    "df_merged_filt_filt = (df_merged_filt\n",
    "                       .sort_values(['fov_distance_0'],ascending=True)\n",
    "                       .drop_duplicates(['well','site','cell_1'],keep='first')\n",
    "                      )"
   ]
  },
  {
   "cell_type": "code",
   "execution_count": 73,
   "metadata": {},
   "outputs": [
    {
     "data": {
      "text/plain": [
       "4944281"
      ]
     },
     "execution_count": 73,
     "metadata": {},
     "output_type": "execute_result"
    }
   ],
   "source": [
    "df_merged_filt_filt.pipe(len)"
   ]
  },
  {
   "cell_type": "code",
   "execution_count": 74,
   "metadata": {},
   "outputs": [
    {
     "data": {
      "text/plain": [
       "3058529"
      ]
     },
     "execution_count": 74,
     "metadata": {},
     "output_type": "execute_result"
    }
   ],
   "source": [
    "df_merged_filt_filt[df_merged_filt_filt.mapped_single_gene==True].pipe(len)"
   ]
  },
  {
   "cell_type": "code",
   "execution_count": null,
   "metadata": {},
   "outputs": [],
   "source": [
    "df_merged.to_hdf('merge.hdf', 'x', mode='w')"
   ]
  },
  {
   "cell_type": "code",
   "execution_count": null,
   "metadata": {},
   "outputs": [],
   "source": [
    "df_merged_filt_filt.to_hdf('merged_deduped.hdf', 'x', mode='w')"
   ]
  },
  {
   "cell_type": "markdown",
   "metadata": {},
   "source": [
    "# check cell matching rate"
   ]
  },
  {
   "cell_type": "code",
   "execution_count": 83,
   "metadata": {},
   "outputs": [],
   "source": [
    "df_sbs_info = pd.concat([pd.read_hdf(f) for f in glob.glob('sbs_info_*.hdf')])"
   ]
  },
  {
   "cell_type": "code",
   "execution_count": 94,
   "metadata": {},
   "outputs": [],
   "source": [
    "df_sbs_info.to_hdf('sbs_info.hdf','x',mode='w')"
   ]
  },
  {
   "cell_type": "code",
   "execution_count": 87,
   "metadata": {},
   "outputs": [],
   "source": [
    "del df_merged_filt"
   ]
  },
  {
   "cell_type": "code",
   "execution_count": 91,
   "metadata": {},
   "outputs": [],
   "source": [
    "# cols_0 = {'i':'i_0','j':'j_0','cell':'cell_0','tile':'tile_0'}\n",
    "cols_1 = {'cell':'cell_1','tile':'site'}\n",
    "\n",
    "#before deduping, how many sbs cells map to a phenotype cell\n",
    "df_sbs_matching = (df_sbs_info\n",
    "                   .rename(columns=cols_1)\n",
    "                   .drop(columns=['i','j'])\n",
    "                   .merge(df_merged,\n",
    "#                         .rename(columns=cols_0),\n",
    "                        how='left',on=['well','site','cell_1'])\n",
    "                  )"
   ]
  },
  {
   "cell_type": "code",
   "execution_count": 92,
   "metadata": {},
   "outputs": [
    {
     "name": "stdout",
     "output_type": "stream",
     "text": [
      "For well A1, cell matching rate is 91.16104963691346%\n",
      "For well A2, cell matching rate is 90.70048862340042%\n",
      "For well A3, cell matching rate is 91.23147374222472%\n",
      "For well B1, cell matching rate is 91.24286198764608%\n",
      "For well B2, cell matching rate is 90.73735569532039%\n",
      "For well B3, cell matching rate is 91.51082496185509%\n"
     ]
    }
   ],
   "source": [
    "# before deduping\n",
    "for well,df in df_sbs_matching.groupby('well'):\n",
    "    all_cells = df.pipe(len)\n",
    "    lonely_cells = df.distance.isnull().sum()\n",
    "    mapping = (all_cells-lonely_cells)/all_cells\n",
    "    print('For well '+well+', cell matching rate is '+str(mapping*100)+'%')"
   ]
  },
  {
   "cell_type": "code",
   "execution_count": 93,
   "metadata": {},
   "outputs": [],
   "source": [
    "del df_sbs_matching"
   ]
  },
  {
   "cell_type": "code",
   "execution_count": 95,
   "metadata": {},
   "outputs": [],
   "source": [
    "del df_sbs_info"
   ]
  },
  {
   "cell_type": "code",
   "execution_count": 96,
   "metadata": {},
   "outputs": [],
   "source": [
    "df_ph_info = pd.concat([pd.read_hdf(f) for f in glob.glob('ph_info_*.hdf')])"
   ]
  },
  {
   "cell_type": "code",
   "execution_count": 97,
   "metadata": {},
   "outputs": [],
   "source": [
    "df_ph_info.to_hdf('ph_info.hdf','x',mode='w')"
   ]
  },
  {
   "cell_type": "code",
   "execution_count": 103,
   "metadata": {},
   "outputs": [],
   "source": [
    "# cols_0 = {'i':'i_0','j':'j_0','cell':'cell_0','tile':'tile_0'}\n",
    "cols_1 = {'cell':'cell_0'}\n",
    "\n",
    "#before deduping, how many sbs cells map to a phenotype cell\n",
    "df_ph_matching = (df_ph_info\n",
    "                 .rename(columns=cols_1)\n",
    "                 .drop(columns=['i','j'])\n",
    "                 .merge(df_merged,\n",
    "#                         .rename(columns=cols_0),\n",
    "                        how='left',on=['well','tile','cell_0'])\n",
    "                )"
   ]
  },
  {
   "cell_type": "code",
   "execution_count": 104,
   "metadata": {},
   "outputs": [
    {
     "name": "stdout",
     "output_type": "stream",
     "text": [
      "For well A1, cell matching rate is 94.55128755169841%\n",
      "For well A2, cell matching rate is 94.28342463236031%\n",
      "For well A3, cell matching rate is 93.93545205202697%\n",
      "For well B1, cell matching rate is 94.0155238556446%\n",
      "For well B2, cell matching rate is 94.00388119889928%\n",
      "For well B3, cell matching rate is 94.22722887671506%\n"
     ]
    }
   ],
   "source": [
    "for well,df in df_ph_matching.groupby('well'):\n",
    "    all_cells = df.pipe(len)\n",
    "    lonely_cells = df.distance.isnull().sum()\n",
    "    mapping = (all_cells-lonely_cells)/all_cells\n",
    "    print('For well '+well+', cell matching rate is '+str(mapping*100)+'%')"
   ]
  }
 ],
 "metadata": {
  "kernelspec": {
   "display_name": "Python 3.7.6 ('venv': venv)",
   "language": "python",
   "name": "python3"
  },
  "language_info": {
   "codemirror_mode": {
    "name": "ipython",
    "version": 3
   },
   "file_extension": ".py",
   "mimetype": "text/x-python",
   "name": "python",
   "nbconvert_exporter": "python",
   "pygments_lexer": "ipython3",
   "version": "3.7.6"
  },
  "vscode": {
   "interpreter": {
    "hash": "f765f516a26f35bf3b9bc5397b1268a3168d0aaa9258fc4150d60322993abf72"
   }
  }
 },
 "nbformat": 4,
 "nbformat_minor": 2
}
