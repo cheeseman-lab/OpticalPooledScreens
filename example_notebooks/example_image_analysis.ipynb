{
 "cells": [
  {
   "cell_type": "code",
   "execution_count": 1,
   "metadata": {
    "scrolled": true
   },
   "outputs": [],
   "source": [
    "from ops.imports import *\n",
    "from ops.process import Align\n",
    "import ops.firesnake\n",
    "from ops.firesnake import Snake\n",
    "\n",
    "# runs example from example_data/ sub-directory of project\n",
    "home = os.path.dirname(os.path.dirname(ops.__file__))\n",
    "os.chdir(os.path.join(home, 'example_data'))\n",
    "\n",
    "df_design = pd.read_csv('design.csv')\n",
    "\n",
    "THRESHOLD_STD = 300\n",
    "THRESHOLD_DAPI = 1200\n",
    "THRESHOLD_CELL = 800\n",
    "NUCLEUS_AREA = 0.25*150, 0.25*800\n",
    "WILDCARDS = dict(well='A1', tile='107')"
   ]
  },
  {
   "cell_type": "code",
   "execution_count": 2,
   "metadata": {
    "scrolled": true
   },
   "outputs": [
    {
     "name": "stdout",
     "output_type": "stream",
     "text": [
      "input/10X_c1-SBS-1/10X_c1-SBS-1_A1_Tile-107.tif\n",
      "input/10X_c2-SBS-2/10X_c2-SBS-2_A1_Tile-107.tif\n",
      "input/10X_c3-SBS-3/10X_c3-SBS-3_A1_Tile-107.tif\n",
      "input/10X_c4-SBS-4/10X_c4-SBS-4_A1_Tile-107.tif\n",
      "input/10X_c5-SBS-5/10X_c5-SBS-5_A1_Tile-107.tif\n",
      "input/10X_c6-SBS-6/10X_c6-SBS-6_A1_Tile-107.tif\n",
      "input/10X_c7-SBS-7/10X_c7-SBS-7_A1_Tile-107.tif\n",
      "input/10X_c8-SBS-8/10X_c8-SBS-8_A1_Tile-107.tif\n",
      "input/10X_c9-SBS-9/10X_c9-SBS-9_A1_Tile-107.tif\n",
      "input/10X_c10-SBS-10/10X_c10-SBS-10_A1_Tile-107.tif\n",
      "input/10X_c11-SBS-11/10X_c11-SBS-11_A1_Tile-107.tif\n",
      "input/10X_c12-SBS-12/10X_c12-SBS-12_A1_Tile-107.tif\n"
     ]
    }
   ],
   "source": [
    "search = 'input/*/10X*{well}_Tile-{tile}.tif'.format(**WILDCARDS)\n",
    "input_files = natsorted(glob(search))\n",
    "for f in input_files:\n",
    "    print(f)\n",
    "\n",
    "# used to format output filenames\n",
    "description = parse(input_files[0])\n",
    "description['subdir'] = 'process_ipynb'\n",
    "description.pop('cycle');"
   ]
  },
  {
   "cell_type": "markdown",
   "metadata": {},
   "source": [
    "### load, align, apply Laplacian-of-Gaussian filter (log)"
   ]
  },
  {
   "cell_type": "code",
   "execution_count": 3,
   "metadata": {},
   "outputs": [],
   "source": [
    "data = np.array([read(f) for f in input_files])\n",
    "aligned = Snake._align_SBS(data, method='DAPI')\n",
    "save(name(description, tag='aligned'), aligned)"
   ]
  },
  {
   "cell_type": "code",
   "execution_count": 4,
   "metadata": {},
   "outputs": [],
   "source": [
    "loged = Snake._transform_log(aligned, skip_index=0)\n",
    "save(name(description, tag='log'), loged)"
   ]
  },
  {
   "cell_type": "code",
   "execution_count": 5,
   "metadata": {},
   "outputs": [],
   "source": [
    "maxed = Snake._max_filter(loged, 3, remove_index=0)\n",
    "save(name(description, tag='maxed'), maxed)"
   ]
  },
  {
   "cell_type": "markdown",
   "metadata": {},
   "source": [
    "### detect candidate reads"
   ]
  },
  {
   "cell_type": "code",
   "execution_count": 6,
   "metadata": {},
   "outputs": [
    {
     "name": "stdout",
     "output_type": "stream",
     "text": [
      "Cast float64 to float32\n"
     ]
    }
   ],
   "source": [
    "std = Snake._compute_std(loged, remove_index=0)\n",
    "save(name(description, tag='std'), std)"
   ]
  },
  {
   "cell_type": "code",
   "execution_count": 7,
   "metadata": {},
   "outputs": [
    {
     "name": "stdout",
     "output_type": "stream",
     "text": [
      "Cast float64 to float32\n"
     ]
    }
   ],
   "source": [
    "peaks = Snake._find_peaks(std)\n",
    "save(name(description, tag='peaks'), peaks)"
   ]
  },
  {
   "cell_type": "markdown",
   "metadata": {},
   "source": [
    "### segment nuclei and cells"
   ]
  },
  {
   "cell_type": "code",
   "execution_count": 8,
   "metadata": {},
   "outputs": [],
   "source": [
    "nuclei = Snake._segment_nuclei(data[0], THRESHOLD_DAPI,\n",
    " area_min=NUCLEUS_AREA[0], area_max=NUCLEUS_AREA[1])\n",
    "\n",
    "save(name(description, tag='nuclei'), nuclei)"
   ]
  },
  {
   "cell_type": "code",
   "execution_count": 9,
   "metadata": {},
   "outputs": [],
   "source": [
    "cells = Snake._segment_cells(data[0], nuclei, THRESHOLD_CELL)\n",
    "save(name(description, tag='cells'), cells)"
   ]
  },
  {
   "cell_type": "markdown",
   "metadata": {},
   "source": [
    "### extract base intensity, call reads, assign to cells"
   ]
  },
  {
   "cell_type": "code",
   "execution_count": 10,
   "metadata": {
    "code_folding": []
   },
   "outputs": [],
   "source": [
    "df_bases = Snake._extract_bases(maxed, peaks, cells, \n",
    "                        THRESHOLD_STD, wildcards=WILDCARDS)\n",
    "df_bases.to_csv(name(description, tag='bases', ext='csv'), index=None)"
   ]
  },
  {
   "cell_type": "code",
   "execution_count": 11,
   "metadata": {},
   "outputs": [],
   "source": [
    "df_reads = Snake._call_reads(df_bases)\n",
    "filename = name(description, tag='reads', ext='csv')\n",
    "df_reads.to_csv(filename, index=None)"
   ]
  },
  {
   "cell_type": "code",
   "execution_count": 12,
   "metadata": {
    "scrolled": true
   },
   "outputs": [],
   "source": [
    "# read from csv to match numerical precision of snakemake pipeline\n",
    "df_reads = pd.read_csv(filename) \n",
    "df_cells = Snake._call_cells(df_reads)\n",
    "df_cells.to_csv(name(description, tag='cells', ext='csv'), index=None)"
   ]
  }
 ],
 "metadata": {
  "kernelspec": {
   "display_name": "Python 3",
   "language": "python",
   "name": "python3"
  },
  "language_info": {
   "codemirror_mode": {
    "name": "ipython",
    "version": 3
   },
   "file_extension": ".py",
   "mimetype": "text/x-python",
   "name": "python",
   "nbconvert_exporter": "python",
   "pygments_lexer": "ipython3",
   "version": "3.7.6"
  }
 },
 "nbformat": 4,
 "nbformat_minor": 2
}
