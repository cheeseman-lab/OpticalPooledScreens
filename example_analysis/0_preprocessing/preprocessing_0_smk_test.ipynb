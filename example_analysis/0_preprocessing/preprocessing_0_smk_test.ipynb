{
 "cells": [
  {
   "cell_type": "code",
   "execution_count": 15,
   "metadata": {},
   "outputs": [
    {
     "name": "stdout",
     "output_type": "stream",
     "text": [
      "Copied /lab/barcheese01/screens/denali/input_sbs/c10/P001_SBS_10x_C9_Wells-A1_Points-001__Channel_Cy7,Cy5,AF594,Cy3_SBS,DAPI_SBS.nd2 to input/sbs_temp/P001_SBS_10x_C9_Wells-A1_Points-001__Channel_Cy7,Cy5,AF594,Cy3_SBS,DAPI_SBS.nd2\n",
      "Copied /lab/barcheese01/screens/denali/input_sbs/c10/P001_SBS_10x_C9_Wells-A1_Points-100__Channel_Cy7,Cy5,AF594,Cy3_SBS,DAPI_SBS.nd2 to input/sbs_temp/P001_SBS_10x_C9_Wells-A1_Points-100__Channel_Cy7,Cy5,AF594,Cy3_SBS,DAPI_SBS.nd2\n",
      "Copied /lab/barcheese01/screens/denali/input_sbs/c10/P001_SBS_10x_C9_Wells-A2_Points-001__Channel_Cy7,Cy5,AF594,Cy3_SBS,DAPI_SBS.nd2 to input/sbs_temp/P001_SBS_10x_C9_Wells-A2_Points-001__Channel_Cy7,Cy5,AF594,Cy3_SBS,DAPI_SBS.nd2\n",
      "Copied /lab/barcheese01/screens/denali/input_sbs/c10/P001_SBS_10x_C9_Wells-A2_Points-100__Channel_Cy7,Cy5,AF594,Cy3_SBS,DAPI_SBS.nd2 to input/sbs_temp/P001_SBS_10x_C9_Wells-A2_Points-100__Channel_Cy7,Cy5,AF594,Cy3_SBS,DAPI_SBS.nd2\n",
      "Copied /lab/barcheese01/screens/denali/input_sbs/c11/P001_SBS_10x_C10_Wells-A1_Points-001__Channel_Cy7,Cy5,AF594,Cy3_SBS,DAPI_SBS.nd2 to input/sbs_temp/P001_SBS_10x_C10_Wells-A1_Points-001__Channel_Cy7,Cy5,AF594,Cy3_SBS,DAPI_SBS.nd2\n",
      "Copied /lab/barcheese01/screens/denali/input_sbs/c11/P001_SBS_10x_C10_Wells-A1_Points-100__Channel_Cy7,Cy5,AF594,Cy3_SBS,DAPI_SBS.nd2 to input/sbs_temp/P001_SBS_10x_C10_Wells-A1_Points-100__Channel_Cy7,Cy5,AF594,Cy3_SBS,DAPI_SBS.nd2\n",
      "Copied /lab/barcheese01/screens/denali/input_sbs/c11/P001_SBS_10x_C10_Wells-A2_Points-001__Channel_Cy7,Cy5,AF594,Cy3_SBS,DAPI_SBS.nd2 to input/sbs_temp/P001_SBS_10x_C10_Wells-A2_Points-001__Channel_Cy7,Cy5,AF594,Cy3_SBS,DAPI_SBS.nd2\n",
      "Copied /lab/barcheese01/screens/denali/input_sbs/c11/P001_SBS_10x_C10_Wells-A2_Points-100__Channel_Cy7,Cy5,AF594,Cy3_SBS,DAPI_SBS.nd2 to input/sbs_temp/P001_SBS_10x_C10_Wells-A2_Points-100__Channel_Cy7,Cy5,AF594,Cy3_SBS,DAPI_SBS.nd2\n"
     ]
    }
   ],
   "source": [
    "import os\n",
    "import glob\n",
    "import shutil\n",
    "\n",
    "# File patterns for SBS images\n",
    "SBS_INPUT_PATTERN = '/lab/barcheese01/screens/denali/input_sbs/c{cycle}/*Wells-{well}_Points-{tile:0>3}__Channel*.nd2'\n",
    "CYCLES = [10, 11]\n",
    "WELLS = ['A1', 'A2']\n",
    "TILES = [1, 100]\n",
    "\n",
    "output_dir = \"input/sbs_temp/\"\n",
    "\n",
    "# Ensure the output directory exists\n",
    "os.makedirs(output_dir, exist_ok=True)\n",
    "\n",
    "# Iterate over all combinations of cycles, wells, and tiles\n",
    "for cycle in CYCLES:\n",
    "    for well in WELLS:\n",
    "        for tile in TILES:\n",
    "            # Fill the pattern with the current values\n",
    "            filled_pattern = SBS_INPUT_PATTERN.format(cycle=cycle, well=well, tile=tile)\n",
    "            \n",
    "            # Use glob to find all matching files\n",
    "            matching_files = glob.glob(filled_pattern)\n",
    "            \n",
    "            # Copy each matching file to the output directory\n",
    "            for file in matching_files:\n",
    "                destination = os.path.join(output_dir, os.path.basename(file))\n",
    "                shutil.copy(file, destination)\n",
    "                print(f\"Copied {file} to {destination}\")\n"
   ]
  }
 ],
 "metadata": {
  "kernelspec": {
   "display_name": "ops_test_env",
   "language": "python",
   "name": "python3"
  },
  "language_info": {
   "codemirror_mode": {
    "name": "ipython",
    "version": 3
   },
   "file_extension": ".py",
   "mimetype": "text/x-python",
   "name": "python",
   "nbconvert_exporter": "python",
   "pygments_lexer": "ipython3",
   "version": "3.8.10"
  }
 },
 "nbformat": 4,
 "nbformat_minor": 2
}
