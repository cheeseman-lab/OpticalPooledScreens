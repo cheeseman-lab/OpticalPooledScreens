{
 "cells": [
  {
   "cell_type": "markdown",
   "metadata": {},
   "source": [
    "# Preprocessing SMK Test\n",
    "\n",
    "This notebook should be used as a test for ensuring correct SBS/phenotype image preprocessing.\n",
    "Cells marked with `SET PARAMETERS` contain crucial variables that need to be set according to your specific experimental setup and data organization.\n",
    "Please review and modify these variables as needed before proceeding with the analysis."
   ]
  },
  {
   "cell_type": "markdown",
   "metadata": {},
   "source": [
    "## Imports"
   ]
  },
  {
   "cell_type": "code",
   "execution_count": 1,
   "metadata": {},
   "outputs": [],
   "source": [
    "import glob\n",
    "from ops.preprocessing_smk import *"
   ]
  },
  {
   "cell_type": "markdown",
   "metadata": {},
   "source": [
    "## Helper Functions"
   ]
  },
  {
   "cell_type": "code",
   "execution_count": 2,
   "metadata": {},
   "outputs": [],
   "source": [
    "def find_and_parse_file(parse_function_home, parse_function_dataset, pattern, well, cycle, tiles):\n",
    "    \n",
    "    for tile in tiles:\n",
    "        # Replace placeholders in the pattern\n",
    "        filled_pattern = pattern.format(cycle=cycle, well=well, tile=f\"{tile:03d}\")\n",
    "        \n",
    "        # Find files matching the pattern\n",
    "        matching_files = glob.glob(filled_pattern)\n",
    "        \n",
    "        if matching_files:\n",
    "            # Select the first matching file\n",
    "            file_to_parse = matching_files[0]\n",
    "            print(f\"Found file for tile {tile}: {file_to_parse}\")\n",
    "            \n",
    "            # Parse the file\n",
    "            try:\n",
    "                file_description = parse_file(file_to_parse, home=parse_function_home, dataset=parse_function_dataset)\n",
    "                print(f\"File description for tile {tile}:\")\n",
    "                print(file_description)\n",
    "                print(\"-\" * 50)\n",
    "            except Exception as e:\n",
    "                print(f\"Error parsing file for tile {tile}: {e}\")\n",
    "        else:\n",
    "            print(f\"No files found matching pattern for tile {tile}: {filled_pattern}\")"
   ]
  },
  {
   "cell_type": "markdown",
   "metadata": {},
   "source": [
    "## SET PARAMETERS\n",
    "\n",
    "### Check if file patterns are according to plan\n",
    "\n",
    "- `SBS_INPUT_PATTERN` and `PH_INPUT_PATTERN`: The file naming conventions and directory structures for SBS and PH images\n",
    "- `PARSE_FUNCTION_HOME` and `PARSE_FUNCTION_DATASET`: The base directory and dataset name for the parsing function\n",
    "\n",
    "Ensure these variables accurately reflect your experimental setup to guarantee correct data processing and analysis.\n",
    "\n",
    "Acceptable ND2 File Format:\n",
    "The parsing functions expect ND2 files to follow these naming conventions:\n",
    "1. Cycle information (for SBS only) should be in a subdirectory named '/c{number}/' in the file path.\n",
    "2. Well information should be present as 'Wells-XX_' or 'WellXX_' in the filename.\n",
    "3. For multi-tile experiments, tile information should be present as 'Points-####' in the filename.\n",
    "4. Channel information should be present as 'Channel{name}_' in the filename.\n",
    "5. Phenotype images should have 'input_ph' in the file path.\n",
    "6. SBS images should have 'input_sbs' in the file path.\n",
    "\n",
    "Example acceptable filenames:\n",
    "- SBS: /lab/example/screens/dataset/input_sbs/c1/acquisition_date_folder/Wells-A1_Points-0001_ChannelDAPI_Seq0000.nd2\n",
    "- PH:  /lab/example/screens/dataset/input_ph/acquisition_date_folder/Wells-A1_Points-0001_ChannelDAPI_Seq0000.nd2"
   ]
  },
  {
   "cell_type": "code",
   "execution_count": 3,
   "metadata": {},
   "outputs": [
    {
     "name": "stdout",
     "output_type": "stream",
     "text": [
      "Testing SBS_INPUT_PATTERN:\n",
      "Found file for tile 1: input/sbs/P001_SBS_10x_C1_Wells-A1_Points-001__Channel_Cy7,Cy5,AF594,Cy3_SBS,DAPI_SBS.nd2\n",
      "File description for tile 1:\n",
      "{'home': 'input', 'dataset': 'example_dataset', 'ext': 'tif', 'well': 'A1'}\n",
      "--------------------------------------------------\n",
      "Found file for tile 100: input/sbs/P001_SBS_10x_C1_Wells-A1_Points-100__Channel_Cy7,Cy5,AF594,Cy3_SBS,DAPI_SBS.nd2\n",
      "File description for tile 100:\n",
      "{'home': 'input', 'dataset': 'example_dataset', 'ext': 'tif', 'well': 'A1'}\n",
      "--------------------------------------------------\n",
      "\n",
      "Testing PH_INPUT_PATTERN:\n",
      "Found file for tile 1: input/ph/P001_Pheno_20x_Wells-A1_Points-001__Channel_AF750,Cy3,GFP,DAPI.nd2\n",
      "File description for tile 1:\n",
      "{'home': 'input', 'dataset': 'example_dataset', 'ext': 'tif', 'well': 'A1'}\n",
      "--------------------------------------------------\n",
      "Found file for tile 100: input/ph/P001_Pheno_20x_Wells-A1_Points-100__Channel_AF750,Cy3,GFP,DAPI.nd2\n",
      "File description for tile 100:\n",
      "{'home': 'input', 'dataset': 'example_dataset', 'ext': 'tif', 'well': 'A1'}\n",
      "--------------------------------------------------\n"
     ]
    }
   ],
   "source": [
    "# File patterns for SBS and PH images\n",
    "SBS_INPUT_PATTERN = 'input/sbs/*C{cycle}_Wells-{well}_Points-{tile:0>3}__Channel*.nd2'\n",
    "PH_INPUT_PATTERN = 'input/ph/*Wells-{well}_Points-{tile:0>3}__Channel*.nd2'\n",
    "# phenotpye example files too large to be included on GitHub\n",
    "\n",
    "# Parse function parameters\n",
    "PARSE_FUNCTION_HOME = \"input\"\n",
    "PARSE_FUNCTION_DATASET = \"example_dataset\"\n",
    "\n",
    "# Test SBS_INPUT_PATTERN\n",
    "print(\"Testing SBS_INPUT_PATTERN:\")\n",
    "sbs_parsed = find_and_parse_file(PARSE_FUNCTION_HOME, PARSE_FUNCTION_DATASET, SBS_INPUT_PATTERN, well='A1', cycle=1, tiles=[1, 100])\n",
    "\n",
    "# Test PH_INPUT_PATTERN\n",
    "print(\"\\nTesting PH_INPUT_PATTERN:\")\n",
    "ph_parsed = find_and_parse_file(PARSE_FUNCTION_HOME, PARSE_FUNCTION_DATASET, PH_INPUT_PATTERN, well='A1', cycle=None, tiles=[1, 100])"
   ]
  }
 ],
 "metadata": {
  "kernelspec": {
   "display_name": "ops_test_env",
   "language": "python",
   "name": "python3"
  },
  "language_info": {
   "codemirror_mode": {
    "name": "ipython",
    "version": 3
   },
   "file_extension": ".py",
   "mimetype": "text/x-python",
   "name": "python",
   "nbconvert_exporter": "python",
   "pygments_lexer": "ipython3",
   "version": "3.11.10"
  }
 },
 "nbformat": 4,
 "nbformat_minor": 2
}
