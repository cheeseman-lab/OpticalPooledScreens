{
 "cells": [
  {
   "cell_type": "markdown",
   "metadata": {},
   "source": [
    "# Preprocessing Eval\n",
    "\n",
    "Use this notebook to ensure that the preprocessing module performed as expected.\n",
    "Cells marked with `SET PARAMETERS` contain crucial variables that need to be set according to your specific experimental setup and data organization.\n",
    "Please review and modify these variables as needed before proceeding with the analysis."
   ]
  },
  {
   "cell_type": "markdown",
   "metadata": {},
   "source": [
    "## Imports"
   ]
  },
  {
   "cell_type": "code",
   "execution_count": 2,
   "metadata": {},
   "outputs": [],
   "source": [
    "import ops\n",
    "from ops.imports_ipython import *\n",
    "import pickle \n",
    "import glob\n",
    "import tifffile\n",
    "from microfilm import microplot\n",
    "from microfilm.microplot import Micropanel"
   ]
  },
  {
   "cell_type": "markdown",
   "metadata": {},
   "source": [
    "## SET PARAMETERS"
   ]
  },
  {
   "cell_type": "code",
   "execution_count": 13,
   "metadata": {},
   "outputs": [],
   "source": [
    "# Directory for loading and saving files\n",
    "METADATA_DIR = \"output/metadata\"\n",
    "SBS_TIF_DIR = \"output/sbs_tif\"\n",
    "PH_TIF_DIR = \"output/ph_tif\"\n",
    "IC_DIR = \"output/illumination_correction\"\n",
    "EVAL_DIR = \"output/eval\"\n",
    "\n",
    "# Define wells to preprocess\n",
    "WELLS = [\"A1\", \"A2\"]\n",
    "\n",
    "# Define SBS cycles/tiles to preprocess\n",
    "SBS_CYCLES = list(range(1, 12))\n",
    "SBS_TILES = [1, 100]\n",
    "\n",
    "# Define phenotype tiles to preprocess\n",
    "PH_TILES = [1, 100]\n",
    "\n",
    "# Parse function parameters\n",
    "PARSE_FUNCTION_HOME = \"input\"\n",
    "PARSE_FUNCTION_DATASET = \"example_dataset\"\n",
    "\n",
    "# Test well and cycle to evaluate on\n",
    "TEST_WELL = \"A1\"\n",
    "TEST_CYCLE = \"c1\""
   ]
  },
  {
   "cell_type": "code",
   "execution_count": 14,
   "metadata": {},
   "outputs": [],
   "source": [
    "# Create eval directory\n",
    "os.makedirs(EVAL_DIR, exist_ok=True)\n",
    "\n",
    "# Determine number of wells and cycles\n",
    "well_num = len(WELLS)\n",
    "cycle_num = len(SBS_CYCLES)\n",
    "\n",
    "# Get all SBS/PH TIFF files\n",
    "sbs_tiff_files = glob.glob(f\"{SBS_TIF_DIR}/*.tif\")\n",
    "ph_tiff_files = glob.glob(f\"{PH_TIF_DIR}/*.tif\")"
   ]
  },
  {
   "cell_type": "markdown",
   "metadata": {},
   "source": [
    "### Check if metadata & file generation went to plan:"
   ]
  },
  {
   "cell_type": "code",
   "execution_count": 7,
   "metadata": {},
   "outputs": [
    {
     "name": "stdout",
     "output_type": "stream",
     "text": [
      "Expected number of metadata files: 24\n",
      "Actual number of metadata files: 24\n",
      "Total number of metadata rows in all PH files: 4\n",
      "Expected number of metadata entries (PH TIFF files / scaling factor): 4.0\n",
      "Total number of metadata rows in all SBS files: 44\n",
      "Expected number of metadata entries (SBS TIFF files / scaling factor): 44.0\n"
     ]
    }
   ],
   "source": [
    "# Calculate the total number of expected metadata files\n",
    "expected_metadata_files = well_num + (cycle_num * well_num)\n",
    "\n",
    "# Calculate the total number of actual metadata files\n",
    "metadata_files = [file for file in os.listdir(METADATA_DIR) if file.endswith('.pkl')]\n",
    "num_metadata_files = len(metadata_files)\n",
    "\n",
    "# Split metadata files into 20X (PH) and 10X (SBS) pickle files\n",
    "metadata_files_ph = [file for file in metadata_files if '20X' in file]\n",
    "metadata_files_sbs = [file for file in metadata_files if '10X' in file]\n",
    "\n",
    "# Print the results\n",
    "print(\"Expected number of metadata files:\", expected_metadata_files)\n",
    "print(\"Actual number of metadata files:\", num_metadata_files)\n",
    "\n",
    "# Initialize total row count for PH metadata\n",
    "total_ph_metadata_rows = 0\n",
    "\n",
    "# Iterate over each 20X (PH) metadata file\n",
    "for ph_metadata_file in metadata_files_ph:\n",
    "    # Construct the full file path\n",
    "    file_path = f\"{METADATA_DIR}/{ph_metadata_file}\"\n",
    "    \n",
    "    # Open the PKL file in binary mode and load the data\n",
    "    with open(file_path, 'rb') as file:\n",
    "        ph_metadata = pickle.load(file)\n",
    "        \n",
    "        # Assuming ph_metadata is a pandas DataFrame, add its row count to the total\n",
    "        total_ph_metadata_rows += len(ph_metadata)\n",
    "\n",
    "# Print the total row count for PH metadata\n",
    "print(\"Total number of metadata rows in all PH files:\", total_ph_metadata_rows)\n",
    "\n",
    "# Count the number of PH TIFF files\n",
    "num_ph_tiff_files = len(ph_tiff_files)\n",
    "\n",
    "# Define scaling factor (1 channel for PH images)\n",
    "scaling_factor = 1  \n",
    "\n",
    "# Calculate and print the expected number of metadata entries\n",
    "expected_ph_metadata_entries = num_ph_tiff_files / scaling_factor\n",
    "print(f\"Expected number of metadata entries (PH TIFF files / scaling factor): {expected_ph_metadata_entries}\")\n",
    "\n",
    "# Initialize total row count for SBS metadata\n",
    "total_sbs_metadata_rows = 0\n",
    "\n",
    "# Iterate over each 10X (SBS) metadata file\n",
    "for sbs_metadata_file in metadata_files_sbs:\n",
    "    # Construct the full file path\n",
    "    file_path = f\"{METADATA_DIR}/{sbs_metadata_file}\"\n",
    "    \n",
    "    # Open the PKL file in binary mode and load the data\n",
    "    with open(file_path, 'rb') as file:\n",
    "        sbs_metadata = pickle.load(file)\n",
    "        \n",
    "        # Assuming sbs_metadata is a pandas DataFrame, add its row count to the total\n",
    "        total_sbs_metadata_rows += len(sbs_metadata)\n",
    "\n",
    "# Print the total row count for SBS metadata\n",
    "print(\"Total number of metadata rows in all SBS files:\", total_sbs_metadata_rows)\n",
    "\n",
    "# Count the number of SBS TIFF files\n",
    "num_sbs_tiff_files = len(sbs_tiff_files)\n",
    "\n",
    "# Calculate scaling factor for SBS \n",
    "# 1 channel for SBS images\n",
    "scaling_factor = 1\n",
    "\n",
    "# Calculate and print the expected number of metadata entries\n",
    "expected_sbs_metadata_entries = num_sbs_tiff_files / scaling_factor\n",
    "print(f\"Expected number of metadata entries (SBS TIFF files / scaling factor): {expected_sbs_metadata_entries}\")"
   ]
  },
  {
   "cell_type": "markdown",
   "metadata": {},
   "source": [
    "### Generate maps of metadata, and check if initial sites is a logical choice"
   ]
  },
  {
   "cell_type": "code",
   "execution_count": 11,
   "metadata": {},
   "outputs": [
    {
     "name": "stdout",
     "output_type": "stream",
     "text": [
      "PH metadata file found for test well A1!\n",
      "SBS metadata file found for test well A1 and cycle c1!\n"
     ]
    }
   ],
   "source": [
    "# Find and load PH metadata for the test well\n",
    "ph_test_metadata = None\n",
    "for ph_metadata_file in metadata_files_ph:\n",
    "    if TEST_WELL in ph_metadata_file:\n",
    "        with open(f\"{METADATA_DIR}/{ph_metadata_file}\", 'rb') as f:\n",
    "            ph_test_metadata = pickle.load(f)\n",
    "        break\n",
    "\n",
    "if ph_test_metadata is not None:\n",
    "    print(f\"PH metadata file found for test well {TEST_WELL}!\")\n",
    "else:\n",
    "    print(f\"No PH metadata file found for test well {TEST_WELL}\")\n",
    "\n",
    "# Find and load SBS metadata for the test well and cycle\n",
    "sbs_test_metadata = None\n",
    "for sbs_metadata_file in metadata_files_sbs:\n",
    "    if TEST_WELL in sbs_metadata_file and TEST_CYCLE in sbs_metadata_file:\n",
    "        with open(f\"{METADATA_DIR}/{sbs_metadata_file}\", 'rb') as f:\n",
    "            sbs_test_metadata = pickle.load(f)\n",
    "        break\n",
    "\n",
    "if sbs_test_metadata is not None:\n",
    "    print(f\"SBS metadata file found for test well {TEST_WELL} and cycle {TEST_CYCLE}!\")\n",
    "else:\n",
    "    print(f\"No SBS metadata file found for test well {TEST_WELL} and cycle {TEST_CYCLE}\")"
   ]
  },
  {
   "cell_type": "code",
   "execution_count": 15,
   "metadata": {},
   "outputs": [
    {
     "data": {
      "image/png": "[encoded data removed]",
      "text/plain": [
       "<Figure size 1000x800 with 1 Axes>"
      ]
     },
     "metadata": {},
     "output_type": "display_data"
    }
   ],
   "source": [
    "sns.set(style=\"whitegrid\")\n",
    "plt.figure(figsize=(10, 8))\n",
    "\n",
    "# Scatter plot with squares for each point\n",
    "plt.scatter(ph_test_metadata['x_data'], ph_test_metadata['y_data'], \n",
    "            s=50, c='white', marker='s', edgecolors='black', \n",
    "            linewidths=1, alpha=0.7)\n",
    "\n",
    "# Label each point with the 'field_of_view' variable\n",
    "for i, txt in enumerate(ph_test_metadata['field_of_view']):\n",
    "    plt.annotate(txt, (ph_test_metadata['x_data'].iloc[i], ph_test_metadata['y_data'].iloc[i]), \n",
    "                 textcoords=\"offset points\", xytext=(0,0), ha='center', fontsize=3)\n",
    "plt.xlabel('X Position')\n",
    "plt.ylabel('Y Position')\n",
    "plt.title('Grid Plot of X-Y Positions with Field of View Labels, PH')\n",
    "\n",
    "# Save the figure as an SVG file\n",
    "plt.savefig(f\"{EVAL_DIR}/ph_metadata_example.svg\", format='svg', dpi=1200)\n",
    "plt.show()"
   ]
  }
 ],
 "metadata": {
  "kernelspec": {
   "display_name": "ops_dev",
   "language": "python",
   "name": "python3"
  },
  "language_info": {
   "codemirror_mode": {
    "name": "ipython",
    "version": 3
   },
   "file_extension": ".py",
   "mimetype": "text/x-python",
   "name": "python",
   "nbconvert_exporter": "python",
   "pygments_lexer": "ipython3",
   "version": "3.11.10"
  }
 },
 "nbformat": 4,
 "nbformat_minor": 2
}
