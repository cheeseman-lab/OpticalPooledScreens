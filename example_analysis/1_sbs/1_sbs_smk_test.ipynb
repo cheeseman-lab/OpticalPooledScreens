{
 "cells": [
  {
   "cell_type": "code",
   "execution_count": 2,
   "metadata": {},
   "outputs": [],
   "source": [
    "from ops.sbs_smk import Snake_sbs\n",
    "\n",
    "import ops\n",
    "from ops.imports_ipython import *\n",
    "from ops.qc import *\n",
    "import seaborn as sns\n",
    "from microfilm import microplot\n",
    "from microfilm.microplot import Micropanel\n",
    "import matplotlib.pyplot as plt\n",
    "import matplotlib"
   ]
  },
  {
   "cell_type": "code",
   "execution_count": 3,
   "metadata": {},
   "outputs": [],
   "source": [
    "# Function to generate file paths\n",
    "def generate_file_paths(well, tile, SBS_CYCLES, preprocess_pattern):\n",
    "    files = []\n",
    "    \n",
    "    # All cycles (all channels)\n",
    "    for cycle in SBS_CYCLES:\n",
    "        cycle_files = [preprocess_pattern.format(cycle=cycle, well=well, tile=tile)]\n",
    "        files.append(cycle_files)\n",
    "    \n",
    "    return files\n",
    "\n",
    "# Custom function to create segmentation colormap\n",
    "def random_cmap(alpha=0.5, num_colors=256):\n",
    "    \"\"\"Create random colormap for segmentation\"\"\"\n",
    "    colmat = np.random.rand(num_colors,4)\n",
    "    colmat[:,-1] = alpha\n",
    "    colmat[0, :] = [0, 0, 0, 1]  # Set the first color to black with full transparency\n",
    "    cmap = matplotlib.colors.ListedColormap(colmat)\n",
    "    return cmap"
   ]
  },
  {
   "cell_type": "code",
   "execution_count": 4,
   "metadata": {},
   "outputs": [],
   "source": [
    "# Set screen directories\n",
    "sbs_function_home = \"/lab/barcheese01/screens\"\n",
    "sbs_function_dataset = \"denali\"\n",
    "home = os.path.join(sbs_function_home, sbs_function_dataset)\n",
    "\n",
    "# Change working directory to home\n",
    "os.chdir(home)\n",
    "\n",
    "# Create the directories\n",
    "os.makedirs('sbs_1/csv', exist_ok=True)\n",
    "os.makedirs('sbs_1/tif', exist_ok=True)"
   ]
  },
  {
   "cell_type": "code",
   "execution_count": 5,
   "metadata": {},
   "outputs": [],
   "source": [
    "# Define lists of cycles\n",
    "SBS_CYCLES = [1, 2, 3, 4, 5, 6, 7, 8, 9, 10, 11] # , 12, 13\n",
    "CYCLE_FILES = None\n",
    "\n",
    "# Set wells and tiles (in this notebook, one well / tile combination to test on)\n",
    "WELLS = 'A1' \n",
    "TILES = 50\n",
    "WILDCARDS = dict(well=WELLS, tile=TILES)\n",
    "\n",
    "# Define channels\n",
    "CHANNELS = None\n",
    "\n",
    "# Define the file pattern\n",
    "preprocess_pattern = 'input_sbs_tif/10X_c{cycle}-SBS-{cycle}_{well}_Tile-{tile}.sbs.tif'\n",
    "\n",
    "# Read and format guide data\n",
    "df_design = pd.read_csv(os.path.join(home, 'sbs_1/pool10_design.csv'), index_col=None)\n",
    "df_pool = df_design.query('dialout==[0,1]').drop_duplicates('sgRNA')\n",
    "df_pool['prefix'] = df_pool.apply(lambda x: x.sgRNA[:x.prefix_length], axis=1) # 13\n",
    "barcodes = df_pool['prefix']\n",
    "\n",
    "# Define display ranges for different channels, recognized by ImageJ\n",
    "DISPLAY_RANGES = [\n",
    "    [500, 15000],  # Range for DAPI channel\n",
    "    [100, 10000],  # Range for CY3 channel\n",
    "    [100, 10000],  # Range for A594 channel\n",
    "    [200, 25000],  # Range for CY5 channel\n",
    "    [200, 25000]   # Range for CY7 channel\n",
    "]\n",
    "\n",
    "# Define LUTs (Lookup Tables) for different channels\n",
    "LUTS = [\n",
    "    ops.io.GRAY,    # Lookup table for DAPI channel\n",
    "    ops.io.GREEN,   # Lookup table for CY3 channel\n",
    "    ops.io.RED,     # Lookup table for A594 channel\n",
    "    ops.io.MAGENTA, # Lookup table for CY5 channel\n",
    "    ops.io.CYAN     # Lookup table for CY7 channel\n",
    "]"
   ]
  },
  {
   "cell_type": "code",
   "execution_count": 7,
   "metadata": {},
   "outputs": [
    {
     "name": "stdout",
     "output_type": "stream",
     "text": [
      "/lab/barcheese01/screens/denali/input_sbs_tif/10X_c1-SBS-1_A1_Tile-50.sbs.tif\n",
      "/lab/barcheese01/screens/denali/input_sbs_tif/10X_c2-SBS-2_A1_Tile-50.sbs.tif\n",
      "/lab/barcheese01/screens/denali/input_sbs_tif/10X_c3-SBS-3_A1_Tile-50.sbs.tif\n",
      "/lab/barcheese01/screens/denali/input_sbs_tif/10X_c4-SBS-4_A1_Tile-50.sbs.tif\n",
      "/lab/barcheese01/screens/denali/input_sbs_tif/10X_c5-SBS-5_A1_Tile-50.sbs.tif\n",
      "/lab/barcheese01/screens/denali/input_sbs_tif/10X_c6-SBS-6_A1_Tile-50.sbs.tif\n",
      "/lab/barcheese01/screens/denali/input_sbs_tif/10X_c7-SBS-7_A1_Tile-50.sbs.tif\n",
      "/lab/barcheese01/screens/denali/input_sbs_tif/10X_c8-SBS-8_A1_Tile-50.sbs.tif\n",
      "/lab/barcheese01/screens/denali/input_sbs_tif/10X_c9-SBS-9_A1_Tile-50.sbs.tif\n",
      "/lab/barcheese01/screens/denali/input_sbs_tif/10X_c10-SBS-10_A1_Tile-50.sbs.tif\n",
      "/lab/barcheese01/screens/denali/input_sbs_tif/10X_c11-SBS-11_A1_Tile-50.sbs.tif\n",
      "/lab/barcheese01/screens/denali/input_sbs_tif/10X_c1-SBS-1_A1_Tile-50.sbs.tif\n",
      "/lab/barcheese01/screens/denali/input_sbs_tif/10X_c2-SBS-2_A1_Tile-50.sbs.tif\n",
      "/lab/barcheese01/screens/denali/input_sbs_tif/10X_c3-SBS-3_A1_Tile-50.sbs.tif\n",
      "/lab/barcheese01/screens/denali/input_sbs_tif/10X_c4-SBS-4_A1_Tile-50.sbs.tif\n",
      "/lab/barcheese01/screens/denali/input_sbs_tif/10X_c5-SBS-5_A1_Tile-50.sbs.tif\n",
      "/lab/barcheese01/screens/denali/input_sbs_tif/10X_c6-SBS-6_A1_Tile-50.sbs.tif\n",
      "/lab/barcheese01/screens/denali/input_sbs_tif/10X_c7-SBS-7_A1_Tile-50.sbs.tif\n",
      "/lab/barcheese01/screens/denali/input_sbs_tif/10X_c8-SBS-8_A1_Tile-50.sbs.tif\n",
      "/lab/barcheese01/screens/denali/input_sbs_tif/10X_c9-SBS-9_A1_Tile-50.sbs.tif\n",
      "/lab/barcheese01/screens/denali/input_sbs_tif/10X_c10-SBS-10_A1_Tile-50.sbs.tif\n",
      "/lab/barcheese01/screens/denali/input_sbs_tif/10X_c11-SBS-11_A1_Tile-50.sbs.tif\n"
     ]
    }
   ],
   "source": [
    "import shutil\n",
    "\n",
    "input_files = generate_file_paths(WELLS, TILES, SBS_CYCLES, preprocess_pattern)\n",
    "all_files = [item for sublist in input_files for item in sublist]\n",
    "\n",
    "# Print the files\n",
    "for f in all_files:\n",
    "    file_path = os.path.join(home, f)\n",
    "    print(file_path)\n",
    "\n",
    "move_to_path = \"/lab/barcheese01/rkern/OpticalPooledScreens/example_analysis/example_data/sbs/input_tifs/\"\n",
    "\n",
    "# Print and copy the files\n",
    "for f in all_files:\n",
    "    file_path = os.path.join(home, f)\n",
    "    print(file_path)\n",
    "    \n",
    "    # Construct the destination path\n",
    "    dest_path = os.path.join(move_to_path, os.path.basename(file_path))\n",
    "    \n",
    "    # Copy the file\n",
    "    shutil.copy(file_path, dest_path)"
   ]
  }
 ],
 "metadata": {
  "kernelspec": {
   "display_name": "venv_ops",
   "language": "python",
   "name": "python3"
  },
  "language_info": {
   "codemirror_mode": {
    "name": "ipython",
    "version": 3
   },
   "file_extension": ".py",
   "mimetype": "text/x-python",
   "name": "python",
   "nbconvert_exporter": "python",
   "pygments_lexer": "ipython3",
   "version": "3.8.10"
  }
 },
 "nbformat": 4,
 "nbformat_minor": 2
}
