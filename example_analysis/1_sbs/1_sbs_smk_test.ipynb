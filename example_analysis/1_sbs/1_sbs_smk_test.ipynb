{
 "cells": [
  {
   "cell_type": "markdown",
   "metadata": {},
   "source": [
    "# SBS SMK Test\n",
    "\n",
    "This notebook should be used as a test for ensuring correct SBS image loading and processing before running a snakemake workflow.\n",
    "Change the parameters specified at SET PARAMETERS cells and run the notebook to ensure the functions work as intended."
   ]
  },
  {
   "cell_type": "markdown",
   "metadata": {},
   "source": [
    "## Imports"
   ]
  },
  {
   "cell_type": "markdown",
   "metadata": {},
   "source": []
  },
  {
   "cell_type": "code",
   "execution_count": 1,
   "metadata": {},
   "outputs": [
    {
     "ename": "ModuleNotFoundError",
     "evalue": "No module named 'seaborn'",
     "output_type": "error",
     "traceback": [
      "\u001b[0;31m---------------------------------------------------------------------------\u001b[0m",
      "\u001b[0;31mModuleNotFoundError\u001b[0m                       Traceback (most recent call last)",
      "Cell \u001b[0;32mIn[1], line 6\u001b[0m\n\u001b[1;32m      3\u001b[0m \u001b[38;5;28;01mfrom\u001b[39;00m \u001b[38;5;21;01mops\u001b[39;00m\u001b[38;5;21;01m.\u001b[39;00m\u001b[38;5;21;01msbs_smk\u001b[39;00m \u001b[38;5;28;01mimport\u001b[39;00m Snake_sbs\n\u001b[1;32m      5\u001b[0m \u001b[38;5;28;01mimport\u001b[39;00m \u001b[38;5;21;01mops\u001b[39;00m\n\u001b[0;32m----> 6\u001b[0m \u001b[38;5;28;01mfrom\u001b[39;00m \u001b[38;5;21;01mops\u001b[39;00m\u001b[38;5;21;01m.\u001b[39;00m\u001b[38;5;21;01mimports_ipython\u001b[39;00m \u001b[38;5;28;01mimport\u001b[39;00m \u001b[38;5;241m*\u001b[39m\n\u001b[1;32m      7\u001b[0m \u001b[38;5;28;01mfrom\u001b[39;00m \u001b[38;5;21;01mops\u001b[39;00m\u001b[38;5;21;01m.\u001b[39;00m\u001b[38;5;21;01mqc\u001b[39;00m \u001b[38;5;28;01mimport\u001b[39;00m \u001b[38;5;241m*\u001b[39m\n\u001b[1;32m      8\u001b[0m \u001b[38;5;28;01mimport\u001b[39;00m \u001b[38;5;21;01mseaborn\u001b[39;00m \u001b[38;5;28;01mas\u001b[39;00m \u001b[38;5;21;01msns\u001b[39;00m\n",
      "File \u001b[0;32m~/OpticalPooledScreens/ops/imports_ipython.py:16\u001b[0m\n\u001b[1;32m     13\u001b[0m IPython\u001b[38;5;241m.\u001b[39mget_ipython()\u001b[38;5;241m.\u001b[39mrun_line_magic(\u001b[38;5;124m'\u001b[39m\u001b[38;5;124mautoreload\u001b[39m\u001b[38;5;124m'\u001b[39m, \u001b[38;5;124m'\u001b[39m\u001b[38;5;124m2\u001b[39m\u001b[38;5;124m'\u001b[39m)\n\u001b[1;32m     15\u001b[0m \u001b[38;5;28;01mimport\u001b[39;00m \u001b[38;5;21;01mmatplotlib\u001b[39;00m\u001b[38;5;21;01m.\u001b[39;00m\u001b[38;5;21;01mpyplot\u001b[39;00m \u001b[38;5;28;01mas\u001b[39;00m \u001b[38;5;21;01mplt\u001b[39;00m\n\u001b[0;32m---> 16\u001b[0m \u001b[38;5;28;01mimport\u001b[39;00m \u001b[38;5;21;01mseaborn\u001b[39;00m \u001b[38;5;28;01mas\u001b[39;00m \u001b[38;5;21;01msns\u001b[39;00m\n\u001b[1;32m     18\u001b[0m \u001b[38;5;28;01mfrom\u001b[39;00m \u001b[38;5;21;01mtqdm\u001b[39;00m\u001b[38;5;21;01m.\u001b[39;00m\u001b[38;5;21;01mauto\u001b[39;00m \u001b[38;5;28;01mimport\u001b[39;00m tqdm\n\u001b[1;32m     19\u001b[0m \u001b[38;5;66;03m# Add a progress_apply method to pandas GroupBy objects\u001b[39;00m\n",
      "\u001b[0;31mModuleNotFoundError\u001b[0m: No module named 'seaborn'"
     ]
    }
   ],
   "source": [
    "from pathlib import Path\n",
    "\n",
    "from ops.sbs_smk import Snake_sbs\n",
    "\n",
    "import ops\n",
    "from ops.imports_ipython import *\n",
    "from ops.qc import *\n",
    "import seaborn as sns\n",
    "from microfilm import microplot\n",
    "from microfilm.microplot import Micropanel\n",
    "import matplotlib.pyplot as plt\n",
    "import matplotlib"
   ]
  },
  {
   "cell_type": "markdown",
   "metadata": {},
   "source": [
    "## Tile-Based SBS"
   ]
  },
  {
   "cell_type": "markdown",
   "metadata": {},
   "source": [
    "### SET PARAMETERS\n",
    "\n",
    "The following cell contains crucial variables that need to be set according to your specific experimental setup and data organization. Please review and modify these variables as needed before proceeding with the analysis.\n",
    "\n",
    "- `SBS_CYCLES`: The number and order of SBS cycles\n",
    "- `WELLS` and `TILES`: The well and tile you want to analyze (for this notebook, we're using one well/tile combination for testing)\n",
    "- `CHANNELS` and `preprocess_pattern`: The channel names and file naming conventions\n",
    "- `DF_DESIGN_PATH`: The path to your guide RNA design file\n",
    "- `DISPLAY_RANGES` and `LUTS`: The display ranges and color schemes (Look-Up Tables) for your image data\n",
    "- `SEGMENTATION_CYCLE`: Determines which cycle is used for segmentation and illumination correction. Typically, this is set to the cycle with the brightest or clearest signal for cell boundaries, but in the case that we have just taken one multichannel image, it is set to that.\n",
    "- `DAPI_INDEX`: The index of the DAPI channel in your image stack (0-indexed). Typically 0 for the DAPI channel from sequencing.\n",
    "- `CYTO_CHANNEL`: The index of the cytoplasmic channel in your image stack (0-indexed). Typically the channel that best outlines cell boundaries, usually base C.\n",
    "- `NUCLEI_DIAMETER`: Expected cell nuclei diameter. Used by CellPose during segmentation.\n",
    "- `CELL_DIAMETER`: Expected cell cytoplasm diameter. Used by CellPose during segmentation.\n",
    "- `CYTO_MODEL`: CellPose cyto model to use during segmentation.\n",
    "- `THRESHOLD_READS`: The intensity threshold for detecting sequencing reads. Adjust this value based on the signal-to-noise ratio in your data.\n",
    "- `BASES`: The order of bases used in your sequencing. This should match the order of channels in your sequencing data.\n",
    "The following cell contains an important parameter for filtering sequencing reads based on their quality. Please review and adjust this variable based on your specific experimental needs before proceeding with the analysis.\n",
    "- `Q_MIN`: The minimum Levenshtein distance allowed between a read and its closest barcode match. A value of 0 means only perfect matches are accepted, while higher values allow for more mismatches. A lower value increases stringency but may reduce the number of accepted reads, while a higher value allows for more reads but may increase false positives.\n",
    "\n",
    "Ensure these variables accurately reflect your experimental setup to guarantee correct data processing and analysis."
   ]
  },
  {
   "cell_type": "code",
   "execution_count": null,
   "metadata": {},
   "outputs": [],
   "source": [
    "# Define lists of cycles\n",
    "SBS_CYCLES = [1, 2, 3, 4, 5, 6, 7, 8, 9, 10, 11]\n",
    "CYCLE_FILES = None\n",
    "\n",
    "# Set wells and tiles (in this notebook, one well / tile combination to test on)\n",
    "WELLS = 'A1' \n",
    "TILES = 50\n",
    "WILDCARDS = dict(well=WELLS, tile=TILES)\n",
    "\n",
    "# Define channels\n",
    "CHANNELS = None\n",
    "\n",
    "# Define the file pattern\n",
    "INPUT_FILES_DIR = \"../example_data/sbs/input/tile_based_tifs/\"\n",
    "PREPROCESS_PATTERN = '10X_c{cycle}-SBS-{cycle}_{well}_Tile-{tile}.sbs.tif'\n",
    "\n",
    "# Read and format guide data\n",
    "DF_DESIGN_PATH = \"../example_data/sbs/input/pool10_design.csv\"\n",
    "df_design = pd.read_csv(DF_DESIGN_PATH)\n",
    "df_pool = df_design.query('dialout==[0,1]').drop_duplicates('sgRNA')\n",
    "df_pool['prefix'] = df_pool.apply(lambda x: x.sgRNA[:x.prefix_length], axis=1) # 13\n",
    "barcodes = df_pool['prefix']\n",
    "\n",
    "# Define display ranges for different channels, recognized by ImageJ\n",
    "DISPLAY_RANGES = [\n",
    "    [500, 15000],  # Range for DAPI channel\n",
    "    [100, 10000],  # Range for CY3 channel\n",
    "    [100, 10000],  # Range for A594 channel\n",
    "    [200, 25000],  # Range for CY5 channel\n",
    "    [200, 25000]   # Range for CY7 channel\n",
    "]\n",
    "\n",
    "# Define LUTs (Lookup Tables) for different channels\n",
    "LUTS = [\n",
    "    ops.io.GRAY,    # Lookup table for DAPI channel\n",
    "    ops.io.GREEN,   # Lookup table for CY3 channel\n",
    "    ops.io.RED,     # Lookup table for A594 channel\n",
    "    ops.io.MAGENTA, # Lookup table for CY5 channel\n",
    "    ops.io.CYAN     # Lookup table for CY7 channel\n",
    "]\n",
    "\n",
    "# Define segmentation cycle\n",
    "SEGMENTATION_CYCLE = -1\n",
    "\n",
    "# Define Cellpose segmentation parameters\n",
    "DAPI_INDEX = 0 \n",
    "CYTO_CHANNEL = 4  \n",
    "\n",
    "# Define segmentation parameters\n",
    "SEGMENT_METHOD = \"cellpose\"  # Options: \"cellpose\" or \"cell_2019\"\n",
    "\n",
    "# Parameters for cellpose method\n",
    "NUCLEI_DIAMETER = 13.2  # Calibrate with CellPose\n",
    "CELL_DIAMETER = 19.5    # Calibrate with CellPose\n",
    "CYTO_MODEL = \"cyto3\"\n",
    "\n",
    "# Define parameters for extracting bases\n",
    "THRESHOLD_READS = 315\n",
    "BASES = 'GTAC'\n",
    "\n",
    "# Define parameters for read mapping\n",
    "Q_MIN = 0\n",
    "\n",
    "# Output directory for notebook results\n",
    "OUTPUT_FILES_DIR = \"../example_data/sbs/input/tile_based_tifs/\""
   ]
  },
  {
   "cell_type": "code",
   "execution_count": null,
   "metadata": {},
   "outputs": [
    {
     "name": "stdout",
     "output_type": "stream",
     "text": [
      "../example_data/sbs/input/tile_based_tifs/10X_c1-SBS-1_A1_Tile-50.sbs.tif\n",
      "../example_data/sbs/input/tile_based_tifs/10X_c2-SBS-2_A1_Tile-50.sbs.tif\n",
      "../example_data/sbs/input/tile_based_tifs/10X_c3-SBS-3_A1_Tile-50.sbs.tif\n",
      "../example_data/sbs/input/tile_based_tifs/10X_c4-SBS-4_A1_Tile-50.sbs.tif\n",
      "../example_data/sbs/input/tile_based_tifs/10X_c5-SBS-5_A1_Tile-50.sbs.tif\n",
      "../example_data/sbs/input/tile_based_tifs/10X_c6-SBS-6_A1_Tile-50.sbs.tif\n",
      "../example_data/sbs/input/tile_based_tifs/10X_c7-SBS-7_A1_Tile-50.sbs.tif\n",
      "../example_data/sbs/input/tile_based_tifs/10X_c8-SBS-8_A1_Tile-50.sbs.tif\n",
      "../example_data/sbs/input/tile_based_tifs/10X_c9-SBS-9_A1_Tile-50.sbs.tif\n",
      "../example_data/sbs/input/tile_based_tifs/10X_c10-SBS-10_A1_Tile-50.sbs.tif\n",
      "../example_data/sbs/input/tile_based_tifs/10X_c11-SBS-11_A1_Tile-50.sbs.tif\n"
     ]
    },
    {
     "data": {
      "text/plain": [
       "{'subdir': '../example_data/sbs/input/tile_based_tifs',\n",
       " 'mag': '10X',\n",
       " 'well': 'A1',\n",
       " 'tile': '50',\n",
       " 'ext': 'tif',\n",
       " 'file': '../example_data/sbs/input/tile_based_tifs/10X_c1-SBS-1_A1_Tile-50.sbs.tif'}"
      ]
     },
     "execution_count": 23,
     "metadata": {},
     "output_type": "execute_result"
    }
   ],
   "source": [
    "## load files\n",
    "\n",
    "# Function to generate file paths\n",
    "def generate_file_paths(input_files_dir, preprocess_pattern, well, tile, sbs_cycles):\n",
    "    file_paths = []\n",
    "    \n",
    "    # All cycles (all channels)\n",
    "    for cycle in sbs_cycles:\n",
    "        cycle_file_name = preprocess_pattern.format(cycle=cycle, well=well, tile=tile)\n",
    "        cycle_file_path = f\"{input_files_dir}{cycle_file_name}\"\n",
    "        file_paths.append(cycle_file_path)\n",
    "    \n",
    "    return file_paths\n",
    "\n",
    "# Custom function to create segmentation colormap\n",
    "def random_cmap(alpha=0.5, num_colors=256):\n",
    "    \"\"\"Create random colormap for segmentation\"\"\"\n",
    "    colmat = np.random.rand(num_colors,4)\n",
    "    colmat[:,-1] = alpha\n",
    "    colmat[0, :] = [0, 0, 0, 1]  # Set the first color to black with full transparency\n",
    "    cmap = matplotlib.colors.ListedColormap(colmat)\n",
    "    return cmap\n",
    "\n",
    "input_image_paths = generate_file_paths(INPUT_FILES_DIR, PREPROCESS_PATTERN, WELLS, TILES, SBS_CYCLES)\n",
    "\n",
    "# Print the files\n",
    "for f in input_image_paths:\n",
    "    print(f)\n",
    "    \n",
    "# manually change saving directory to sbs_1 directory\n",
    "description = parse(input_image_paths[0])\n",
    "description.pop('cycle')\n",
    "description.pop('tag')\n",
    "description"
   ]
  },
  {
   "cell_type": "code",
   "execution_count": null,
   "metadata": {},
   "outputs": [
    {
     "name": "stdout",
     "output_type": "stream",
     "text": [
      "11\n"
     ]
    }
   ],
   "source": [
    "input_images = [read(f) for f in input_image_paths]\n",
    "print(len(input_images))"
   ]
  },
  {
   "cell_type": "code",
   "execution_count": null,
   "metadata": {},
   "outputs": [
    {
     "name": "stdout",
     "output_type": "stream",
     "text": [
      "(11, 5, 1200, 1200)\n"
     ]
    }
   ],
   "source": [
    "# This corresponds to the 'align' rule in Snakemake\n",
    "aligned = Snake_sbs._align_SBS(input_images, method='SBS_mean', cycle_files=CYCLE_FILES, upsample_factor = 1, n = 1, keep_extras=False)\n",
    "print(aligned.shape) # expected dimensions of (CYCLE, CHANNEL, I, J)\n",
    "save(name(description, tag='aligned', subdir='sbs_1/tif'), aligned, display_ranges=DISPLAY_RANGES, luts=LUTS) # play around with display ranges"
   ]
  },
  {
   "cell_type": "code",
   "execution_count": null,
   "metadata": {},
   "outputs": [],
   "source": [
    "# show aligned for one round\n",
    "g_aligned_microshow = microplot.Microimage(aligned[0,1,:,:],\n",
    "                                           cmaps = 'pure_green',\n",
    "                                           channel_names='G')\n",
    "t_aligned_microshow = microplot.Microimage(aligned[0,2,:,:],\n",
    "                                           cmaps = 'pure_yellow',\n",
    "                                           channel_names='T')\n",
    "a_aligned_microshow = microplot.Microimage(aligned[0,3,:,:],\n",
    "                                           cmaps = 'pure_magenta',\n",
    "                                           channel_names='A')\n",
    "c_aligned_microshow = microplot.Microimage(aligned[0,4,:,:],\n",
    "                                           cmaps = 'pure_cyan',\n",
    "                                           channel_names='C')\n",
    "panel = Micropanel(rows=2, cols=2, figscaling=8)\n",
    "panel.add_element([0,0], g_aligned_microshow)\n",
    "panel.add_element([0,1], t_aligned_microshow)\n",
    "panel.add_element([1,0], a_aligned_microshow)\n",
    "panel.add_element([1,1], c_aligned_microshow)\n",
    "panel.add_channel_label()"
   ]
  }
 ],
 "metadata": {
  "kernelspec": {
   "display_name": "venv_ops",
   "language": "python",
   "name": "python3"
  },
  "language_info": {
   "codemirror_mode": {
    "name": "ipython",
    "version": 3
   },
   "file_extension": ".py",
   "mimetype": "text/x-python",
   "name": "python",
   "nbconvert_exporter": "python",
   "pygments_lexer": "ipython3",
   "version": "3.11.10"
  }
 },
 "nbformat": 4,
 "nbformat_minor": 2
}
