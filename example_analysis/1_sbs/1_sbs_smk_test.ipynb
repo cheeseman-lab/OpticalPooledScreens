{
 "cells": [
  {
   "cell_type": "markdown",
   "metadata": {},
   "source": [
    "# SBS SMK Test\n",
    "\n",
    "This notebook should be used as a test for ensuring correct SBS image loading and processing before running a snakemake workflow.\n",
    "Cells marked with `SET PARAMETERS` contain crucial variables that need to be set according to your specific experimental setup and data organization.\n",
    "Please review and modify these variables as needed before proceeding with the analysis."
   ]
  },
  {
   "cell_type": "code",
   "execution_count": 5,
   "metadata": {},
   "outputs": [
    {
     "name": "stdout",
     "output_type": "stream",
     "text": [
      "Copied: /lab/barcheese01/screens/denali/input_sbs_tif/10X_c10-SBS-10_A2_Tile-1.sbs.tif to /lab/barcheese01/rkern/OpticalPooledScreens/example_analysis/1_sbs/input/sbs_tifs/10X_c10-SBS-10_A2_Tile-1.sbs.tif\n",
      "Copied: /lab/barcheese01/screens/denali/input_sbs_tif/10X_c11-SBS-11_A1_Tile-1.sbs.tif to /lab/barcheese01/rkern/OpticalPooledScreens/example_analysis/1_sbs/input/sbs_tifs/10X_c11-SBS-11_A1_Tile-1.sbs.tif\n",
      "Copied: /lab/barcheese01/screens/denali/input_sbs_tif/10X_c7-SBS-7_A2_Tile-2.sbs.tif to /lab/barcheese01/rkern/OpticalPooledScreens/example_analysis/1_sbs/input/sbs_tifs/10X_c7-SBS-7_A2_Tile-2.sbs.tif\n",
      "Copied: /lab/barcheese01/screens/denali/input_sbs_tif/10X_c4-SBS-4_A1_Tile-1.sbs.tif to /lab/barcheese01/rkern/OpticalPooledScreens/example_analysis/1_sbs/input/sbs_tifs/10X_c4-SBS-4_A1_Tile-1.sbs.tif\n",
      "Copied: /lab/barcheese01/screens/denali/input_sbs_tif/10X_c3-SBS-3_A2_Tile-2.sbs.tif to /lab/barcheese01/rkern/OpticalPooledScreens/example_analysis/1_sbs/input/sbs_tifs/10X_c3-SBS-3_A2_Tile-2.sbs.tif\n",
      "Copied: /lab/barcheese01/screens/denali/input_sbs_tif/10X_c4-SBS-4_A1_Tile-2.sbs.tif to /lab/barcheese01/rkern/OpticalPooledScreens/example_analysis/1_sbs/input/sbs_tifs/10X_c4-SBS-4_A1_Tile-2.sbs.tif\n",
      "Copied: /lab/barcheese01/screens/denali/input_sbs_tif/10X_c7-SBS-7_A1_Tile-1.sbs.tif to /lab/barcheese01/rkern/OpticalPooledScreens/example_analysis/1_sbs/input/sbs_tifs/10X_c7-SBS-7_A1_Tile-1.sbs.tif\n",
      "Copied: /lab/barcheese01/screens/denali/input_sbs_tif/10X_c6-SBS-6_A1_Tile-1.sbs.tif to /lab/barcheese01/rkern/OpticalPooledScreens/example_analysis/1_sbs/input/sbs_tifs/10X_c6-SBS-6_A1_Tile-1.sbs.tif\n",
      "Copied: /lab/barcheese01/screens/denali/input_sbs_tif/10X_c8-SBS-8_A1_Tile-1.sbs.tif to /lab/barcheese01/rkern/OpticalPooledScreens/example_analysis/1_sbs/input/sbs_tifs/10X_c8-SBS-8_A1_Tile-1.sbs.tif\n",
      "Copied: /lab/barcheese01/screens/denali/input_sbs_tif/10X_c5-SBS-5_A1_Tile-1.sbs.tif to /lab/barcheese01/rkern/OpticalPooledScreens/example_analysis/1_sbs/input/sbs_tifs/10X_c5-SBS-5_A1_Tile-1.sbs.tif\n",
      "Copied: /lab/barcheese01/screens/denali/input_sbs_tif/10X_c5-SBS-5_A2_Tile-1.sbs.tif to /lab/barcheese01/rkern/OpticalPooledScreens/example_analysis/1_sbs/input/sbs_tifs/10X_c5-SBS-5_A2_Tile-1.sbs.tif\n",
      "Copied: /lab/barcheese01/screens/denali/input_sbs_tif/10X_c8-SBS-8_A1_Tile-2.sbs.tif to /lab/barcheese01/rkern/OpticalPooledScreens/example_analysis/1_sbs/input/sbs_tifs/10X_c8-SBS-8_A1_Tile-2.sbs.tif\n",
      "Copied: /lab/barcheese01/screens/denali/input_sbs_tif/10X_c1-SBS-1_A1_Tile-1.sbs.tif to /lab/barcheese01/rkern/OpticalPooledScreens/example_analysis/1_sbs/input/sbs_tifs/10X_c1-SBS-1_A1_Tile-1.sbs.tif\n",
      "Copied: /lab/barcheese01/screens/denali/input_sbs_tif/10X_c6-SBS-6_A2_Tile-1.sbs.tif to /lab/barcheese01/rkern/OpticalPooledScreens/example_analysis/1_sbs/input/sbs_tifs/10X_c6-SBS-6_A2_Tile-1.sbs.tif\n",
      "Copied: /lab/barcheese01/screens/denali/input_sbs_tif/10X_c6-SBS-6_A2_Tile-2.sbs.tif to /lab/barcheese01/rkern/OpticalPooledScreens/example_analysis/1_sbs/input/sbs_tifs/10X_c6-SBS-6_A2_Tile-2.sbs.tif\n",
      "Copied: /lab/barcheese01/screens/denali/input_sbs_tif/10X_c6-SBS-6_A1_Tile-2.sbs.tif to /lab/barcheese01/rkern/OpticalPooledScreens/example_analysis/1_sbs/input/sbs_tifs/10X_c6-SBS-6_A1_Tile-2.sbs.tif\n",
      "Copied: /lab/barcheese01/screens/denali/input_sbs_tif/10X_c7-SBS-7_A1_Tile-2.sbs.tif to /lab/barcheese01/rkern/OpticalPooledScreens/example_analysis/1_sbs/input/sbs_tifs/10X_c7-SBS-7_A1_Tile-2.sbs.tif\n",
      "Copied: /lab/barcheese01/screens/denali/input_sbs_tif/10X_c2-SBS-2_A2_Tile-1.sbs.tif to /lab/barcheese01/rkern/OpticalPooledScreens/example_analysis/1_sbs/input/sbs_tifs/10X_c2-SBS-2_A2_Tile-1.sbs.tif\n",
      "Copied: /lab/barcheese01/screens/denali/input_sbs_tif/10X_c11-SBS-11_A1_Tile-2.sbs.tif to /lab/barcheese01/rkern/OpticalPooledScreens/example_analysis/1_sbs/input/sbs_tifs/10X_c11-SBS-11_A1_Tile-2.sbs.tif\n",
      "Copied: /lab/barcheese01/screens/denali/input_sbs_tif/10X_c9-SBS-9_A2_Tile-2.sbs.tif to /lab/barcheese01/rkern/OpticalPooledScreens/example_analysis/1_sbs/input/sbs_tifs/10X_c9-SBS-9_A2_Tile-2.sbs.tif\n",
      "Copied: /lab/barcheese01/screens/denali/input_sbs_tif/10X_c11-SBS-11_A2_Tile-2.sbs.tif to /lab/barcheese01/rkern/OpticalPooledScreens/example_analysis/1_sbs/input/sbs_tifs/10X_c11-SBS-11_A2_Tile-2.sbs.tif\n",
      "Copied: /lab/barcheese01/screens/denali/input_sbs_tif/10X_c1-SBS-1_A2_Tile-2.sbs.tif to /lab/barcheese01/rkern/OpticalPooledScreens/example_analysis/1_sbs/input/sbs_tifs/10X_c1-SBS-1_A2_Tile-2.sbs.tif\n",
      "Copied: /lab/barcheese01/screens/denali/input_sbs_tif/10X_c8-SBS-8_A2_Tile-1.sbs.tif to /lab/barcheese01/rkern/OpticalPooledScreens/example_analysis/1_sbs/input/sbs_tifs/10X_c8-SBS-8_A2_Tile-1.sbs.tif\n",
      "Copied: /lab/barcheese01/screens/denali/input_sbs_tif/10X_c4-SBS-4_A2_Tile-2.sbs.tif to /lab/barcheese01/rkern/OpticalPooledScreens/example_analysis/1_sbs/input/sbs_tifs/10X_c4-SBS-4_A2_Tile-2.sbs.tif\n",
      "Copied: /lab/barcheese01/screens/denali/input_sbs_tif/10X_c8-SBS-8_A2_Tile-2.sbs.tif to /lab/barcheese01/rkern/OpticalPooledScreens/example_analysis/1_sbs/input/sbs_tifs/10X_c8-SBS-8_A2_Tile-2.sbs.tif\n",
      "Copied: /lab/barcheese01/screens/denali/input_sbs_tif/10X_c3-SBS-3_A2_Tile-1.sbs.tif to /lab/barcheese01/rkern/OpticalPooledScreens/example_analysis/1_sbs/input/sbs_tifs/10X_c3-SBS-3_A2_Tile-1.sbs.tif\n",
      "Copied: /lab/barcheese01/screens/denali/input_sbs_tif/10X_c2-SBS-2_A1_Tile-2.sbs.tif to /lab/barcheese01/rkern/OpticalPooledScreens/example_analysis/1_sbs/input/sbs_tifs/10X_c2-SBS-2_A1_Tile-2.sbs.tif\n",
      "Copied: /lab/barcheese01/screens/denali/input_sbs_tif/10X_c9-SBS-9_A2_Tile-1.sbs.tif to /lab/barcheese01/rkern/OpticalPooledScreens/example_analysis/1_sbs/input/sbs_tifs/10X_c9-SBS-9_A2_Tile-1.sbs.tif\n",
      "Copied: /lab/barcheese01/screens/denali/input_sbs_tif/10X_c4-SBS-4_A2_Tile-1.sbs.tif to /lab/barcheese01/rkern/OpticalPooledScreens/example_analysis/1_sbs/input/sbs_tifs/10X_c4-SBS-4_A2_Tile-1.sbs.tif\n",
      "Copied: /lab/barcheese01/screens/denali/input_sbs_tif/10X_c10-SBS-10_A1_Tile-1.sbs.tif to /lab/barcheese01/rkern/OpticalPooledScreens/example_analysis/1_sbs/input/sbs_tifs/10X_c10-SBS-10_A1_Tile-1.sbs.tif\n",
      "Copied: /lab/barcheese01/screens/denali/input_sbs_tif/10X_c2-SBS-2_A2_Tile-2.sbs.tif to /lab/barcheese01/rkern/OpticalPooledScreens/example_analysis/1_sbs/input/sbs_tifs/10X_c2-SBS-2_A2_Tile-2.sbs.tif\n",
      "Copied: /lab/barcheese01/screens/denali/input_sbs_tif/10X_c10-SBS-10_A1_Tile-2.sbs.tif to /lab/barcheese01/rkern/OpticalPooledScreens/example_analysis/1_sbs/input/sbs_tifs/10X_c10-SBS-10_A1_Tile-2.sbs.tif\n",
      "Copied: /lab/barcheese01/screens/denali/input_sbs_tif/10X_c1-SBS-1_A1_Tile-2.sbs.tif to /lab/barcheese01/rkern/OpticalPooledScreens/example_analysis/1_sbs/input/sbs_tifs/10X_c1-SBS-1_A1_Tile-2.sbs.tif\n",
      "Copied: /lab/barcheese01/screens/denali/input_sbs_tif/10X_c9-SBS-9_A1_Tile-2.sbs.tif to /lab/barcheese01/rkern/OpticalPooledScreens/example_analysis/1_sbs/input/sbs_tifs/10X_c9-SBS-9_A1_Tile-2.sbs.tif\n",
      "Copied: /lab/barcheese01/screens/denali/input_sbs_tif/10X_c10-SBS-10_A2_Tile-2.sbs.tif to /lab/barcheese01/rkern/OpticalPooledScreens/example_analysis/1_sbs/input/sbs_tifs/10X_c10-SBS-10_A2_Tile-2.sbs.tif\n",
      "Copied: /lab/barcheese01/screens/denali/input_sbs_tif/10X_c5-SBS-5_A2_Tile-2.sbs.tif to /lab/barcheese01/rkern/OpticalPooledScreens/example_analysis/1_sbs/input/sbs_tifs/10X_c5-SBS-5_A2_Tile-2.sbs.tif\n",
      "Copied: /lab/barcheese01/screens/denali/input_sbs_tif/10X_c2-SBS-2_A1_Tile-1.sbs.tif to /lab/barcheese01/rkern/OpticalPooledScreens/example_analysis/1_sbs/input/sbs_tifs/10X_c2-SBS-2_A1_Tile-1.sbs.tif\n",
      "Copied: /lab/barcheese01/screens/denali/input_sbs_tif/10X_c7-SBS-7_A2_Tile-1.sbs.tif to /lab/barcheese01/rkern/OpticalPooledScreens/example_analysis/1_sbs/input/sbs_tifs/10X_c7-SBS-7_A2_Tile-1.sbs.tif\n",
      "Copied: /lab/barcheese01/screens/denali/input_sbs_tif/10X_c3-SBS-3_A1_Tile-1.sbs.tif to /lab/barcheese01/rkern/OpticalPooledScreens/example_analysis/1_sbs/input/sbs_tifs/10X_c3-SBS-3_A1_Tile-1.sbs.tif\n",
      "Copied: /lab/barcheese01/screens/denali/input_sbs_tif/10X_c3-SBS-3_A1_Tile-2.sbs.tif to /lab/barcheese01/rkern/OpticalPooledScreens/example_analysis/1_sbs/input/sbs_tifs/10X_c3-SBS-3_A1_Tile-2.sbs.tif\n",
      "Copied: /lab/barcheese01/screens/denali/input_sbs_tif/10X_c11-SBS-11_A2_Tile-1.sbs.tif to /lab/barcheese01/rkern/OpticalPooledScreens/example_analysis/1_sbs/input/sbs_tifs/10X_c11-SBS-11_A2_Tile-1.sbs.tif\n",
      "Copied: /lab/barcheese01/screens/denali/input_sbs_tif/10X_c1-SBS-1_A2_Tile-1.sbs.tif to /lab/barcheese01/rkern/OpticalPooledScreens/example_analysis/1_sbs/input/sbs_tifs/10X_c1-SBS-1_A2_Tile-1.sbs.tif\n",
      "Copied: /lab/barcheese01/screens/denali/input_sbs_tif/10X_c5-SBS-5_A1_Tile-2.sbs.tif to /lab/barcheese01/rkern/OpticalPooledScreens/example_analysis/1_sbs/input/sbs_tifs/10X_c5-SBS-5_A1_Tile-2.sbs.tif\n",
      "Copied: /lab/barcheese01/screens/denali/input_sbs_tif/10X_c9-SBS-9_A1_Tile-1.sbs.tif to /lab/barcheese01/rkern/OpticalPooledScreens/example_analysis/1_sbs/input/sbs_tifs/10X_c9-SBS-9_A1_Tile-1.sbs.tif\n"
     ]
    }
   ],
   "source": [
    "import os\n",
    "import shutil\n",
    "\n",
    "original_tifs_dir = \"/lab/barcheese01/screens/denali/input_sbs_tif\"\n",
    "new_tifs_dir = \"/lab/barcheese01/rkern/OpticalPooledScreens/example_analysis/1_sbs/input/sbs_tifs\"\n",
    "cycles = [1, 2, 3, 4, 5, 6, 7, 8, 9, 10, 11]\n",
    "wells = [\"A1\", \"A2\"]\n",
    "tiles = [1, 2]\n",
    "\n",
    "PREPROCESS_PATTERN = \"10X_c{cycle}-SBS-{cycle}_{well}_Tile-{tile}.sbs.tif\"\n",
    "\n",
    "# Generate all possible filenames based on the pattern\n",
    "valid_filenames = {\n",
    "    PREPROCESS_PATTERN.format(cycle=cycle, well=well, tile=tile)\n",
    "    for cycle in cycles\n",
    "    for well in wells\n",
    "    for tile in tiles\n",
    "}\n",
    "\n",
    "# Create new directory if it doesn't exist\n",
    "os.makedirs(new_tifs_dir, exist_ok=True)\n",
    "\n",
    "# Iterate and copy only files that match the generated patterns\n",
    "for filename in os.listdir(original_tifs_dir):\n",
    "    if filename in valid_filenames:\n",
    "        source_path = os.path.join(original_tifs_dir, filename)\n",
    "        destination_path = os.path.join(new_tifs_dir, filename)\n",
    "        shutil.copy(source_path, destination_path)\n",
    "        print(f\"Copied: {source_path} to {destination_path}\")\n",
    "\n"
   ]
  },
  {
   "cell_type": "code",
   "execution_count": 6,
   "metadata": {},
   "outputs": [
    {
     "name": "stdout",
     "output_type": "stream",
     "text": [
      "Copied: /lab/barcheese01/screens/denali/illumination_correction/10X_c11-SBS-11_A2.sbs.illumination_correction.tif to /lab/barcheese01/rkern/OpticalPooledScreens/example_analysis/1_sbs/input/sbs_ic_tifs/10X_c11-SBS-11_A2.sbs.illumination_correction.tif\n",
      "Copied: /lab/barcheese01/screens/denali/illumination_correction/10X_c11-SBS-11_A1.sbs.illumination_correction.tif to /lab/barcheese01/rkern/OpticalPooledScreens/example_analysis/1_sbs/input/sbs_ic_tifs/10X_c11-SBS-11_A1.sbs.illumination_correction.tif\n"
     ]
    }
   ],
   "source": [
    "import os\n",
    "import shutil\n",
    "\n",
    "tifs_dir = \"/lab/barcheese01/screens/denali/illumination_correction\"\n",
    "new_tifs_dir = \"/lab/barcheese01/rkern/OpticalPooledScreens/example_analysis/1_sbs/input/sbs_ic_tifs\"\n",
    "wells = [\"A1\", \"A2\"]\n",
    "# Define segmentation cycle\n",
    "SEGMENTATION_CYCLE = 11\n",
    "\n",
    "# Create new directory if it doesn't exist\n",
    "os.makedirs(new_tifs_dir, exist_ok=True)\n",
    "\n",
    "# Iterate through files in the directory and copy matching files\n",
    "for filename in os.listdir(tifs_dir):\n",
    "    for well in wells:\n",
    "        # Construct the expected filename pattern for each well\n",
    "        icf_file_pattern = f\"10X_c{SEGMENTATION_CYCLE}-SBS-{SEGMENTATION_CYCLE}_{well}.sbs.illumination_correction.tif\"\n",
    "        \n",
    "        # Copy the file if it matches the pattern\n",
    "        if filename == icf_file_pattern:\n",
    "            source_path = os.path.join(tifs_dir, filename)\n",
    "            destination_path = os.path.join(new_tifs_dir, filename)\n",
    "            shutil.copy(source_path, destination_path)\n",
    "            print(f\"Copied: {source_path} to {destination_path}\")\n"
   ]
  },
  {
   "cell_type": "markdown",
   "metadata": {},
   "source": [
    "## Imports"
   ]
  },
  {
   "cell_type": "code",
   "execution_count": null,
   "metadata": {},
   "outputs": [],
   "source": [
    "from IPython.display import display\n",
    "from microfilm import microplot\n",
    "from microfilm.microplot import Micropanel\n",
    "import matplotlib.pyplot as plt\n",
    "import matplotlib\n",
    "\n",
    "from ops.sbs_smk import Snake_sbs\n",
    "import ops\n",
    "from ops.imports_ipython import *\n",
    "from ops.qc import *"
   ]
  },
  {
   "cell_type": "markdown",
   "metadata": {},
   "source": [
    "## SET PARAMETERS\n",
    "\n",
    "The following cell contains crucial variables that need to be set according to your specific experimental setup and data organization. Please review and modify these variables as needed before proceeding with the analysis.\n",
    "\n",
    "### Loading, aligning, detecting candiate reads\n",
    "\n",
    "- `SBS_CYCLES`: The number and order of SBS cycles\n",
    "- `WELLS` and `TILES`: The well and tile you want to analyze (for this notebook, we're using one well/tile combination for testing)\n",
    "- `CHANNELS` and `preprocess_pattern`: The channel names and file naming conventions\n",
    "- `DISPLAY_RANGES` and `LUTS`: The display ranges and color schemes (Look-Up Tables) for your image data"
   ]
  },
  {
   "cell_type": "code",
   "execution_count": null,
   "metadata": {},
   "outputs": [],
   "source": [
    "# Output directory for notebook results\n",
    "INPUT_FILES_DIR = \"input\"\n",
    "OUTPUT_FILES_DIR = \"output\""
   ]
  }
 ],
 "metadata": {
  "kernelspec": {
   "display_name": "ops_dev",
   "language": "python",
   "name": "python3"
  },
  "language_info": {
   "codemirror_mode": {
    "name": "ipython",
    "version": 3
   },
   "file_extension": ".py",
   "mimetype": "text/x-python",
   "name": "python",
   "nbconvert_exporter": "python",
   "pygments_lexer": "ipython3",
   "version": "3.8.10"
  }
 },
 "nbformat": 4,
 "nbformat_minor": 2
}
