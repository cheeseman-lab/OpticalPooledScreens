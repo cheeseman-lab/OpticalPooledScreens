{
 "cells": [
  {
   "cell_type": "markdown",
   "metadata": {},
   "source": [
    "# PH SMK Test\n",
    "\n",
    "This notebook should be used as a test for ensuring correct phenotype image loading and processing before running a snakemake workflow.\n",
    "Cells marked with `SET PARAMETERS` contain crucial variables that need to be set according to your specific experimental setup and data organization.\n",
    "Please review and modify these variables as needed before proceeding with the analysis."
   ]
  },
  {
   "cell_type": "markdown",
   "metadata": {},
   "source": [
    "## Imports"
   ]
  },
  {
   "cell_type": "code",
   "execution_count": 1,
   "metadata": {},
   "outputs": [],
   "source": [
    "from IPython.display import display\n",
    "from microfilm import microplot\n",
    "from microfilm.microplot import Micropanel\n",
    "import matplotlib.pyplot as plt\n",
    "import matplotlib\n",
    "\n",
    "import ops\n",
    "from ops.firesnake import Snake\n",
    "from ops.imports_ipython import *\n",
    "from ops.qc import *"
   ]
  },
  {
   "cell_type": "markdown",
   "metadata": {},
   "source": [
    "## Helper Functions"
   ]
  },
  {
   "cell_type": "code",
   "execution_count": 2,
   "metadata": {},
   "outputs": [],
   "source": [
    "# Function to generate file paths\n",
    "def generate_file_paths(input_files_dir, preprocess_pattern, well, tile):\n",
    "    image_paths = []\n",
    "    \n",
    "    # For PH, we typically have a single multichannel image per well/tile\n",
    "    image_name = preprocess_pattern.format(well=well, tile=tile)\n",
    "    image_path = f\"{input_files_dir}/{image_name}\"\n",
    "    image_paths.append(image_path)\n",
    "    \n",
    "    return image_paths\n",
    "\n",
    "# custom function to create segmentation colormap\n",
    "def random_cmap(alpha=0.5, num_colors=256):\n",
    "    \"\"\"Create random colormap for segmentation\"\"\"\n",
    "    \n",
    "    colmat = np.random.rand(num_colors,4)\n",
    "    colmat[:,-1] = alpha\n",
    "    colmat[0, :] = [0, 0, 0, 1]  # Set the first color to black with full transparency\n",
    "    cmap = matplotlib.colors.ListedColormap(colmat)\n",
    "\n",
    "    return cmap"
   ]
  },
  {
   "cell_type": "markdown",
   "metadata": {},
   "source": [
    "## SET PARAMETERS\n",
    "\n",
    "### Loading, aligning, detecting candiate reads\n",
    "\n",
    "- `INPUT_FILES_DIR`: Directory for loading SBS image data and IC data\n",
    "- `OUPUT_FILES_DIR`: Directory for saving outputs of this notebook \n",
    "- `PREPROCESS_PATTERN`: Pattern of file names resulting from preprocessing\n",
    "- `WELLS` and `TILES`: The well and tile you want to analyze (for this notebook, we're using one well/tile combination for testing)\n",
    "- `CHANNELS` and `PREPROCESS_PATTERN`: The channel names and file naming conventions\n",
    "- `DISPLAY_RANGES` and `LUTS`: The display ranges and color schemes (Look-Up Tables) for your image data"
   ]
  },
  {
   "cell_type": "code",
   "execution_count": 3,
   "metadata": {},
   "outputs": [],
   "source": [
    "# Directory for loading and saving files\n",
    "INPUT_FILES_DIR = \"input\"\n",
    "OUTPUT_FILES_DIR = \"output/test\"\n",
    "\n",
    "# Define the file pattern\n",
    "PREPROCESS_PATTERN = '20X_{well}_Tile-{tile}.phenotype.tif'\n",
    "\n",
    "# Set wells and tiles (in this notebook, one well / tile combination to test on)\n",
    "WELLS = \"A1\"\n",
    "TILES = 1\n",
    "WILDCARDS = dict(well=WELLS, tile=TILES)\n",
    "\n",
    "# Define channels\n",
    "CHANNELS = None\n",
    "\n",
    "# Microplot information\n",
    "DISPLAY_RANGES = [\n",
    "    [500, 20000],\n",
    "    [800, 5000],\n",
    "    [800, 5000],\n",
    "    [800, 5000]\n",
    "]\n",
    "\n",
    "# Define LUTs (Lookup Tables) for different channels\n",
    "LUTS = [\n",
    "    ops.io.GRAY,    # Lookup table for DAPI channel\n",
    "    ops.io.GREEN,   # Lookup table for CY3 channel\n",
    "    ops.io.RED,     # Lookup table for A594 channel\n",
    "    ops.io.MAGENTA, # Lookup table for CY5 channel\n",
    "    ops.io.CYAN     # Lookup table for CY7 channel\n",
    "]"
   ]
  },
  {
   "cell_type": "code",
   "execution_count": 5,
   "metadata": {},
   "outputs": [
    {
     "name": "stdout",
     "output_type": "stream",
     "text": [
      "Loading input images...\n",
      "Input image shape: (4, 2400, 2400)\n",
      "Input file description: {'subdir': 'input/ph_tifs', 'mag': '20X', 'well': 'A1', 'tile': '1', 'ext': 'tif'}\n"
     ]
    }
   ],
   "source": [
    "print(\"Loading input images...\")\n",
    "input_image_paths = generate_file_paths(\n",
    "    f\"{INPUT_FILES_DIR}/ph_tifs\", PREPROCESS_PATTERN, WELLS, TILES\n",
    ")\n",
    "input_image = read(input_image_paths[0])\n",
    "print(f\"Input image shape: {input_image.shape}\")\n",
    "# parse description from input image\n",
    "description = parse(input_image_paths[0])\n",
    "keys_to_remove = [\"cycle\", \"tag\", \"file\"]\n",
    "for key in keys_to_remove:\n",
    "    description.pop(key, None)\n",
    "print(f\"Input file description: {description}\")"
   ]
  }
 ],
 "metadata": {
  "kernelspec": {
   "display_name": "ops_dev",
   "language": "python",
   "name": "python3"
  },
  "language_info": {
   "codemirror_mode": {
    "name": "ipython",
    "version": 3
   },
   "file_extension": ".py",
   "mimetype": "text/x-python",
   "name": "python",
   "nbconvert_exporter": "python",
   "pygments_lexer": "ipython3",
   "version": "3.11.10"
  }
 },
 "nbformat": 4,
 "nbformat_minor": 2
}
