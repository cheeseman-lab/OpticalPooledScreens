{
 "cells": [
  {
   "cell_type": "code",
   "execution_count": 1,
   "id": "44af52ef-149a-4f0a-8d0d-c8d4383bf8f9",
   "metadata": {
    "tags": []
   },
   "outputs": [],
   "source": [
    "import ops\n",
    "import glob\n",
    "import os\n",
    "from ops.preprocessing_smk import *\n",
    "\n",
    "def find_and_parse_file(pattern, well='A1', cycle=None, channels=None, channel_parse=False):\n",
    "    \"\"\"\n",
    "    Find and parse files based on the given pattern and parameters.\n",
    "    \n",
    "    Args:\n",
    "        pattern (str): File pattern to search for.\n",
    "        well (str): Well identifier (default: 'A1').\n",
    "        cycle (int): Cycle number for SBS images (default: None).\n",
    "        channels (str or list): Channel(s) to process (default: None).\n",
    "        channel_parse (bool): Whether to parse channels (default: False).\n",
    "    \"\"\"\n",
    "    if channels is None:\n",
    "        channels = ['']  # Default to empty string if no channels specified\n",
    "    elif isinstance(channels, str):\n",
    "        channels = [channels]  # Convert single channel string to a list\n",
    "        \n",
    "    for channel in channels:\n",
    "        # Replace placeholders in the pattern\n",
    "        filled_pattern = pattern.format(cycle=cycle, well=well, channel=channel)\n",
    "        \n",
    "        # Find files matching the pattern\n",
    "        matching_files = glob.glob(filled_pattern)\n",
    "        \n",
    "        if matching_files:\n",
    "            # Select the first matching file\n",
    "            file_to_parse = matching_files[0]\n",
    "            print(f\"Found file for channel {channel}: {file_to_parse}\")\n",
    "            \n",
    "            # Parse the file\n",
    "            try:\n",
    "                file_description = parse_file(file_to_parse, home=parse_function_home, dataset=parse_function_dataset, channels=channel_parse)\n",
    "                print(f\"File description for channel {channel}:\")\n",
    "                print(file_description)\n",
    "                print(\"-\" * 50)\n",
    "            except Exception as e:\n",
    "                print(f\"Error parsing file for channel {channel}: {e}\")\n",
    "        else:\n",
    "            print(f\"No files found matching pattern for channel {channel}: {filled_pattern}\")\n"
   ]
  },
  {
   "cell_type": "markdown",
   "id": "806e3933-28f5-4759-bc01-f994746aae40",
   "metadata": {},
   "source": [
    "### Check if file patterns are according to plan:"
   ]
  },
  {
   "cell_type": "markdown",
   "id": "85687823-30f3-4cb8-8492-eb9c9874ca0a",
   "metadata": {},
   "source": [
    "The following cell contains crucial variables that need to be set according to your specific experimental setup and data organization. Please review and modify these variables as needed before proceeding with the analysis.\n",
    "\n",
    "- `PH_CHANNELS` and `SBS_CHANNELS`: The channel names for Phenotyping and Sequencing By Synthesis images\n",
    "- `SBS_INPUT_PATTERN` and `PH_INPUT_PATTERN`: The file naming conventions and directory structures for SBS and PH images\n",
    "- `parse_function_home` and `parse_function_dataset`: The base directory and dataset name for the parsing function\n",
    "\n",
    "Ensure these variables accurately reflect your experimental setup to guarantee correct data processing and analysis.\n",
    "\n",
    "Acceptable ND2 File Format:\n",
    "The parsing functions expect ND2 files to follow these naming conventions:\n",
    "1. Cycle information (for SBS only) should be in a subdirectory named '/c{number}/' in the file path.\n",
    "2. Well information should be present as 'Wells-XX_' or 'WellXX_' in the filename.\n",
    "3. For multi-tile experiments, tile information should be present as 'Points-####' in the filename.\n",
    "4. Channel information should be present as 'Channel{name}_' in the filename.\n",
    "5. Phenotype images should have 'input_ph' in the file path.\n",
    "6. SBS images should have 'input_sbs' in the file path.\n",
    "\n",
    "Example acceptable filenames:\n",
    "\n",
    "With tile information:\n",
    "- SBS: /lab/example/screens/dataset/input_sbs/c1/acquisition_date_folder/Wells-A1_Points-0001_ChannelDAPI_Seq0000.nd2\n",
    "- PH:  /lab/example/screens/dataset/input_ph/acquisition_date_folder/Wells-A1_Points-0001_ChannelDAPI_Seq0000.nd2\n",
    "\n",
    "Without tile information:\n",
    "- SBS: /lab/example/screens/dataset/input_sbs/c1/acquisition_date_folder/Wells-A1_ChannelDAPI_Seq0000.nd2\n",
    "- PH:  /lab/example/screens/dataset/input_ph/acquisition_date_folder/Wells-A1_ChannelDAPI_Seq0000.nd2"
   ]
  },
  {
   "cell_type": "code",
   "execution_count": 2,
   "id": "85a6bd20-9160-42cf-9daa-745354a81fa6",
   "metadata": {
    "tags": []
   },
   "outputs": [
    {
     "name": "stdout",
     "output_type": "stream",
     "text": [
      "\n",
      "Testing SBS_INPUT_PATTERN with multichannel:\n",
      "Found file for channel DAPI-CY3_30p_545-A594_30p-CY5_30p-CY7_30p: /lab/barcheese01/screens/aconcagua/input_sbs/c1/20200218_141421_172/WellA1_ChannelDAPI-CY3_30p_545-A594_30p-CY5_30p-CY7_30p_Seq0000.nd2\n",
      "File description for channel DAPI-CY3_30p_545-A594_30p-CY5_30p-CY7_30p:\n",
      "{'home': '/lab/barcheese01/screens', 'dataset': 'aconcagua', 'ext': 'tif', 'well': 'A1', 'channel': 'DAPI-CY3_30p_545-A594_30p-CY5_30p-CY7_30p', 'mag': '10X', 'tag': 'sbs', 'cycle': 'c1-SBS-1', 'subdir': 'input_sbs_tif'}\n",
      "--------------------------------------------------\n",
      "\n",
      "Testing SBS_INPUT_PATTERN with individual channels:\n",
      "Found file for channel CY3_30p_545: /lab/barcheese01/screens/aconcagua/input_sbs/c2/20200224_101922_191/WellA1_ChannelCY3_30p_545_Seq0000.nd2\n",
      "File description for channel CY3_30p_545:\n",
      "{'home': '/lab/barcheese01/screens', 'dataset': 'aconcagua', 'ext': 'tif', 'well': 'A1', 'channel': 'CY3_30p_545', 'mag': '10X', 'tag': 'sbs', 'cycle': 'c2-SBS-2', 'subdir': 'input_sbs_tif'}\n",
      "--------------------------------------------------\n",
      "Found file for channel A594_30p: /lab/barcheese01/screens/aconcagua/input_sbs/c2/20200224_101922_191/WellA1_ChannelA594_30p_Seq0006.nd2\n",
      "File description for channel A594_30p:\n",
      "{'home': '/lab/barcheese01/screens', 'dataset': 'aconcagua', 'ext': 'tif', 'well': 'A1', 'channel': 'A594_30p', 'mag': '10X', 'tag': 'sbs', 'cycle': 'c2-SBS-2', 'subdir': 'input_sbs_tif'}\n",
      "--------------------------------------------------\n",
      "Found file for channel CY5_30p: /lab/barcheese01/screens/aconcagua/input_sbs/c2/20200224_101922_191/WellA1_ChannelCY5_30p_Seq0012.nd2\n",
      "File description for channel CY5_30p:\n",
      "{'home': '/lab/barcheese01/screens', 'dataset': 'aconcagua', 'ext': 'tif', 'well': 'A1', 'channel': 'CY5_30p', 'mag': '10X', 'tag': 'sbs', 'cycle': 'c2-SBS-2', 'subdir': 'input_sbs_tif'}\n",
      "--------------------------------------------------\n",
      "Found file for channel CY7_30p: /lab/barcheese01/screens/aconcagua/input_sbs/c2/20200224_101922_191/WellA1_ChannelCY7_30p_Seq0018.nd2\n",
      "File description for channel CY7_30p:\n",
      "{'home': '/lab/barcheese01/screens', 'dataset': 'aconcagua', 'ext': 'tif', 'well': 'A1', 'channel': 'CY7_30p', 'mag': '10X', 'tag': 'sbs', 'cycle': 'c2-SBS-2', 'subdir': 'input_sbs_tif'}\n",
      "--------------------------------------------------\n",
      "\n",
      "Testing PH_INPUT_PATTERN:\n",
      "Found file for channel DAPI_1x1-GFP_1x1: /lab/barcheese01/screens/aconcagua/input_ph/DAPI-GFP-A594-AF750/20200205_173225_166/WellA1_ChannelDAPI_1x1-GFP_1x1_Seq0012.nd2\n",
      "File description for channel DAPI_1x1-GFP_1x1:\n",
      "{'home': '/lab/barcheese01/screens', 'dataset': 'aconcagua', 'ext': 'tif', 'well': 'A1', 'channel': 'DAPI_1x1-GFP_1x1', 'mag': '20X', 'tag': 'phenotype', 'subdir': 'input_ph_tif'}\n",
      "--------------------------------------------------\n",
      "Found file for channel A594_1x1: /lab/barcheese01/screens/aconcagua/input_ph/DAPI-GFP-A594-AF750/20200205_173225_166/WellA1_ChannelA594_1x1_Seq0001.nd2\n",
      "File description for channel A594_1x1:\n",
      "{'home': '/lab/barcheese01/screens', 'dataset': 'aconcagua', 'ext': 'tif', 'well': 'A1', 'channel': 'A594_1x1', 'mag': '20X', 'tag': 'phenotype', 'subdir': 'input_ph_tif'}\n",
      "--------------------------------------------------\n",
      "Found file for channel AF750_1x1: /lab/barcheese01/screens/aconcagua/input_ph/DAPI-GFP-A594-AF750/20200205_173225_166/WellA1_ChannelAF750_1x1_Seq0000.nd2\n",
      "File description for channel AF750_1x1:\n",
      "{'home': '/lab/barcheese01/screens', 'dataset': 'aconcagua', 'ext': 'tif', 'well': 'A1', 'channel': 'AF750_1x1', 'mag': '20X', 'tag': 'phenotype', 'subdir': 'input_ph_tif'}\n",
      "--------------------------------------------------\n"
     ]
    }
   ],
   "source": [
    "# Define channels for PH (Phenotyping) and SBS (Sequencing By Synthesis) images\n",
    "PH_CHANNELS = ['DAPI_1x1-GFP_1x1', 'A594_1x1', 'AF750_1x1']  \n",
    "SBS_CHANNELS = ['DAPI-CY3_30p_545-A594_30p-CY5_30p-CY7_30p', 'CY3_30p_545', 'A594_30p', 'CY5_30p', 'CY7_30p']\n",
    "\n",
    "# File patterns for SBS and PH images\n",
    "SBS_INPUT_PATTERN = '/lab/barcheese01/screens/aconcagua/input_sbs/c{cycle}/**/Well{well}*Channel{channel}_Seq*.nd2'\n",
    "PH_INPUT_PATTERN = '/lab/barcheese01/screens/aconcagua/input_ph/**/**/Well{well}*Channel{channel}_Seq*.nd2'\n",
    "\n",
    "# Parse function parameters\n",
    "parse_function_home = \"/lab/barcheese01/screens\"\n",
    "parse_function_dataset = \"aconcagua\"\n",
    "\n",
    "# Test SBS_INPUT_PATTERN with multichannel\n",
    "print(\"\\nTesting SBS_INPUT_PATTERN with multichannel:\")\n",
    "sbs_multi_parsed = find_and_parse_file(SBS_INPUT_PATTERN, cycle=1, channels=SBS_CHANNELS[0], channel_parse=True)\n",
    "            \n",
    "# Test SBS_INPUT_PATTERN with individual channels\n",
    "print(\"\\nTesting SBS_INPUT_PATTERN with individual channels:\")\n",
    "sbs_parsed = find_and_parse_file(SBS_INPUT_PATTERN, cycle=2, channels=SBS_CHANNELS[1:], channel_parse=True)\n",
    "\n",
    "# Test PH_INPUT_PATTERN\n",
    "print(\"\\nTesting PH_INPUT_PATTERN:\")\n",
    "ph_parsed = find_and_parse_file(PH_INPUT_PATTERN, channels=PH_CHANNELS, channel_parse=True)"
   ]
  },
  {
   "cell_type": "code",
   "execution_count": null,
   "id": "d7451bfe-d36e-4dd8-ab88-8d8d4c7600b9",
   "metadata": {},
   "outputs": [],
   "source": []
  }
 ],
 "metadata": {
  "kernelspec": {
   "display_name": "venv_ops_new",
   "language": "python",
   "name": "venv_ops_new"
  },
  "language_info": {
   "codemirror_mode": {
    "name": "ipython",
    "version": 3
   },
   "file_extension": ".py",
   "mimetype": "text/x-python",
   "name": "python",
   "nbconvert_exporter": "python",
   "pygments_lexer": "ipython3",
   "version": "3.8.13"
  }
 },
 "nbformat": 4,
 "nbformat_minor": 5
}
