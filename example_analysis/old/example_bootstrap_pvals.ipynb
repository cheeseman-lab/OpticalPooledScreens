{
 "cells": [
  {
   "cell_type": "code",
   "execution_count": null,
   "metadata": {},
   "outputs": [],
   "source": [
    "import os\n",
    "import pandas as pd\n",
    "import numpy as np\n",
    "import ops.screen_stats\n",
    "from joblib import Parallel,delayed\n",
    "from tqdm.auto import tqdm\n",
    "from ops.utils import gb_apply_parallel\n",
    "import time"
   ]
  },
  {
   "cell_type": "code",
   "execution_count": null,
   "metadata": {},
   "outputs": [],
   "source": [
    "# read in table of (single cells x phenotype features (pre-normalized if desired))\n",
    "df = pd.read_csv('single_cell_phenotype_table.csv')"
   ]
  },
  {
   "cell_type": "code",
   "execution_count": null,
   "metadata": {},
   "outputs": [],
   "source": [
    "df_ = pd.read_hdf('/Users/lukefunk/data/202002_primary_screen/results/aggregations/interphase-reclassified_cp_phenotype_gene_medians.20210429.hdf')"
   ]
  },
  {
   "cell_type": "code",
   "execution_count": null,
   "metadata": {},
   "outputs": [],
   "source": [
    "# make representation table of cell counts per sgRNA\n",
    "df_rep = df.groupby(['gene_symbol','gene_id','sgRNA']).size().rename('count').to_frame().sort_index()"
   ]
  },
  {
   "cell_type": "code",
   "execution_count": null,
   "metadata": {},
   "outputs": [],
   "source": [
    "# get unique representation values to avoid re-calculating bootstrapped distributions for the same sample sizes\n",
    "unique_reps = df_rep['count'].unique()"
   ]
  },
  {
   "cell_type": "code",
   "execution_count": null,
   "metadata": {},
   "outputs": [],
   "source": [
    "len(df_rep),len(unique_reps)"
   ]
  },
  {
   "cell_type": "code",
   "execution_count": null,
   "metadata": {},
   "outputs": [],
   "source": [
    "# list of features to calculate p-values for\n",
    "features = [\n",
    "    'nucleus_dapi_int',\n",
    "    'nucleus_gh2ax_mean',\n",
    "    'cell_tubulin_mean',\n",
    "    'cell_phalloidin_mean',\n",
    "]"
   ]
  },
  {
   "cell_type": "code",
   "execution_count": null,
   "metadata": {},
   "outputs": [],
   "source": [
    "# compute median feature values for each sgRNA\n",
    "# for large datasets, this can be computationally expensive and should be parallelized (and saved to avoid re-computation)\n",
    "df_medians = df.groupby(['gene_symbol','gene_id','sgRNA'])[features].median()"
   ]
  },
  {
   "cell_type": "code",
   "execution_count": null,
   "metadata": {},
   "outputs": [],
   "source": [
    "df_guide_summary = pd.concat([df_rep,df_medians],axis=1).sort_index()"
   ]
  },
  {
   "cell_type": "code",
   "execution_count": null,
   "metadata": {},
   "outputs": [],
   "source": [
    "# get list of non-targeting sgRNA sequences\n",
    "nt_guides = list(df_rep.query('gene_id==\"-1\"').index.get_level_values(2))\n",
    "len(nt_guides)"
   ]
  },
  {
   "cell_type": "code",
   "execution_count": null,
   "metadata": {},
   "outputs": [],
   "source": [
    "# get table of (single cells x phenotype features) for non-targeting cells\n",
    "df_nt = df.query('sgRNA==@nt_guides').set_index('sgRNA')\n",
    "df_nt.pipe(len)"
   ]
  },
  {
   "cell_type": "code",
   "execution_count": null,
   "metadata": {},
   "outputs": [],
   "source": [
    "arr=[]\n",
    "for f in tqdm(features):\n",
    "    \n",
    "    t = time.time()\n",
    "    \n",
    "    # get desired feature values for all non-targeting cells\n",
    "    s = df_nt[f]\n",
    "    s.index.name = 'sgRNA'\n",
    "    \n",
    "    # set function to return tuple of (sample size, bootstrapped distributions) (TODO: clean up)\n",
    "    sgRNA_bootstrapper = lambda x:(\n",
    "        x,\n",
    "        ops.screen_stats.bootstrap_within_guides(s,n_cells=x,n_reps=100000,statistic=np.median,tqdm=False,n_jobs=1))\n",
    "    \n",
    "    # calculate bootstrap distributions for each sample size in parallel for the given feature\n",
    "    bootstrap_distributions = Parallel(n_jobs=-1,backend='loky')(\n",
    "        delayed(sgRNA_bootstrapper)(sample_size) for sample_size in tqdm(unique_reps))\n",
    "\n",
    "    bootstrap_distributions = {k:list(val) for k,val in bootstrap_distributions}\n",
    "    \n",
    "    print(f'guides bootstrapped for {f} in {(time.time()-t)/60} minutes')\n",
    "    t = time.time()\n",
    "    \n",
    "    # set function to return Series (TODO: clean up)\n",
    "    gene_bootstrapper = lambda x: pd.Series({\n",
    "        # gene p-val\n",
    "        f'{f}_pval':ops.screen_stats.bootstrap_gene_pval(\n",
    "            x[f],\n",
    "            # select the sgRNA distributions to match the sample sizes\n",
    "            np.array([bootstrap_distributions[sample_size] for sample_size in x['count'].tolist()]),\n",
    "            n_reps=100000,\n",
    "            gene_statistic=np.median\n",
    "            ),\n",
    "        # gene median\n",
    "        f:x[f].median()\n",
    "    })\n",
    "    \n",
    "    # parallelized compute of gene p-vals\n",
    "    df_pvals = (df_guide_summary[['count',f]]\n",
    "            .pipe(gb_apply_parallel,['gene_symbol','gene_id'],\n",
    "                  gene_bootstrapper,n_jobs=-1,backend='threading')\n",
    "           )\n",
    "    \n",
    "    \n",
    "    arr.append(df_pvals)\n",
    "    \n",
    "    print(f'genes bootstrapped for {f} in {(time.time()-t)/60} minutes')"
   ]
  },
  {
   "cell_type": "code",
   "execution_count": null,
   "metadata": {},
   "outputs": [],
   "source": [
    "df_pvals_summary = pd.concat([df_feature_pvals.set_index(['gene_symbol','gene_id']) for df_feature_pvals in arr],axis=1)"
   ]
  },
  {
   "cell_type": "code",
   "execution_count": null,
   "metadata": {},
   "outputs": [],
   "source": [
    "ax = df_pvals_summary.plot(kind='scatter',x=features[0],y=f'{features[0]}_pval')\n",
    "ax.set_yscale('log')\n",
    "ax.set_ylim([1,10**(-5)])"
   ]
  }
 ],
 "metadata": {
  "kernelspec": {
   "display_name": "Python 3",
   "language": "python",
   "name": "python3"
  },
  "language_info": {
   "codemirror_mode": {
    "name": "ipython",
    "version": 3
   },
   "file_extension": ".py",
   "mimetype": "text/x-python",
   "name": "python",
   "nbconvert_exporter": "python",
   "pygments_lexer": "ipython3",
   "version": "3.7.6"
  }
 },
 "nbformat": 4,
 "nbformat_minor": 2
}
